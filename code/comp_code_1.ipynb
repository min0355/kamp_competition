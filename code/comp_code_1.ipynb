{
 "cells": [
  {
   "cell_type": "code",
   "execution_count": 1,
   "id": "371a2e97",
   "metadata": {},
   "outputs": [
    {
     "data": {
      "text/html": [],
      "text/plain": [
       "<IPython.core.display.HTML object>"
      ]
     },
     "metadata": {},
     "output_type": "display_data"
    },
    {
     "name": "stdout",
     "output_type": "stream",
     "text": [
      "Setup Complete\n"
     ]
    }
   ],
   "source": [
    "# 가로로 넓게 쓰기\n",
    "from IPython.core.display import display, HTML  \n",
    "display(HTML(\"\"))\n",
    "\n",
    "print(\"Setup Complete\")"
   ]
  },
  {
   "cell_type": "code",
   "execution_count": 2,
   "id": "3ff16cce",
   "metadata": {},
   "outputs": [],
   "source": [
    "import time \n",
    "import datetime\n",
    "from datetime import datetime\n",
    "\n",
    "import pandas as pd\n",
    "import numpy as np\n",
    "import os\n",
    "\n",
    "import matplotlib\n",
    "import matplotlib.pyplot as plt\n",
    "import seaborn as sns\n",
    "sns.set_style('whitegrid')\n",
    "\n",
    "import pandas_profiling \n",
    "from tqdm.auto import tqdm\n",
    "from sklearn.preprocessing import MinMaxScaler\n",
    "\n",
    "import warnings\n",
    "warnings.filterwarnings('ignore')"
   ]
  },
  {
   "cell_type": "code",
   "execution_count": 3,
   "id": "af0c070c",
   "metadata": {},
   "outputs": [
    {
     "data": {
      "text/html": [
       "<div>\n",
       "<style scoped>\n",
       "    .dataframe tbody tr th:only-of-type {\n",
       "        vertical-align: middle;\n",
       "    }\n",
       "\n",
       "    .dataframe tbody tr th {\n",
       "        vertical-align: top;\n",
       "    }\n",
       "\n",
       "    .dataframe thead th {\n",
       "        text-align: right;\n",
       "    }\n",
       "</style>\n",
       "<table border=\"1\" class=\"dataframe\">\n",
       "  <thead>\n",
       "    <tr style=\"text-align: right;\">\n",
       "      <th></th>\n",
       "      <th>STD_DT</th>\n",
       "      <th>NUM</th>\n",
       "      <th>MELT_TEMP</th>\n",
       "      <th>MOTORSPEED</th>\n",
       "      <th>MELT_WEIGHT</th>\n",
       "      <th>INSP</th>\n",
       "      <th>TAG</th>\n",
       "    </tr>\n",
       "  </thead>\n",
       "  <tbody>\n",
       "    <tr>\n",
       "      <th>0</th>\n",
       "      <td>2020-03-04 0:00</td>\n",
       "      <td>0</td>\n",
       "      <td>489</td>\n",
       "      <td>116</td>\n",
       "      <td>631</td>\n",
       "      <td>3.19</td>\n",
       "      <td>OK</td>\n",
       "    </tr>\n",
       "    <tr>\n",
       "      <th>1</th>\n",
       "      <td>2020-03-04 0:00</td>\n",
       "      <td>1</td>\n",
       "      <td>433</td>\n",
       "      <td>78</td>\n",
       "      <td>609</td>\n",
       "      <td>3.19</td>\n",
       "      <td>OK</td>\n",
       "    </tr>\n",
       "    <tr>\n",
       "      <th>2</th>\n",
       "      <td>2020-03-04 0:00</td>\n",
       "      <td>2</td>\n",
       "      <td>464</td>\n",
       "      <td>154</td>\n",
       "      <td>608</td>\n",
       "      <td>3.19</td>\n",
       "      <td>OK</td>\n",
       "    </tr>\n",
       "    <tr>\n",
       "      <th>3</th>\n",
       "      <td>2020-03-04 0:00</td>\n",
       "      <td>3</td>\n",
       "      <td>379</td>\n",
       "      <td>212</td>\n",
       "      <td>606</td>\n",
       "      <td>3.19</td>\n",
       "      <td>OK</td>\n",
       "    </tr>\n",
       "    <tr>\n",
       "      <th>4</th>\n",
       "      <td>2020-03-04 0:00</td>\n",
       "      <td>4</td>\n",
       "      <td>798</td>\n",
       "      <td>1736</td>\n",
       "      <td>604</td>\n",
       "      <td>3.21</td>\n",
       "      <td>OK</td>\n",
       "    </tr>\n",
       "  </tbody>\n",
       "</table>\n",
       "</div>"
      ],
      "text/plain": [
       "            STD_DT  NUM  MELT_TEMP  MOTORSPEED  MELT_WEIGHT  INSP TAG\n",
       "0  2020-03-04 0:00    0        489         116          631  3.19  OK\n",
       "1  2020-03-04 0:00    1        433          78          609  3.19  OK\n",
       "2  2020-03-04 0:00    2        464         154          608  3.19  OK\n",
       "3  2020-03-04 0:00    3        379         212          606  3.19  OK\n",
       "4  2020-03-04 0:00    4        798        1736          604  3.21  OK"
      ]
     },
     "execution_count": 3,
     "metadata": {},
     "output_type": "execute_result"
    }
   ],
   "source": [
    "path = \"/home/kym/ML/input/kamp/대회 과제\"\n",
    "os.chdir(path)\n",
    "\n",
    "df = pd.read_csv('competition_dataset.csv', encoding='cp949')\n",
    "df.head()"
   ]
  },
  {
   "cell_type": "code",
   "execution_count": 4,
   "id": "65558a0b",
   "metadata": {},
   "outputs": [],
   "source": [
    "df['MELT_TEMP'] = (df['MELT_TEMP'] / 10) # 용해온도, 교반속도 데이터는 소수점 1 자리 생략 \n",
    "df['MOTORSPEED'] = (df['MOTORSPEED'] / 10)\n",
    "\n",
    "result_mapping = {\n",
    "    \"OK\": 1,\n",
    "    \"NG\": 0\n",
    "}\n",
    "\n",
    "df.loc[:, \"TAG\"] = df.TAG.map(result_mapping)\n",
    "df['STD_DT'] = df['STD_DT'].apply(lambda x: pd.to_datetime(str(x), format='%Y-%m-%d %H:%M'))\n",
    "df.set_index('STD_DT', inplace=True)"
   ]
  },
  {
   "cell_type": "code",
   "execution_count": 5,
   "id": "3e6dad11",
   "metadata": {},
   "outputs": [],
   "source": [
    "# Heatmap\n",
    "\n",
    "fig, ax = plt.subplots(1, 1, figsize=(20, 20))\n",
    "df_corr = df.corr()\n",
    "\n",
    "mask = np.zeros_like(df_corr, dtype=np.bool)\n",
    "mask[np.triu_indices_from(mask)] = True\n",
    "\n",
    "sns.heatmap(df_corr, ax=ax,\n",
    "           square=True, center=0, linewidth=1,\n",
    "           cmap=sns.diverging_palette(240, 10, as_cmap=True),\n",
    "           cbar_kws={'shrink': .82},\n",
    "           mask=mask,\n",
    "           annot=True,\n",
    "           annot_kws={'size':7}\n",
    "           )\n",
    "ax.set_title(f'Correlation', loc='left', fontweight='bold')\n",
    "plt.show()"
   ]
  },
  {
   "cell_type": "code",
   "execution_count": 6,
   "id": "e233e009",
   "metadata": {},
   "outputs": [
    {
     "data": {
      "text/html": [
       "<div>\n",
       "<style scoped>\n",
       "    .dataframe tbody tr th:only-of-type {\n",
       "        vertical-align: middle;\n",
       "    }\n",
       "\n",
       "    .dataframe tbody tr th {\n",
       "        vertical-align: top;\n",
       "    }\n",
       "\n",
       "    .dataframe thead th {\n",
       "        text-align: right;\n",
       "    }\n",
       "</style>\n",
       "<table border=\"1\" class=\"dataframe\">\n",
       "  <thead>\n",
       "    <tr style=\"text-align: right;\">\n",
       "      <th></th>\n",
       "      <th>NUM</th>\n",
       "      <th>MELT_TEMP</th>\n",
       "      <th>MOTORSPEED</th>\n",
       "      <th>MELT_WEIGHT</th>\n",
       "      <th>INSP</th>\n",
       "      <th>TAG</th>\n",
       "    </tr>\n",
       "  </thead>\n",
       "  <tbody>\n",
       "    <tr>\n",
       "      <th>NUM</th>\n",
       "      <td>1.000000</td>\n",
       "      <td>0.000188</td>\n",
       "      <td>-0.000050</td>\n",
       "      <td>0.080079</td>\n",
       "      <td>-0.000524</td>\n",
       "      <td>0.086698</td>\n",
       "    </tr>\n",
       "    <tr>\n",
       "      <th>MELT_TEMP</th>\n",
       "      <td>0.000188</td>\n",
       "      <td>1.000000</td>\n",
       "      <td>0.944929</td>\n",
       "      <td>-0.000336</td>\n",
       "      <td>0.916295</td>\n",
       "      <td>0.310586</td>\n",
       "    </tr>\n",
       "    <tr>\n",
       "      <th>MOTORSPEED</th>\n",
       "      <td>-0.000050</td>\n",
       "      <td>0.944929</td>\n",
       "      <td>1.000000</td>\n",
       "      <td>0.000123</td>\n",
       "      <td>0.887813</td>\n",
       "      <td>0.264693</td>\n",
       "    </tr>\n",
       "    <tr>\n",
       "      <th>MELT_WEIGHT</th>\n",
       "      <td>0.080079</td>\n",
       "      <td>-0.000336</td>\n",
       "      <td>0.000123</td>\n",
       "      <td>1.000000</td>\n",
       "      <td>-0.000005</td>\n",
       "      <td>-0.012084</td>\n",
       "    </tr>\n",
       "    <tr>\n",
       "      <th>INSP</th>\n",
       "      <td>-0.000524</td>\n",
       "      <td>0.916295</td>\n",
       "      <td>0.887813</td>\n",
       "      <td>-0.000005</td>\n",
       "      <td>1.000000</td>\n",
       "      <td>0.272580</td>\n",
       "    </tr>\n",
       "    <tr>\n",
       "      <th>TAG</th>\n",
       "      <td>0.086698</td>\n",
       "      <td>0.310586</td>\n",
       "      <td>0.264693</td>\n",
       "      <td>-0.012084</td>\n",
       "      <td>0.272580</td>\n",
       "      <td>1.000000</td>\n",
       "    </tr>\n",
       "  </tbody>\n",
       "</table>\n",
       "</div>"
      ],
      "text/plain": [
       "                  NUM  MELT_TEMP  MOTORSPEED  MELT_WEIGHT      INSP       TAG\n",
       "NUM          1.000000   0.000188   -0.000050     0.080079 -0.000524  0.086698\n",
       "MELT_TEMP    0.000188   1.000000    0.944929    -0.000336  0.916295  0.310586\n",
       "MOTORSPEED  -0.000050   0.944929    1.000000     0.000123  0.887813  0.264693\n",
       "MELT_WEIGHT  0.080079  -0.000336    0.000123     1.000000 -0.000005 -0.012084\n",
       "INSP        -0.000524   0.916295    0.887813    -0.000005  1.000000  0.272580\n",
       "TAG          0.086698   0.310586    0.264693    -0.012084  0.272580  1.000000"
      ]
     },
     "execution_count": 6,
     "metadata": {},
     "output_type": "execute_result"
    }
   ],
   "source": [
    "# melt_weight 는 종속 변수들과 상관 관계가 거의 없음. \n",
    "\n",
    "corr = df.corr(method='pearson')\n",
    "corr"
   ]
  },
  {
   "cell_type": "code",
   "execution_count": 7,
   "id": "0a9f6f9f",
   "metadata": {},
   "outputs": [
    {
     "data": {
      "text/html": [
       "<div>\n",
       "<style scoped>\n",
       "    .dataframe tbody tr th:only-of-type {\n",
       "        vertical-align: middle;\n",
       "    }\n",
       "\n",
       "    .dataframe tbody tr th {\n",
       "        vertical-align: top;\n",
       "    }\n",
       "\n",
       "    .dataframe thead th {\n",
       "        text-align: right;\n",
       "    }\n",
       "</style>\n",
       "<table border=\"1\" class=\"dataframe\">\n",
       "  <thead>\n",
       "    <tr style=\"text-align: right;\">\n",
       "      <th></th>\n",
       "      <th>MELT_TEMP</th>\n",
       "      <th>MOTORSPEED</th>\n",
       "      <th>TAG</th>\n",
       "    </tr>\n",
       "    <tr>\n",
       "      <th>STD_DT</th>\n",
       "      <th></th>\n",
       "      <th></th>\n",
       "      <th></th>\n",
       "    </tr>\n",
       "  </thead>\n",
       "  <tbody>\n",
       "    <tr>\n",
       "      <th>2020-03-04</th>\n",
       "      <td>48.9</td>\n",
       "      <td>11.6</td>\n",
       "      <td>1</td>\n",
       "    </tr>\n",
       "    <tr>\n",
       "      <th>2020-03-04</th>\n",
       "      <td>43.3</td>\n",
       "      <td>7.8</td>\n",
       "      <td>1</td>\n",
       "    </tr>\n",
       "    <tr>\n",
       "      <th>2020-03-04</th>\n",
       "      <td>46.4</td>\n",
       "      <td>15.4</td>\n",
       "      <td>1</td>\n",
       "    </tr>\n",
       "    <tr>\n",
       "      <th>2020-03-04</th>\n",
       "      <td>37.9</td>\n",
       "      <td>21.2</td>\n",
       "      <td>1</td>\n",
       "    </tr>\n",
       "    <tr>\n",
       "      <th>2020-03-04</th>\n",
       "      <td>79.8</td>\n",
       "      <td>173.6</td>\n",
       "      <td>1</td>\n",
       "    </tr>\n",
       "  </tbody>\n",
       "</table>\n",
       "</div>"
      ],
      "text/plain": [
       "            MELT_TEMP  MOTORSPEED  TAG\n",
       "STD_DT                                \n",
       "2020-03-04       48.9        11.6    1\n",
       "2020-03-04       43.3         7.8    1\n",
       "2020-03-04       46.4        15.4    1\n",
       "2020-03-04       37.9        21.2    1\n",
       "2020-03-04       79.8       173.6    1"
      ]
     },
     "execution_count": 7,
     "metadata": {},
     "output_type": "execute_result"
    }
   ],
   "source": [
    "df1 = df[['MELT_TEMP', 'MOTORSPEED', 'TAG']]\n",
    "df1.head()"
   ]
  },
  {
   "cell_type": "code",
   "execution_count": 8,
   "id": "a7da8a4c",
   "metadata": {},
   "outputs": [],
   "source": [
    "split_data = int(df1.shape[0] * 0.7)\n",
    "\n",
    "train = df1[:split_data]\n",
    "test = df1[split_data:]"
   ]
  },
  {
   "cell_type": "code",
   "execution_count": 9,
   "id": "f4bd9e18",
   "metadata": {},
   "outputs": [
    {
     "name": "stdout",
     "output_type": "stream",
     "text": [
      "(584640, 3)\n",
      "(250560, 3)\n"
     ]
    }
   ],
   "source": [
    "print(train.shape)\n",
    "print(test.shape)"
   ]
  },
  {
   "cell_type": "code",
   "execution_count": 13,
   "id": "c2f65a23",
   "metadata": {},
   "outputs": [],
   "source": [
    "from sklearn import preprocessing \n",
    "from sklearn.model_selection import train_test_split\n",
    "from sklearn.metrics import *\n",
    "from imblearn.over_sampling import SMOTE\n",
    "\n",
    "scaler = preprocessing.MinMaxScaler()\n",
    "\n",
    "train_sc = scaler.fit_transform(train)\n",
    "test_sc = scaler.transform(test)"
   ]
  },
  {
   "cell_type": "code",
   "execution_count": 16,
   "id": "94c367e3",
   "metadata": {},
   "outputs": [
    {
     "data": {
      "text/plain": [
       "array([[0.34541985, 0.06430155, 1.        ],\n",
       "       [0.23854962, 0.04323725, 1.        ],\n",
       "       [0.29770992, 0.08536585, 1.        ],\n",
       "       ...,\n",
       "       [0.31679389, 0.08203991, 1.        ],\n",
       "       [0.1870229 , 0.03769401, 1.        ],\n",
       "       [0.32251908, 0.05820399, 1.        ]])"
      ]
     },
     "execution_count": 16,
     "metadata": {},
     "output_type": "execute_result"
    }
   ],
   "source": [
    "train_sc"
   ]
  },
  {
   "cell_type": "code",
   "execution_count": 17,
   "id": "9260e164",
   "metadata": {},
   "outputs": [],
   "source": [
    "x_train_values = train_sc[:, :-1]\n",
    "y_train_values = train_sc[:, -1]"
   ]
  },
  {
   "cell_type": "code",
   "execution_count": null,
   "id": "4de2f499",
   "metadata": {},
   "outputs": [],
   "source": []
  },
  {
   "cell_type": "code",
   "execution_count": null,
   "id": "356dbbf7",
   "metadata": {},
   "outputs": [],
   "source": []
  },
  {
   "cell_type": "code",
   "execution_count": null,
   "id": "f45647ff",
   "metadata": {},
   "outputs": [],
   "source": []
  },
  {
   "cell_type": "code",
   "execution_count": null,
   "id": "ef36df7f",
   "metadata": {},
   "outputs": [],
   "source": []
  },
  {
   "cell_type": "code",
   "execution_count": null,
   "id": "618932d2",
   "metadata": {},
   "outputs": [],
   "source": []
  },
  {
   "cell_type": "code",
   "execution_count": null,
   "id": "f784ac54",
   "metadata": {},
   "outputs": [],
   "source": []
  },
  {
   "cell_type": "code",
   "execution_count": null,
   "id": "38e01cb0",
   "metadata": {},
   "outputs": [],
   "source": []
  },
  {
   "cell_type": "code",
   "execution_count": null,
   "id": "77f37adb",
   "metadata": {},
   "outputs": [],
   "source": []
  },
  {
   "cell_type": "code",
   "execution_count": null,
   "id": "95c537be",
   "metadata": {},
   "outputs": [],
   "source": []
  },
  {
   "cell_type": "code",
   "execution_count": null,
   "id": "57f410cd",
   "metadata": {},
   "outputs": [],
   "source": []
  },
  {
   "cell_type": "code",
   "execution_count": null,
   "id": "6e2000bf",
   "metadata": {},
   "outputs": [],
   "source": []
  },
  {
   "cell_type": "code",
   "execution_count": null,
   "id": "86f92033",
   "metadata": {},
   "outputs": [],
   "source": []
  },
  {
   "cell_type": "code",
   "execution_count": null,
   "id": "5d010497",
   "metadata": {},
   "outputs": [],
   "source": []
  },
  {
   "cell_type": "code",
   "execution_count": null,
   "id": "76006843",
   "metadata": {},
   "outputs": [],
   "source": []
  },
  {
   "cell_type": "code",
   "execution_count": null,
   "id": "12a34ecc",
   "metadata": {},
   "outputs": [],
   "source": []
  },
  {
   "cell_type": "code",
   "execution_count": null,
   "id": "923140dc",
   "metadata": {},
   "outputs": [],
   "source": []
  }
 ],
 "metadata": {
  "kernelspec": {
   "display_name": "ml",
   "language": "python",
   "name": "ml"
  },
  "language_info": {
   "codemirror_mode": {
    "name": "ipython",
    "version": 3
   },
   "file_extension": ".py",
   "mimetype": "text/x-python",
   "name": "python",
   "nbconvert_exporter": "python",
   "pygments_lexer": "ipython3",
   "version": "3.9.13"
  }
 },
 "nbformat": 4,
 "nbformat_minor": 5
}
