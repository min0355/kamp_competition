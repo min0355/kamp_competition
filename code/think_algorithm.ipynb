{
 "cells": [
  {
   "cell_type": "code",
   "execution_count": 1,
   "id": "ac1e5d8e",
   "metadata": {},
   "outputs": [
    {
     "data": {
      "text/html": [],
      "text/plain": [
       "<IPython.core.display.HTML object>"
      ]
     },
     "metadata": {},
     "output_type": "display_data"
    },
    {
     "name": "stdout",
     "output_type": "stream",
     "text": [
      "Setup Complete\n"
     ]
    }
   ],
   "source": [
    "# 가로로 넓게 쓰기\n",
    "from IPython.core.display import display, HTML  \n",
    "display(HTML(\"\"))\n",
    "\n",
    "print(\"Setup Complete\")"
   ]
  },
  {
   "cell_type": "code",
   "execution_count": 2,
   "id": "8e530652",
   "metadata": {},
   "outputs": [],
   "source": [
    "import time \n",
    "import datetime\n",
    "from datetime import datetime\n",
    "\n",
    "import pandas as pd\n",
    "import numpy as np\n",
    "import os\n",
    "\n",
    "import matplotlib\n",
    "%matplotlib inline \n",
    "import matplotlib.pyplot as plt\n",
    "import seaborn as sns\n",
    "sns.set_style('whitegrid')\n",
    "\n",
    "from tqdm.auto import tqdm\n",
    "\n",
    "import warnings\n",
    "warnings.filterwarnings('ignore')"
   ]
  },
  {
   "cell_type": "code",
   "execution_count": 3,
   "id": "6a61609b",
   "metadata": {},
   "outputs": [],
   "source": [
    "from sklearn import model_selection\n",
    "\n",
    "from sklearn.preprocessing import StandardScaler\n",
    "from sklearn.preprocessing import MinMaxScaler\n",
    "\n",
    "from sklearn.model_selection import train_test_split, StratifiedKFold, KFold, cross_val_score, GridSearchCV, RepeatedStratifiedKFold, StratifiedShuffleSplit\n",
    "\n",
    "from sklearn import metrics\n",
    "from sklearn.metrics import mean_absolute_error, accuracy_score, roc_auc_score, mean_squared_error, r2_score, confusion_matrix, precision_score, recall_score, f1_score, auc, roc_curve, precision_recall_curve\n",
    "\n",
    "from sklearn import tree\n",
    "from sklearn import ensemble\n",
    "\n",
    "from sklearn.tree import DecisionTreeClassifier\n",
    "from sklearn.neighbors import KNeighborsClassifier\n",
    "\n",
    "import lightgbm as lgb\n",
    "\n",
    "import xgboost as xgb\n",
    "from xgboost import plot_importance\n",
    "from xgboost import XGBClassifier\n",
    "\n",
    "from catboost import CatBoostClassifier"
   ]
  },
  {
   "cell_type": "code",
   "execution_count": 4,
   "id": "8422c73b",
   "metadata": {},
   "outputs": [
    {
     "data": {
      "text/html": [
       "<div>\n",
       "<style scoped>\n",
       "    .dataframe tbody tr th:only-of-type {\n",
       "        vertical-align: middle;\n",
       "    }\n",
       "\n",
       "    .dataframe tbody tr th {\n",
       "        vertical-align: top;\n",
       "    }\n",
       "\n",
       "    .dataframe thead th {\n",
       "        text-align: right;\n",
       "    }\n",
       "</style>\n",
       "<table border=\"1\" class=\"dataframe\">\n",
       "  <thead>\n",
       "    <tr style=\"text-align: right;\">\n",
       "      <th></th>\n",
       "      <th>STD_DT</th>\n",
       "      <th>NUM</th>\n",
       "      <th>MELT_TEMP</th>\n",
       "      <th>MOTORSPEED</th>\n",
       "      <th>MELT_WEIGHT</th>\n",
       "      <th>INSP</th>\n",
       "      <th>TAG</th>\n",
       "    </tr>\n",
       "  </thead>\n",
       "  <tbody>\n",
       "    <tr>\n",
       "      <th>0</th>\n",
       "      <td>2020-03-04 0:00</td>\n",
       "      <td>0</td>\n",
       "      <td>489</td>\n",
       "      <td>116</td>\n",
       "      <td>631</td>\n",
       "      <td>3.19</td>\n",
       "      <td>OK</td>\n",
       "    </tr>\n",
       "    <tr>\n",
       "      <th>1</th>\n",
       "      <td>2020-03-04 0:00</td>\n",
       "      <td>1</td>\n",
       "      <td>433</td>\n",
       "      <td>78</td>\n",
       "      <td>609</td>\n",
       "      <td>3.19</td>\n",
       "      <td>OK</td>\n",
       "    </tr>\n",
       "    <tr>\n",
       "      <th>2</th>\n",
       "      <td>2020-03-04 0:00</td>\n",
       "      <td>2</td>\n",
       "      <td>464</td>\n",
       "      <td>154</td>\n",
       "      <td>608</td>\n",
       "      <td>3.19</td>\n",
       "      <td>OK</td>\n",
       "    </tr>\n",
       "    <tr>\n",
       "      <th>3</th>\n",
       "      <td>2020-03-04 0:00</td>\n",
       "      <td>3</td>\n",
       "      <td>379</td>\n",
       "      <td>212</td>\n",
       "      <td>606</td>\n",
       "      <td>3.19</td>\n",
       "      <td>OK</td>\n",
       "    </tr>\n",
       "    <tr>\n",
       "      <th>4</th>\n",
       "      <td>2020-03-04 0:00</td>\n",
       "      <td>4</td>\n",
       "      <td>798</td>\n",
       "      <td>1736</td>\n",
       "      <td>604</td>\n",
       "      <td>3.21</td>\n",
       "      <td>OK</td>\n",
       "    </tr>\n",
       "  </tbody>\n",
       "</table>\n",
       "</div>"
      ],
      "text/plain": [
       "            STD_DT  NUM  MELT_TEMP  MOTORSPEED  MELT_WEIGHT  INSP TAG\n",
       "0  2020-03-04 0:00    0        489         116          631  3.19  OK\n",
       "1  2020-03-04 0:00    1        433          78          609  3.19  OK\n",
       "2  2020-03-04 0:00    2        464         154          608  3.19  OK\n",
       "3  2020-03-04 0:00    3        379         212          606  3.19  OK\n",
       "4  2020-03-04 0:00    4        798        1736          604  3.21  OK"
      ]
     },
     "execution_count": 4,
     "metadata": {},
     "output_type": "execute_result"
    }
   ],
   "source": [
    "path = \"/home/kym/ML/input/kamp/대회 과제\"\n",
    "os.chdir(path)\n",
    "\n",
    "df = pd.read_csv('melting_tank.csv', encoding='cp949')\n",
    "df.head()"
   ]
  },
  {
   "cell_type": "code",
   "execution_count": 5,
   "id": "44a30c32",
   "metadata": {},
   "outputs": [],
   "source": [
    "df['MELT_TEMP'] = (df['MELT_TEMP'] / 10) # 용해온도, 교반속도 데이터는 소수점 1 자리 생략 \n",
    "df['MOTORSPEED'] = (df['MOTORSPEED'] / 10)\n",
    "\n",
    "result_mapping = {\n",
    "    \"OK\": 1,\n",
    "    \"NG\": 0\n",
    "}\n",
    "\n",
    "df.loc[:, \"TAG\"] = df.TAG.map(result_mapping)"
   ]
  },
  {
   "cell_type": "code",
   "execution_count": 6,
   "id": "3464972b",
   "metadata": {},
   "outputs": [],
   "source": [
    "df['STD_DT'] = df['STD_DT'].apply(lambda x: pd.to_datetime(str(x), format='%Y-%m-%d %H:%M:%S'))\n",
    "df.set_index('STD_DT', inplace=True)"
   ]
  },
  {
   "cell_type": "code",
   "execution_count": 7,
   "id": "338c44ca",
   "metadata": {},
   "outputs": [
    {
     "data": {
      "text/html": [
       "<div>\n",
       "<style scoped>\n",
       "    .dataframe tbody tr th:only-of-type {\n",
       "        vertical-align: middle;\n",
       "    }\n",
       "\n",
       "    .dataframe tbody tr th {\n",
       "        vertical-align: top;\n",
       "    }\n",
       "\n",
       "    .dataframe thead th {\n",
       "        text-align: right;\n",
       "    }\n",
       "</style>\n",
       "<table border=\"1\" class=\"dataframe\">\n",
       "  <thead>\n",
       "    <tr style=\"text-align: right;\">\n",
       "      <th></th>\n",
       "      <th>NUM</th>\n",
       "      <th>MELT_TEMP</th>\n",
       "      <th>MOTORSPEED</th>\n",
       "      <th>MELT_WEIGHT</th>\n",
       "      <th>INSP</th>\n",
       "      <th>TAG</th>\n",
       "    </tr>\n",
       "    <tr>\n",
       "      <th>STD_DT</th>\n",
       "      <th></th>\n",
       "      <th></th>\n",
       "      <th></th>\n",
       "      <th></th>\n",
       "      <th></th>\n",
       "      <th></th>\n",
       "    </tr>\n",
       "  </thead>\n",
       "  <tbody>\n",
       "    <tr>\n",
       "      <th>2020-03-04</th>\n",
       "      <td>0</td>\n",
       "      <td>48.9</td>\n",
       "      <td>11.6</td>\n",
       "      <td>631</td>\n",
       "      <td>3.19</td>\n",
       "      <td>1</td>\n",
       "    </tr>\n",
       "  </tbody>\n",
       "</table>\n",
       "</div>"
      ],
      "text/plain": [
       "            NUM  MELT_TEMP  MOTORSPEED  MELT_WEIGHT  INSP  TAG\n",
       "STD_DT                                                        \n",
       "2020-03-04    0       48.9        11.6          631  3.19    1"
      ]
     },
     "execution_count": 7,
     "metadata": {},
     "output_type": "execute_result"
    }
   ],
   "source": [
    "df.head(1)"
   ]
  },
  {
   "cell_type": "code",
   "execution_count": 8,
   "id": "0b689913",
   "metadata": {},
   "outputs": [
    {
     "data": {
      "text/html": [
       "<div>\n",
       "<style scoped>\n",
       "    .dataframe tbody tr th:only-of-type {\n",
       "        vertical-align: middle;\n",
       "    }\n",
       "\n",
       "    .dataframe tbody tr th {\n",
       "        vertical-align: top;\n",
       "    }\n",
       "\n",
       "    .dataframe thead th {\n",
       "        text-align: right;\n",
       "    }\n",
       "</style>\n",
       "<table border=\"1\" class=\"dataframe\">\n",
       "  <thead>\n",
       "    <tr style=\"text-align: right;\">\n",
       "      <th></th>\n",
       "      <th>NUM</th>\n",
       "      <th>MELT_TEMP</th>\n",
       "      <th>MOTORSPEED</th>\n",
       "      <th>MELT_WEIGHT</th>\n",
       "      <th>INSP</th>\n",
       "      <th>TAG</th>\n",
       "    </tr>\n",
       "  </thead>\n",
       "  <tbody>\n",
       "    <tr>\n",
       "      <th>count</th>\n",
       "      <td>835200.000000</td>\n",
       "      <td>835200.000000</td>\n",
       "      <td>835200.000000</td>\n",
       "      <td>835200.000000</td>\n",
       "      <td>835200.000000</td>\n",
       "      <td>835200.000000</td>\n",
       "    </tr>\n",
       "    <tr>\n",
       "      <th>mean</th>\n",
       "      <td>417599.500000</td>\n",
       "      <td>50.920062</td>\n",
       "      <td>45.978287</td>\n",
       "      <td>582.962125</td>\n",
       "      <td>3.194853</td>\n",
       "      <td>0.787994</td>\n",
       "    </tr>\n",
       "    <tr>\n",
       "      <th>std</th>\n",
       "      <td>241101.616752</td>\n",
       "      <td>12.827752</td>\n",
       "      <td>63.943641</td>\n",
       "      <td>1217.604433</td>\n",
       "      <td>0.011822</td>\n",
       "      <td>0.408729</td>\n",
       "    </tr>\n",
       "    <tr>\n",
       "      <th>min</th>\n",
       "      <td>0.000000</td>\n",
       "      <td>30.800000</td>\n",
       "      <td>0.000000</td>\n",
       "      <td>0.000000</td>\n",
       "      <td>3.170000</td>\n",
       "      <td>0.000000</td>\n",
       "    </tr>\n",
       "    <tr>\n",
       "      <th>25%</th>\n",
       "      <td>208799.750000</td>\n",
       "      <td>43.000000</td>\n",
       "      <td>11.900000</td>\n",
       "      <td>186.000000</td>\n",
       "      <td>3.190000</td>\n",
       "      <td>1.000000</td>\n",
       "    </tr>\n",
       "    <tr>\n",
       "      <th>50%</th>\n",
       "      <td>417599.500000</td>\n",
       "      <td>46.900000</td>\n",
       "      <td>16.800000</td>\n",
       "      <td>383.000000</td>\n",
       "      <td>3.190000</td>\n",
       "      <td>1.000000</td>\n",
       "    </tr>\n",
       "    <tr>\n",
       "      <th>75%</th>\n",
       "      <td>626399.250000</td>\n",
       "      <td>50.200000</td>\n",
       "      <td>21.800000</td>\n",
       "      <td>583.000000</td>\n",
       "      <td>3.200000</td>\n",
       "      <td>1.000000</td>\n",
       "    </tr>\n",
       "    <tr>\n",
       "      <th>max</th>\n",
       "      <td>835199.000000</td>\n",
       "      <td>83.200000</td>\n",
       "      <td>180.400000</td>\n",
       "      <td>55252.000000</td>\n",
       "      <td>3.230000</td>\n",
       "      <td>1.000000</td>\n",
       "    </tr>\n",
       "  </tbody>\n",
       "</table>\n",
       "</div>"
      ],
      "text/plain": [
       "                 NUM      MELT_TEMP     MOTORSPEED    MELT_WEIGHT  \\\n",
       "count  835200.000000  835200.000000  835200.000000  835200.000000   \n",
       "mean   417599.500000      50.920062      45.978287     582.962125   \n",
       "std    241101.616752      12.827752      63.943641    1217.604433   \n",
       "min         0.000000      30.800000       0.000000       0.000000   \n",
       "25%    208799.750000      43.000000      11.900000     186.000000   \n",
       "50%    417599.500000      46.900000      16.800000     383.000000   \n",
       "75%    626399.250000      50.200000      21.800000     583.000000   \n",
       "max    835199.000000      83.200000     180.400000   55252.000000   \n",
       "\n",
       "                INSP            TAG  \n",
       "count  835200.000000  835200.000000  \n",
       "mean        3.194853       0.787994  \n",
       "std         0.011822       0.408729  \n",
       "min         3.170000       0.000000  \n",
       "25%         3.190000       1.000000  \n",
       "50%         3.190000       1.000000  \n",
       "75%         3.200000       1.000000  \n",
       "max         3.230000       1.000000  "
      ]
     },
     "execution_count": 8,
     "metadata": {},
     "output_type": "execute_result"
    }
   ],
   "source": [
    "df.describe()"
   ]
  },
  {
   "cell_type": "code",
   "execution_count": 9,
   "id": "00470404",
   "metadata": {},
   "outputs": [
    {
     "data": {
      "image/png": "[encoded data removed]",
      "text/plain": [
       "<Figure size 640x480 with 1 Axes>"
      ]
     },
     "metadata": {},
     "output_type": "display_data"
    }
   ],
   "source": [
    "# 온도는 이상치 수준으로 보긴 어려움. 그대로 모두 사용 \n",
    "sns.boxplot(x='MELT_TEMP', orient = \"v\", data=df)\n",
    "plt.show()"
   ]
  },
  {
   "cell_type": "code",
   "execution_count": 10,
   "id": "c54ddfb7",
   "metadata": {},
   "outputs": [
    {
     "data": {
      "image/png": "[encoded data removed]",
      "text/plain": [
       "<Figure size 640x480 with 1 Axes>"
      ]
     },
     "metadata": {},
     "output_type": "display_data"
    }
   ],
   "source": [
    "# 모터 스피드도 이상치로 보기 어려움. \n",
    "sns.boxplot(x='MOTORSPEED', orient = \"v\", data=df)\n",
    "plt.show()"
   ]
  },
  {
   "cell_type": "code",
   "execution_count": 11,
   "id": "4ed0ffed",
   "metadata": {},
   "outputs": [
    {
     "data": {
      "image/png": "[encoded data removed]",
      "text/plain": [
       "<Figure size 640x480 with 1 Axes>"
      ]
     },
     "metadata": {},
     "output_type": "display_data"
    }
   ],
   "source": [
    "# 중량의 경우 너무 과한 값은 삭제 \n",
    "sns.boxplot(x='MELT_WEIGHT', orient = \"v\", data=df)\n",
    "plt.show()"
   ]
  },
  {
   "cell_type": "code",
   "execution_count": 12,
   "id": "f1e59e18",
   "metadata": {},
   "outputs": [
    {
     "data": {
      "text/html": [
       "<div>\n",
       "<style scoped>\n",
       "    .dataframe tbody tr th:only-of-type {\n",
       "        vertical-align: middle;\n",
       "    }\n",
       "\n",
       "    .dataframe tbody tr th {\n",
       "        vertical-align: top;\n",
       "    }\n",
       "\n",
       "    .dataframe thead th {\n",
       "        text-align: right;\n",
       "    }\n",
       "</style>\n",
       "<table border=\"1\" class=\"dataframe\">\n",
       "  <thead>\n",
       "    <tr style=\"text-align: right;\">\n",
       "      <th></th>\n",
       "      <th>NUM</th>\n",
       "      <th>MELT_TEMP</th>\n",
       "      <th>MOTORSPEED</th>\n",
       "      <th>MELT_WEIGHT</th>\n",
       "      <th>INSP</th>\n",
       "      <th>TAG</th>\n",
       "    </tr>\n",
       "    <tr>\n",
       "      <th>STD_DT</th>\n",
       "      <th></th>\n",
       "      <th></th>\n",
       "      <th></th>\n",
       "      <th></th>\n",
       "      <th></th>\n",
       "      <th></th>\n",
       "    </tr>\n",
       "  </thead>\n",
       "  <tbody>\n",
       "    <tr>\n",
       "      <th>2020-03-04</th>\n",
       "      <td>0</td>\n",
       "      <td>48.9</td>\n",
       "      <td>11.6</td>\n",
       "      <td>631</td>\n",
       "      <td>3.19</td>\n",
       "      <td>1</td>\n",
       "    </tr>\n",
       "  </tbody>\n",
       "</table>\n",
       "</div>"
      ],
      "text/plain": [
       "            NUM  MELT_TEMP  MOTORSPEED  MELT_WEIGHT  INSP  TAG\n",
       "STD_DT                                                        \n",
       "2020-03-04    0       48.9        11.6          631  3.19    1"
      ]
     },
     "execution_count": 12,
     "metadata": {},
     "output_type": "execute_result"
    }
   ],
   "source": [
    "df.head(1)"
   ]
  },
  {
   "cell_type": "code",
   "execution_count": 13,
   "id": "58e2f89e",
   "metadata": {},
   "outputs": [],
   "source": [
    "# 직접 관측 어려운 feature 는 제외 \n",
    "df.drop(['INSP'], axis=1, inplace=True)"
   ]
  },
  {
   "cell_type": "code",
   "execution_count": 14,
   "id": "a7fdafef",
   "metadata": {},
   "outputs": [
    {
     "data": {
      "image/png": "[encoded data removed]",
      "text/plain": [
       "<Figure size 2000x600 with 1 Axes>"
      ]
     },
     "metadata": {},
     "output_type": "display_data"
    }
   ],
   "source": [
    "df[['MELT_WEIGHT', 'TAG']].plot(kind='line', figsize=(20,6), linewidth=2, fontsize=20, colormap='winter')\n",
    "plt.xlabel('time', fontsize=15)\n",
    "plt.ylabel('MinMax label', fontsize=15)\n",
    "plt.show()"
   ]
  },
  {
   "cell_type": "code",
   "execution_count": 15,
   "id": "425df132",
   "metadata": {},
   "outputs": [],
   "source": [
    "# 질량 전 처리 : 조건은 직전 값과 100이상 차이 나는 경우 시계열상 다다음 스텝(30스텝까지)의 무게와 비교해서 증감 비율 맞춰서 보정하는 형태\n",
    "Dlength = df.shape[0]\n",
    "s_step = 30\n",
    "\n",
    "for k in df.NUM:\n",
    "    if k >= 1:\n",
    "        if abs(df.MELT_WEIGHT[k] - df.MELT_WEIGHT[k-1]) > 100:\n",
    "            \n",
    "            for s in range(s_step):\n",
    "                if abs(df.MELT_WEIGHT[k-1] - df.MELT_WEIGHT[k+s]) < 500: \n",
    "                    step = round(abs(df.MELT_WEIGHT[k-1] - df.MELT_WEIGHT[k+s]) / (s+1))\n",
    "                    \n",
    "                    if df.MELT_WEIGHT[k-1] > df.MELT_WEIGHT[k+s]:\n",
    "                        df.MELT_WEIGHT[k] = df.MELT_WEIGHT[k-1] - step\n",
    "                    \n",
    "                    else:\n",
    "                        df.MELT_WEIGHT[k] = df.MELT_WEIGHT[k-1] + step\n",
    "                    break\n",
    "\n",
    "df.to_csv('/home/kym/ML/input/kamp/대회 과제/melting_tank_mod.csv')"
   ]
  },
  {
   "cell_type": "code",
   "execution_count": 16,
   "id": "eaa6916a",
   "metadata": {},
   "outputs": [
    {
     "data": {
      "text/html": [
       "<div>\n",
       "<style scoped>\n",
       "    .dataframe tbody tr th:only-of-type {\n",
       "        vertical-align: middle;\n",
       "    }\n",
       "\n",
       "    .dataframe tbody tr th {\n",
       "        vertical-align: top;\n",
       "    }\n",
       "\n",
       "    .dataframe thead th {\n",
       "        text-align: right;\n",
       "    }\n",
       "</style>\n",
       "<table border=\"1\" class=\"dataframe\">\n",
       "  <thead>\n",
       "    <tr style=\"text-align: right;\">\n",
       "      <th></th>\n",
       "      <th>STD_DT</th>\n",
       "      <th>NUM</th>\n",
       "      <th>MELT_TEMP</th>\n",
       "      <th>MOTORSPEED</th>\n",
       "      <th>MELT_WEIGHT</th>\n",
       "      <th>TAG</th>\n",
       "    </tr>\n",
       "  </thead>\n",
       "  <tbody>\n",
       "    <tr>\n",
       "      <th>0</th>\n",
       "      <td>2020-03-04 00:00:00</td>\n",
       "      <td>0</td>\n",
       "      <td>48.9</td>\n",
       "      <td>11.6</td>\n",
       "      <td>631</td>\n",
       "      <td>1</td>\n",
       "    </tr>\n",
       "    <tr>\n",
       "      <th>1</th>\n",
       "      <td>2020-03-04 00:00:00</td>\n",
       "      <td>1</td>\n",
       "      <td>43.3</td>\n",
       "      <td>7.8</td>\n",
       "      <td>609</td>\n",
       "      <td>1</td>\n",
       "    </tr>\n",
       "    <tr>\n",
       "      <th>2</th>\n",
       "      <td>2020-03-04 00:00:00</td>\n",
       "      <td>2</td>\n",
       "      <td>46.4</td>\n",
       "      <td>15.4</td>\n",
       "      <td>608</td>\n",
       "      <td>1</td>\n",
       "    </tr>\n",
       "    <tr>\n",
       "      <th>3</th>\n",
       "      <td>2020-03-04 00:00:00</td>\n",
       "      <td>3</td>\n",
       "      <td>37.9</td>\n",
       "      <td>21.2</td>\n",
       "      <td>606</td>\n",
       "      <td>1</td>\n",
       "    </tr>\n",
       "    <tr>\n",
       "      <th>4</th>\n",
       "      <td>2020-03-04 00:00:00</td>\n",
       "      <td>4</td>\n",
       "      <td>79.8</td>\n",
       "      <td>173.6</td>\n",
       "      <td>604</td>\n",
       "      <td>1</td>\n",
       "    </tr>\n",
       "  </tbody>\n",
       "</table>\n",
       "</div>"
      ],
      "text/plain": [
       "                STD_DT  NUM  MELT_TEMP  MOTORSPEED  MELT_WEIGHT  TAG\n",
       "0  2020-03-04 00:00:00    0       48.9        11.6          631    1\n",
       "1  2020-03-04 00:00:00    1       43.3         7.8          609    1\n",
       "2  2020-03-04 00:00:00    2       46.4        15.4          608    1\n",
       "3  2020-03-04 00:00:00    3       37.9        21.2          606    1\n",
       "4  2020-03-04 00:00:00    4       79.8       173.6          604    1"
      ]
     },
     "execution_count": 16,
     "metadata": {},
     "output_type": "execute_result"
    }
   ],
   "source": [
    "path = \"/home/kym/ML/input/kamp/대회 과제\"\n",
    "os.chdir(path)\n",
    "\n",
    "df = pd.read_csv('melting_tank_mod.csv', encoding='cp949')\n",
    "df.head()"
   ]
  },
  {
   "cell_type": "code",
   "execution_count": 17,
   "id": "6fd80402",
   "metadata": {},
   "outputs": [
    {
     "data": {
      "image/png": "[encoded data removed]",
      "text/plain": [
       "<Figure size 2000x600 with 1 Axes>"
      ]
     },
     "metadata": {},
     "output_type": "display_data"
    }
   ],
   "source": [
    "df[['MELT_WEIGHT', 'TAG']].plot(kind='line', figsize=(20,6), linewidth=2, fontsize=20, colormap='winter')\n",
    "plt.xlabel('time', fontsize=15)\n",
    "plt.ylabel('MinMax label', fontsize=15)\n",
    "plt.show()"
   ]
  },
  {
   "cell_type": "code",
   "execution_count": 18,
   "id": "6b0c4b12",
   "metadata": {},
   "outputs": [
    {
     "data": {
      "text/html": [
       "<div>\n",
       "<style scoped>\n",
       "    .dataframe tbody tr th:only-of-type {\n",
       "        vertical-align: middle;\n",
       "    }\n",
       "\n",
       "    .dataframe tbody tr th {\n",
       "        vertical-align: top;\n",
       "    }\n",
       "\n",
       "    .dataframe thead th {\n",
       "        text-align: right;\n",
       "    }\n",
       "</style>\n",
       "<table border=\"1\" class=\"dataframe\">\n",
       "  <thead>\n",
       "    <tr style=\"text-align: right;\">\n",
       "      <th></th>\n",
       "      <th>STD_DT</th>\n",
       "      <th>NUM</th>\n",
       "      <th>MELT_TEMP</th>\n",
       "      <th>MOTORSPEED</th>\n",
       "      <th>MELT_WEIGHT</th>\n",
       "      <th>TAG</th>\n",
       "    </tr>\n",
       "  </thead>\n",
       "  <tbody>\n",
       "    <tr>\n",
       "      <th>0</th>\n",
       "      <td>2020-03-04 00:00:00</td>\n",
       "      <td>0</td>\n",
       "      <td>48.9</td>\n",
       "      <td>11.6</td>\n",
       "      <td>631</td>\n",
       "      <td>1</td>\n",
       "    </tr>\n",
       "    <tr>\n",
       "      <th>1</th>\n",
       "      <td>2020-03-04 00:00:00</td>\n",
       "      <td>1</td>\n",
       "      <td>43.3</td>\n",
       "      <td>7.8</td>\n",
       "      <td>609</td>\n",
       "      <td>1</td>\n",
       "    </tr>\n",
       "    <tr>\n",
       "      <th>2</th>\n",
       "      <td>2020-03-04 00:00:00</td>\n",
       "      <td>2</td>\n",
       "      <td>46.4</td>\n",
       "      <td>15.4</td>\n",
       "      <td>608</td>\n",
       "      <td>1</td>\n",
       "    </tr>\n",
       "    <tr>\n",
       "      <th>3</th>\n",
       "      <td>2020-03-04 00:00:00</td>\n",
       "      <td>3</td>\n",
       "      <td>37.9</td>\n",
       "      <td>21.2</td>\n",
       "      <td>606</td>\n",
       "      <td>1</td>\n",
       "    </tr>\n",
       "    <tr>\n",
       "      <th>4</th>\n",
       "      <td>2020-03-04 00:00:00</td>\n",
       "      <td>4</td>\n",
       "      <td>79.8</td>\n",
       "      <td>173.6</td>\n",
       "      <td>604</td>\n",
       "      <td>1</td>\n",
       "    </tr>\n",
       "  </tbody>\n",
       "</table>\n",
       "</div>"
      ],
      "text/plain": [
       "                STD_DT  NUM  MELT_TEMP  MOTORSPEED  MELT_WEIGHT  TAG\n",
       "0  2020-03-04 00:00:00    0       48.9        11.6          631    1\n",
       "1  2020-03-04 00:00:00    1       43.3         7.8          609    1\n",
       "2  2020-03-04 00:00:00    2       46.4        15.4          608    1\n",
       "3  2020-03-04 00:00:00    3       37.9        21.2          606    1\n",
       "4  2020-03-04 00:00:00    4       79.8       173.6          604    1"
      ]
     },
     "execution_count": 18,
     "metadata": {},
     "output_type": "execute_result"
    }
   ],
   "source": [
    "df.head()"
   ]
  },
  {
   "cell_type": "code",
   "execution_count": 19,
   "id": "619b9903",
   "metadata": {},
   "outputs": [
    {
     "data": {
      "image/png": "[encoded data removed]",
      "text/plain": [
       "<Figure size 2000x2000 with 2 Axes>"
      ]
     },
     "metadata": {},
     "output_type": "display_data"
    }
   ],
   "source": [
    "# Heatmap\n",
    "\n",
    "fig, ax = plt.subplots(1, 1, figsize=(20, 20))\n",
    "df_corr = df.corr()\n",
    "\n",
    "mask = np.zeros_like(df_corr, dtype=np.bool)\n",
    "mask[np.triu_indices_from(mask)] = True\n",
    "\n",
    "sns.heatmap(df_corr, ax=ax,\n",
    "           square=True, center=0, linewidth=1,\n",
    "           cmap=sns.diverging_palette(240, 10, as_cmap=True),\n",
    "           cbar_kws={'shrink': .82},\n",
    "           mask=mask,\n",
    "           annot=True,\n",
    "           annot_kws={'size':7}\n",
    "           )\n",
    "ax.set_title(f'Correlation', loc='left', fontweight='bold')\n",
    "plt.show()"
   ]
  },
  {
   "cell_type": "markdown",
   "id": "b628c967",
   "metadata": {},
   "source": [
    "### 온도와 모터 스피드 간 높은 상관성 "
   ]
  },
  {
   "cell_type": "code",
   "execution_count": 20,
   "id": "8190863b",
   "metadata": {},
   "outputs": [],
   "source": [
    "# 피처별 점수\n",
    "from functools import partial\n",
    "from scipy import optimize\n",
    "\n",
    "class OptimizeAUC:\n",
    "    def __init__(self):\n",
    "        self.coef_ = 0\n",
    "        \n",
    "    def _auc(self, coef, X, y):\n",
    "        '''\n",
    "        :params coef : weight list\n",
    "        '''\n",
    "        x_coef = X * coef\n",
    "        predictions = np.sum(x_coef, axis=1)\n",
    "        auc_score = metrics.roc_auc_score(y, predictions)\n",
    "        \n",
    "        return -1.0 * auc_score\n",
    "    \n",
    "    def fit(self, X, y):\n",
    "        loss_partial = partial(self._auc, X=X, y=y)\n",
    "        initial_coef = np.random.dirichlet(np.ones(X.shape[1]), size=1)\n",
    "        self.coef_ = optimize.fmin(loss_partial, initial_coef, disp=True)\n",
    "        \n",
    "    def predict(self, X):\n",
    "        x_coef = X * self.coef_\n",
    "        predictions = np.sum(x_coef, axis=1)\n",
    "        \n",
    "        return predictions"
   ]
  },
  {
   "cell_type": "code",
   "execution_count": 21,
   "id": "b38ddeeb",
   "metadata": {},
   "outputs": [
    {
     "data": {
      "text/html": [
       "<div>\n",
       "<style scoped>\n",
       "    .dataframe tbody tr th:only-of-type {\n",
       "        vertical-align: middle;\n",
       "    }\n",
       "\n",
       "    .dataframe tbody tr th {\n",
       "        vertical-align: top;\n",
       "    }\n",
       "\n",
       "    .dataframe thead th {\n",
       "        text-align: right;\n",
       "    }\n",
       "</style>\n",
       "<table border=\"1\" class=\"dataframe\">\n",
       "  <thead>\n",
       "    <tr style=\"text-align: right;\">\n",
       "      <th></th>\n",
       "      <th>STD_DT</th>\n",
       "      <th>NUM</th>\n",
       "      <th>MELT_TEMP</th>\n",
       "      <th>MOTORSPEED</th>\n",
       "      <th>MELT_WEIGHT</th>\n",
       "      <th>TAG</th>\n",
       "    </tr>\n",
       "  </thead>\n",
       "  <tbody>\n",
       "    <tr>\n",
       "      <th>0</th>\n",
       "      <td>2020-03-04 00:00:00</td>\n",
       "      <td>0</td>\n",
       "      <td>48.9</td>\n",
       "      <td>11.6</td>\n",
       "      <td>631</td>\n",
       "      <td>1</td>\n",
       "    </tr>\n",
       "  </tbody>\n",
       "</table>\n",
       "</div>"
      ],
      "text/plain": [
       "                STD_DT  NUM  MELT_TEMP  MOTORSPEED  MELT_WEIGHT  TAG\n",
       "0  2020-03-04 00:00:00    0       48.9        11.6          631    1"
      ]
     },
     "execution_count": 21,
     "metadata": {},
     "output_type": "execute_result"
    }
   ],
   "source": [
    "df.head(1)"
   ]
  },
  {
   "cell_type": "code",
   "execution_count": 22,
   "id": "f9cc5ec5",
   "metadata": {},
   "outputs": [
    {
     "data": {
      "text/html": [
       "<div>\n",
       "<style scoped>\n",
       "    .dataframe tbody tr th:only-of-type {\n",
       "        vertical-align: middle;\n",
       "    }\n",
       "\n",
       "    .dataframe tbody tr th {\n",
       "        vertical-align: top;\n",
       "    }\n",
       "\n",
       "    .dataframe thead th {\n",
       "        text-align: right;\n",
       "    }\n",
       "</style>\n",
       "<table border=\"1\" class=\"dataframe\">\n",
       "  <thead>\n",
       "    <tr style=\"text-align: right;\">\n",
       "      <th></th>\n",
       "      <th>MOTORSPEED</th>\n",
       "    </tr>\n",
       "  </thead>\n",
       "  <tbody>\n",
       "    <tr>\n",
       "      <th>0</th>\n",
       "      <td>11.6</td>\n",
       "    </tr>\n",
       "    <tr>\n",
       "      <th>1</th>\n",
       "      <td>7.8</td>\n",
       "    </tr>\n",
       "    <tr>\n",
       "      <th>2</th>\n",
       "      <td>15.4</td>\n",
       "    </tr>\n",
       "    <tr>\n",
       "      <th>3</th>\n",
       "      <td>21.2</td>\n",
       "    </tr>\n",
       "    <tr>\n",
       "      <th>4</th>\n",
       "      <td>173.6</td>\n",
       "    </tr>\n",
       "  </tbody>\n",
       "</table>\n",
       "</div>"
      ],
      "text/plain": [
       "   MOTORSPEED\n",
       "0        11.6\n",
       "1         7.8\n",
       "2        15.4\n",
       "3        21.2\n",
       "4       173.6"
      ]
     },
     "execution_count": 22,
     "metadata": {},
     "output_type": "execute_result"
    }
   ],
   "source": [
    "X = df.drop(['STD_DT', 'NUM', 'TAG', 'MELT_WEIGHT', 'MELT_TEMP'], axis=1)\n",
    "y = df['TAG']\n",
    "X.head()"
   ]
  },
  {
   "cell_type": "code",
   "execution_count": 23,
   "id": "d05e1205",
   "metadata": {},
   "outputs": [
    {
     "name": "stdout",
     "output_type": "stream",
     "text": [
      "테스트 셋: LightGBM AUC = 0.7359085577458986\n",
      "테스트 셋: RandomForest AUC = 0.7358746331227702\n",
      "테스트 셋: KNN AUC = 0.6600685556989431\n",
      "테스트 셋: XGBoost AUC = 0.7361941407396485\n",
      "테스트 셋: Average Pred AUC = 0.7307727621563267\n"
     ]
    }
   ],
   "source": [
    "# 랜덤 포레스트, light GBM, XGBoost, DL, KNN => ENSEMBLE\n",
    "\n",
    "x_train, x_test, y_train, y_test = model_selection.train_test_split(\n",
    "    X,\n",
    "    y,\n",
    "    test_size=0.5,\n",
    "    stratify=y,\n",
    "    shuffle=True,\n",
    "    random_state=42\n",
    ")\n",
    "\n",
    "scaler = MinMaxScaler(feature_range=(0, 1))\n",
    "\n",
    "x_train_scaled = scaler.fit_transform(x_train)\n",
    "x_test_scaled = scaler.transform(x_test)\n",
    "\n",
    "lgb = lgb.LGBMClassifier(num_leaves=31, \n",
    "                         objective='binary',\n",
    "                         num_iterations=200,\n",
    "                         max_depth=5\n",
    "                        )\n",
    "rf = ensemble.RandomForestClassifier(random_state=42)\n",
    "knn = KNeighborsClassifier(n_jobs=-1)\n",
    "xgb = xgb.XGBClassifier(random_state=42,\n",
    "                       booster='gbtree',\n",
    "                       n_jobs=-1,\n",
    "                       eval_metric='error',\n",
    "                       learning_rate=0.1,\n",
    "                       n_estimators=200,\n",
    "                       max_depth=5,\n",
    "                       reg_lambda=2\n",
    "                       )\n",
    "\n",
    "lgb.fit(x_train_scaled, y_train)\n",
    "rf.fit(x_train_scaled, y_train)\n",
    "knn.fit(x_train_scaled, y_train)\n",
    "xgb.fit(x_train_scaled, y_train)\n",
    "\n",
    "pred_lgb = lgb.predict_proba(x_test_scaled)[:, 1]\n",
    "pred_rf = rf.predict_proba(x_test_scaled)[:, 1]\n",
    "pred_knn = knn.predict_proba(x_test_scaled)[:, 1]\n",
    "pred_xgb = xgb.predict_proba(x_test_scaled)[:, 1]\n",
    "avg_pred = (pred_xgb + pred_rf + pred_knn + pred_xgb) / 4\n",
    "\n",
    "test_preds = np.column_stack((\n",
    "            pred_lgb,\n",
    "            pred_rf,\n",
    "            pred_knn,\n",
    "            pred_xgb,\n",
    "            avg_pred\n",
    "))\n",
    "\n",
    "aucs_test = []\n",
    "\n",
    "for i in range(test_preds.shape[1]):\n",
    "    auc = metrics.roc_auc_score(y_test, test_preds[:, i])\n",
    "    aucs_test.append(auc)\n",
    "    \n",
    "print(f\"테스트 셋: LightGBM AUC = {aucs_test[0]}\")\n",
    "print(f\"테스트 셋: RandomForest AUC = {aucs_test[1]}\")\n",
    "print(f\"테스트 셋: KNN AUC = {aucs_test[2]}\")\n",
    "print(f\"테스트 셋: XGBoost AUC = {aucs_test[3]}\")\n",
    "print(f\"테스트 셋: Average Pred AUC = {aucs_test[4]}\")"
   ]
  },
  {
   "cell_type": "code",
   "execution_count": 24,
   "id": "1073f708",
   "metadata": {},
   "outputs": [
    {
     "name": "stdout",
     "output_type": "stream",
     "text": [
      "테스트 셋: LightGBM AUC = 0.7378926841473676\n",
      "테스트 셋: RandomForest AUC = 0.7377836321267903\n",
      "테스트 셋: KNN AUC = 0.6488548480234776\n",
      "테스트 셋: XGBoost AUC = 0.7381478493665692\n",
      "테스트 셋: Average Pred AUC = 0.7301839420026748\n"
     ]
    }
   ],
   "source": [
    "lgb.fit(x_test_scaled, y_test)\n",
    "rf.fit(x_test_scaled, y_test)\n",
    "knn.fit(x_test_scaled, y_test)\n",
    "xgb.fit(x_test_scaled, y_test)\n",
    "\n",
    "pred_lgb = lgb.predict_proba(x_train_scaled)[:, 1]\n",
    "pred_rf = rf.predict_proba(x_train_scaled)[:, 1]\n",
    "pred_knn = knn.predict_proba(x_train_scaled)[:, 1]\n",
    "pred_xgb = xgb.predict_proba(x_train_scaled)[:, 1]\n",
    "avg_pred = (pred_xgb + pred_rf + pred_knn + pred_xgb) / 4\n",
    "\n",
    "train_preds = np.column_stack((\n",
    "            pred_lgb,\n",
    "            pred_rf,\n",
    "            pred_knn,\n",
    "            pred_xgb,\n",
    "            avg_pred\n",
    "))\n",
    "\n",
    "aucs_train = []\n",
    "\n",
    "for i in range(train_preds.shape[1]):\n",
    "    auc = metrics.roc_auc_score(y_train, train_preds[:, i])\n",
    "    aucs_train.append(auc)\n",
    "    \n",
    "print(f\"테스트 셋: LightGBM AUC = {aucs_train[0]}\")\n",
    "print(f\"테스트 셋: RandomForest AUC = {aucs_train[1]}\")\n",
    "print(f\"테스트 셋: KNN AUC = {aucs_train[2]}\")\n",
    "print(f\"테스트 셋: XGBoost AUC = {aucs_train[3]}\")\n",
    "print(f\"테스트 셋: Average Pred AUC = {aucs_train[4]}\")"
   ]
  },
  {
   "cell_type": "code",
   "execution_count": 25,
   "id": "d9ceee46",
   "metadata": {},
   "outputs": [
    {
     "name": "stdout",
     "output_type": "stream",
     "text": [
      "Optimization terminated successfully.\n",
      "         Current function value: -0.738088\n",
      "         Iterations: 43\n",
      "         Function evaluations: 107\n",
      "Optimized AUC, Test set = 0.7359454897286662\n",
      "Coefficients = [ 0.15328028  0.16000145 -0.02579275  0.71459396]\n",
      "Optimization terminated successfully.\n",
      "         Current function value: -0.735984\n",
      "         Iterations: 55\n",
      "         Function evaluations: 127\n",
      "Optimized AUC, Train set = 0.737811394062905\n",
      "Coefficients = [0.85839591 0.34989116 0.01191785 0.05453418]\n"
     ]
    }
   ],
   "source": [
    "opt = OptimizeAUC()\n",
    "opt.fit(train_preds[:, :-1], y_train)\n",
    "opt_preds_test = opt.predict(test_preds[:, :-1])\n",
    "auc = metrics.roc_auc_score(y_test, opt_preds_test)\n",
    "\n",
    "print(f\"Optimized AUC, Test set = {auc}\")\n",
    "print(f\"Coefficients = {opt.coef_}\")\n",
    "\n",
    "opt = OptimizeAUC()\n",
    "opt.fit(test_preds[:, :-1], y_test)\n",
    "opt_preds_train = opt.predict(train_preds[:, :-1])\n",
    "auc = metrics.roc_auc_score(y_train, opt_preds_train)\n",
    "\n",
    "print(f\"Optimized AUC, Train set = {auc}\")\n",
    "print(f\"Coefficients = {opt.coef_}\")  "
   ]
  },
  {
   "cell_type": "code",
   "execution_count": 26,
   "id": "5788fd67",
   "metadata": {},
   "outputs": [],
   "source": [
    "# 피처 1 개 (온도) : 0.774 (optimized auc 0.78)\n",
    "# 피처 1 개 (모터 속도) : 0.73 (optimized auc 0.736)\n",
    "# 피처 2 개 (온도, 모터 속도) : 0.77 (optimized auc 0.78)\n",
    "# 피처 3 개 (온도, 모터 속도, 중량): 0.79 (optimized auc 0.50)\n",
    "# 피처 4 개 (온도, 모터 속도, 중량, insp) : 0.79 (optimized auc 0.80)"
   ]
  },
  {
   "cell_type": "code",
   "execution_count": null,
   "id": "0bb2a8d6",
   "metadata": {},
   "outputs": [],
   "source": []
  },
  {
   "cell_type": "code",
   "execution_count": null,
   "id": "524b897c",
   "metadata": {},
   "outputs": [],
   "source": []
  },
  {
   "cell_type": "code",
   "execution_count": null,
   "id": "4c275160",
   "metadata": {},
   "outputs": [],
   "source": []
  },
  {
   "cell_type": "code",
   "execution_count": null,
   "id": "59704bd6",
   "metadata": {},
   "outputs": [],
   "source": []
  },
  {
   "cell_type": "code",
   "execution_count": null,
   "id": "ccad2a9e",
   "metadata": {},
   "outputs": [],
   "source": []
  },
  {
   "cell_type": "code",
   "execution_count": null,
   "id": "2bcbe2c1",
   "metadata": {},
   "outputs": [],
   "source": []
  },
  {
   "cell_type": "code",
   "execution_count": null,
   "id": "27fbda17",
   "metadata": {},
   "outputs": [],
   "source": []
  },
  {
   "cell_type": "code",
   "execution_count": null,
   "id": "3aa425ee",
   "metadata": {},
   "outputs": [],
   "source": []
  },
  {
   "cell_type": "code",
   "execution_count": null,
   "id": "0e0a7165",
   "metadata": {},
   "outputs": [],
   "source": []
  },
  {
   "cell_type": "code",
   "execution_count": null,
   "id": "a2b4dd59",
   "metadata": {},
   "outputs": [],
   "source": []
  },
  {
   "cell_type": "code",
   "execution_count": null,
   "id": "dfbde978",
   "metadata": {},
   "outputs": [],
   "source": []
  },
  {
   "cell_type": "code",
   "execution_count": null,
   "id": "76fa194b",
   "metadata": {},
   "outputs": [],
   "source": []
  },
  {
   "cell_type": "code",
   "execution_count": null,
   "id": "9b6adf34",
   "metadata": {},
   "outputs": [],
   "source": []
  }
 ],
 "metadata": {
  "kernelspec": {
   "display_name": "ml",
   "language": "python",
   "name": "ml"
  },
  "language_info": {
   "codemirror_mode": {
    "name": "ipython",
    "version": 3
   },
   "file_extension": ".py",
   "mimetype": "text/x-python",
   "name": "python",
   "nbconvert_exporter": "python",
   "pygments_lexer": "ipython3",
   "version": "3.9.13"
  }
 },
 "nbformat": 4,
 "nbformat_minor": 5
}
