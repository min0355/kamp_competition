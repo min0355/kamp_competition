{
 "cells": [
  {
   "cell_type": "code",
   "execution_count": 1,
   "id": "093a3cb5",
   "metadata": {},
   "outputs": [
    {
     "data": {
      "text/html": [],
      "text/plain": [
       "<IPython.core.display.HTML object>"
      ]
     },
     "metadata": {},
     "output_type": "display_data"
    }
   ],
   "source": [
    "# 주피터 가로로 넓게 쓰기\n",
    "from IPython.core.display import display, HTML  \n",
    "display(HTML(\"\"))"
   ]
  },
  {
   "cell_type": "code",
   "execution_count": 2,
   "id": "59cf5f18",
   "metadata": {},
   "outputs": [
    {
     "name": "stdout",
     "output_type": "stream",
     "text": [
      "Setup Complete\n"
     ]
    }
   ],
   "source": [
    "import pandas as pd\n",
    "import numpy as np\n",
    "import os\n",
    "\n",
    "import time \n",
    "import datetime as dt\n",
    "from datetime import datetime\n",
    "\n",
    "%matplotlib inline\n",
    "import matplotlib\n",
    "import matplotlib.pyplot as plt\n",
    "\n",
    "import seaborn as sns\n",
    "plt.style.use('seaborn-whitegrid')\n",
    "\n",
    "from sklearn.preprocessing import LabelEncoder\n",
    "\n",
    "from sklearn import model_selection\n",
    "from sklearn.preprocessing import StandardScaler\n",
    "from sklearn.preprocessing import MinMaxScaler\n",
    "from sklearn.model_selection import train_test_split, cross_validate, GridSearchCV, RandomizedSearchCV, GroupKFold\n",
    "\n",
    "# ML Library \n",
    "from sklearn import metrics\n",
    "from sklearn.metrics import accuracy_score, precision_score, recall_score, f1_score, confusion_matrix\n",
    "from sklearn.metrics import precision_recall_curve\n",
    "from sklearn.metrics import mean_absolute_error\n",
    "\n",
    "from imblearn.over_sampling import SMOTE\n",
    "\n",
    "from imblearn.combine import SMOTETomek # 오버 샘플링 성능 비교용 \n",
    "from imblearn.under_sampling import TomekLinks\n",
    "\n",
    "from adamp import AdamP\n",
    "from tensorflow_addons.optimizers import AdamW\n",
    "\n",
    "from keras.models import Sequential\n",
    "from keras.layers import Dense, LSTM\n",
    "from keras.preprocessing import sequence\n",
    "from keras.utils import np_utils\n",
    "from keras.callbacks import EarlyStopping, ModelCheckpoint\n",
    "\n",
    "import tensorflow as tf\n",
    "from tensorflow import keras\n",
    "from tensorflow.keras.layers import GRU, Dropout, Dense, Conv1D\n",
    "from tensorflow.keras import models\n",
    "\n",
    "# TPOT : Automatic ML library that automatically enables feature selection and Hyperparameter learning based on multiple machine learning models \n",
    "from tpot import TPOTClassifier\n",
    "\n",
    "print(\"Setup Complete\")"
   ]
  },
  {
   "cell_type": "markdown",
   "id": "241349fe",
   "metadata": {},
   "source": [
    "TPOT reference site : https://machinelearningmastery.com/tpot-for-automated-machine-learning-in-python/"
   ]
  },
  {
   "cell_type": "code",
   "execution_count": 3,
   "id": "92e16b4b",
   "metadata": {},
   "outputs": [
    {
     "data": {
      "text/html": [
       "<div>\n",
       "<style scoped>\n",
       "    .dataframe tbody tr th:only-of-type {\n",
       "        vertical-align: middle;\n",
       "    }\n",
       "\n",
       "    .dataframe tbody tr th {\n",
       "        vertical-align: top;\n",
       "    }\n",
       "\n",
       "    .dataframe thead th {\n",
       "        text-align: right;\n",
       "    }\n",
       "</style>\n",
       "<table border=\"1\" class=\"dataframe\">\n",
       "  <thead>\n",
       "    <tr style=\"text-align: right;\">\n",
       "      <th></th>\n",
       "      <th>MELT_TEMP</th>\n",
       "      <th>MOTORSPEED</th>\n",
       "      <th>MELT_WEIGHT</th>\n",
       "      <th>TAG</th>\n",
       "    </tr>\n",
       "    <tr>\n",
       "      <th>STD_DT</th>\n",
       "      <th></th>\n",
       "      <th></th>\n",
       "      <th></th>\n",
       "      <th></th>\n",
       "    </tr>\n",
       "  </thead>\n",
       "  <tbody>\n",
       "    <tr>\n",
       "      <th>2020-03-04</th>\n",
       "      <td>48.9</td>\n",
       "      <td>11.6</td>\n",
       "      <td>631</td>\n",
       "      <td>1</td>\n",
       "    </tr>\n",
       "    <tr>\n",
       "      <th>2020-03-04</th>\n",
       "      <td>43.3</td>\n",
       "      <td>7.8</td>\n",
       "      <td>609</td>\n",
       "      <td>1</td>\n",
       "    </tr>\n",
       "    <tr>\n",
       "      <th>2020-03-04</th>\n",
       "      <td>46.4</td>\n",
       "      <td>15.4</td>\n",
       "      <td>608</td>\n",
       "      <td>1</td>\n",
       "    </tr>\n",
       "    <tr>\n",
       "      <th>2020-03-04</th>\n",
       "      <td>37.9</td>\n",
       "      <td>21.2</td>\n",
       "      <td>606</td>\n",
       "      <td>1</td>\n",
       "    </tr>\n",
       "    <tr>\n",
       "      <th>2020-03-04</th>\n",
       "      <td>79.8</td>\n",
       "      <td>173.6</td>\n",
       "      <td>604</td>\n",
       "      <td>1</td>\n",
       "    </tr>\n",
       "  </tbody>\n",
       "</table>\n",
       "</div>"
      ],
      "text/plain": [
       "            MELT_TEMP  MOTORSPEED  MELT_WEIGHT  TAG\n",
       "STD_DT                                             \n",
       "2020-03-04       48.9        11.6          631    1\n",
       "2020-03-04       43.3         7.8          609    1\n",
       "2020-03-04       46.4        15.4          608    1\n",
       "2020-03-04       37.9        21.2          606    1\n",
       "2020-03-04       79.8       173.6          604    1"
      ]
     },
     "execution_count": 3,
     "metadata": {},
     "output_type": "execute_result"
    }
   ],
   "source": [
    "path = \"/home/kym/ML/input/kamp/대회 과제\"\n",
    "os.chdir(path)\n",
    "model_path = path\n",
    "\n",
    "df = pd.read_csv('melting_tank_mod.csv', encoding='cp949')\n",
    "\n",
    "feature = [\n",
    "    f for f in df.columns if f not in (\"NUM\")\n",
    "]\n",
    "\n",
    "df = df[feature]\n",
    "df['STD_DT'] = df['STD_DT'].apply(lambda x: pd.to_datetime(str(x), format='%Y-%m-%d %H:%M:%S', errors='coerce'))\n",
    "df.set_index('STD_DT', inplace=True)\n",
    "\n",
    "df.to_csv('/home/kym/ML/input/kamp/대회 과제/melting_tank_final.csv', index=False)\n",
    "df.head()"
   ]
  },
  {
   "cell_type": "code",
   "execution_count": 4,
   "id": "1ad9a160",
   "metadata": {},
   "outputs": [
    {
     "name": "stdout",
     "output_type": "stream",
     "text": [
      "<class 'pandas.core.frame.DataFrame'>\n",
      "DatetimeIndex: 835200 entries, 2020-03-04 00:00:00 to 2020-04-30 23:59:00\n",
      "Data columns (total 4 columns):\n",
      " #   Column       Non-Null Count   Dtype  \n",
      "---  ------       --------------   -----  \n",
      " 0   MELT_TEMP    835200 non-null  float64\n",
      " 1   MOTORSPEED   835200 non-null  float64\n",
      " 2   MELT_WEIGHT  835200 non-null  int64  \n",
      " 3   TAG          835200 non-null  int64  \n",
      "dtypes: float64(2), int64(2)\n",
      "memory usage: 31.9 MB\n"
     ]
    }
   ],
   "source": [
    "df.info()"
   ]
  },
  {
   "cell_type": "code",
   "execution_count": 5,
   "id": "71d32e33",
   "metadata": {},
   "outputs": [
    {
     "data": {
      "text/html": [
       "<style type=\"text/css\">\n",
       "#T_3ab0a_row0_col1 {\n",
       "  width: 10em;\n",
       "  background: linear-gradient(90deg, #205ff2 12.3%, transparent 12.3%);\n",
       "}\n",
       "#T_3ab0a_row0_col2 {\n",
       "  background-color: #ffeee7;\n",
       "  color: #000000;\n",
       "}\n",
       "#T_3ab0a_row1_col1 {\n",
       "  width: 10em;\n",
       "  background: linear-gradient(90deg, #205ff2 11.1%, transparent 11.1%);\n",
       "}\n",
       "#T_3ab0a_row1_col2 {\n",
       "  background-color: #fdcab5;\n",
       "  color: #000000;\n",
       "}\n",
       "#T_3ab0a_row2_col1 {\n",
       "  width: 10em;\n",
       "  background: linear-gradient(90deg, #205ff2 100.0%, transparent 100.0%);\n",
       "}\n",
       "#T_3ab0a_row2_col2 {\n",
       "  background-color: #67000d;\n",
       "  color: #f1f1f1;\n",
       "}\n",
       "#T_3ab0a_row3_col1 {\n",
       "  width: 10em;\n",
       "  background: linear-gradient(90deg, #205ff2 0.2%, transparent 0.2%);\n",
       "}\n",
       "#T_3ab0a_row3_col2 {\n",
       "  background-color: #fff5f0;\n",
       "  color: #000000;\n",
       "}\n",
       "</style>\n",
       "<table id=\"T_3ab0a\">\n",
       "  <thead>\n",
       "    <tr>\n",
       "      <th class=\"blank level0\" >&nbsp;</th>\n",
       "      <th id=\"T_3ab0a_level0_col0\" class=\"col_heading level0 col0\" >count</th>\n",
       "      <th id=\"T_3ab0a_level0_col1\" class=\"col_heading level0 col1\" >mean</th>\n",
       "      <th id=\"T_3ab0a_level0_col2\" class=\"col_heading level0 col2\" >std</th>\n",
       "      <th id=\"T_3ab0a_level0_col3\" class=\"col_heading level0 col3\" >min</th>\n",
       "      <th id=\"T_3ab0a_level0_col4\" class=\"col_heading level0 col4\" >25%</th>\n",
       "      <th id=\"T_3ab0a_level0_col5\" class=\"col_heading level0 col5\" >50%</th>\n",
       "      <th id=\"T_3ab0a_level0_col6\" class=\"col_heading level0 col6\" >75%</th>\n",
       "      <th id=\"T_3ab0a_level0_col7\" class=\"col_heading level0 col7\" >max</th>\n",
       "    </tr>\n",
       "  </thead>\n",
       "  <tbody>\n",
       "    <tr>\n",
       "      <th id=\"T_3ab0a_level0_row0\" class=\"row_heading level0 row0\" >MELT_TEMP</th>\n",
       "      <td id=\"T_3ab0a_row0_col0\" class=\"data row0 col0\" >835200.000000</td>\n",
       "      <td id=\"T_3ab0a_row0_col1\" class=\"data row0 col1\" >50.920062</td>\n",
       "      <td id=\"T_3ab0a_row0_col2\" class=\"data row0 col2\" >12.827752</td>\n",
       "      <td id=\"T_3ab0a_row0_col3\" class=\"data row0 col3\" >30.800000</td>\n",
       "      <td id=\"T_3ab0a_row0_col4\" class=\"data row0 col4\" >43.000000</td>\n",
       "      <td id=\"T_3ab0a_row0_col5\" class=\"data row0 col5\" >46.900000</td>\n",
       "      <td id=\"T_3ab0a_row0_col6\" class=\"data row0 col6\" >50.200000</td>\n",
       "      <td id=\"T_3ab0a_row0_col7\" class=\"data row0 col7\" >83.200000</td>\n",
       "    </tr>\n",
       "    <tr>\n",
       "      <th id=\"T_3ab0a_level0_row1\" class=\"row_heading level0 row1\" >MOTORSPEED</th>\n",
       "      <td id=\"T_3ab0a_row1_col0\" class=\"data row1 col0\" >835200.000000</td>\n",
       "      <td id=\"T_3ab0a_row1_col1\" class=\"data row1 col1\" >45.978287</td>\n",
       "      <td id=\"T_3ab0a_row1_col2\" class=\"data row1 col2\" >63.943641</td>\n",
       "      <td id=\"T_3ab0a_row1_col3\" class=\"data row1 col3\" >0.000000</td>\n",
       "      <td id=\"T_3ab0a_row1_col4\" class=\"data row1 col4\" >11.900000</td>\n",
       "      <td id=\"T_3ab0a_row1_col5\" class=\"data row1 col5\" >16.800000</td>\n",
       "      <td id=\"T_3ab0a_row1_col6\" class=\"data row1 col6\" >21.800000</td>\n",
       "      <td id=\"T_3ab0a_row1_col7\" class=\"data row1 col7\" >180.400000</td>\n",
       "    </tr>\n",
       "    <tr>\n",
       "      <th id=\"T_3ab0a_level0_row2\" class=\"row_heading level0 row2\" >MELT_WEIGHT</th>\n",
       "      <td id=\"T_3ab0a_row2_col0\" class=\"data row2 col0\" >835200.000000</td>\n",
       "      <td id=\"T_3ab0a_row2_col1\" class=\"data row2 col1\" >414.582481</td>\n",
       "      <td id=\"T_3ab0a_row2_col2\" class=\"data row2 col2\" >317.234065</td>\n",
       "      <td id=\"T_3ab0a_row2_col3\" class=\"data row2 col3\" >0.000000</td>\n",
       "      <td id=\"T_3ab0a_row2_col4\" class=\"data row2 col4\" >186.000000</td>\n",
       "      <td id=\"T_3ab0a_row2_col5\" class=\"data row2 col5\" >382.000000</td>\n",
       "      <td id=\"T_3ab0a_row2_col6\" class=\"data row2 col6\" >579.000000</td>\n",
       "      <td id=\"T_3ab0a_row2_col7\" class=\"data row2 col7\" >2820.000000</td>\n",
       "    </tr>\n",
       "    <tr>\n",
       "      <th id=\"T_3ab0a_level0_row3\" class=\"row_heading level0 row3\" >TAG</th>\n",
       "      <td id=\"T_3ab0a_row3_col0\" class=\"data row3 col0\" >835200.000000</td>\n",
       "      <td id=\"T_3ab0a_row3_col1\" class=\"data row3 col1\" >0.787994</td>\n",
       "      <td id=\"T_3ab0a_row3_col2\" class=\"data row3 col2\" >0.408729</td>\n",
       "      <td id=\"T_3ab0a_row3_col3\" class=\"data row3 col3\" >0.000000</td>\n",
       "      <td id=\"T_3ab0a_row3_col4\" class=\"data row3 col4\" >1.000000</td>\n",
       "      <td id=\"T_3ab0a_row3_col5\" class=\"data row3 col5\" >1.000000</td>\n",
       "      <td id=\"T_3ab0a_row3_col6\" class=\"data row3 col6\" >1.000000</td>\n",
       "      <td id=\"T_3ab0a_row3_col7\" class=\"data row3 col7\" >1.000000</td>\n",
       "    </tr>\n",
       "  </tbody>\n",
       "</table>\n"
      ],
      "text/plain": [
       "<pandas.io.formats.style.Styler at 0x7fcdec77c940>"
      ]
     },
     "execution_count": 5,
     "metadata": {},
     "output_type": "execute_result"
    }
   ],
   "source": [
    "# 표준 편차가 큰 feature 인 재료의 질량은 관찰 그래프를 통해 극히 영향도가 미미한 것을 알았기에 제외하고, 탱크 온도와 모터 속도만으로 학습함. \n",
    "df.describe().T.style.bar(subset=['mean'], color='#205ff2').background_gradient(subset=['std'], cmap='Reds')"
   ]
  },
  {
   "cell_type": "code",
   "execution_count": 6,
   "id": "91aff013",
   "metadata": {},
   "outputs": [],
   "source": [
    "X = df.drop(['MELT_WEIGHT', 'TAG'], axis=1)\n",
    "y = df['TAG']"
   ]
  },
  {
   "cell_type": "code",
   "execution_count": 7,
   "id": "6dec4568",
   "metadata": {},
   "outputs": [],
   "source": [
    "x_train, x_test, y_train, y_test = train_test_split(X, y, test_size=0.3, random_state=42)\n",
    "scaler = MinMaxScaler()\n",
    "x_train = scaler.fit_transform(x_train)\n",
    "x_test = scaler.transform(x_test)"
   ]
  },
  {
   "cell_type": "code",
   "execution_count": 8,
   "id": "1a2496bc",
   "metadata": {},
   "outputs": [
    {
     "name": "stdout",
     "output_type": "stream",
     "text": [
      "SMOTE 적용 전 학습용 피처 / 라벨 세트:  (584640, 2) (584640,)\n",
      "SMOTE 적용 후 학습용 피처 / 라벨 세트:  (920935, 2) (920935,)\n",
      "SMOTE 적용 후 라벨 값 분포: \n",
      " 1    460688\n",
      "0    460247\n",
      "Name: TAG, dtype: int64\n"
     ]
    }
   ],
   "source": [
    "smoteto = SMOTETomek(tomek=TomekLinks(sampling_strategy='majority'), random_state=42)\n",
    "x_train_over, y_train_over = smoteto.fit_resample(x_train, y_train)\n",
    "\n",
    "print(\"SMOTE 적용 전 학습용 피처 / 라벨 세트: \", x_train.shape, y_train.shape)\n",
    "print(\"SMOTE 적용 후 학습용 피처 / 라벨 세트: \", x_train_over.shape, y_train_over.shape)\n",
    "print(\"SMOTE 적용 후 라벨 값 분포: \\n\", pd.Series(y_train_over).value_counts())"
   ]
  },
  {
   "cell_type": "code",
   "execution_count": 9,
   "id": "cad00027",
   "metadata": {},
   "outputs": [],
   "source": [
    "def process_data(df, label, window_size):\n",
    "    feature_list = []\n",
    "    label_list = []\n",
    "    \n",
    "    for i in range(len(df) - window_size):\n",
    "        feature_list.append(np.array(df.iloc[i : i + window_size]))\n",
    "        label_list.append(np.array(label.iloc[i + window_size]))\n",
    "        \n",
    "    return np.array(feature_list), np.array(label_list)"
   ]
  },
  {
   "cell_type": "code",
   "execution_count": 10,
   "id": "33a8fe99",
   "metadata": {},
   "outputs": [],
   "source": [
    "# dataframe\n",
    "x_train_over = pd.DataFrame(x_train_over, columns=['MELT_TEMP', 'MOTORSPEED'])\n",
    "y_train_over = pd.DataFrame(y_train_over, columns=['TAG'])"
   ]
  },
  {
   "cell_type": "code",
   "execution_count": 11,
   "id": "12857e68",
   "metadata": {},
   "outputs": [
    {
     "data": {
      "text/plain": [
       "((920925, 10, 2), (920925, 1))"
      ]
     },
     "execution_count": 11,
     "metadata": {},
     "output_type": "execute_result"
    }
   ],
   "source": [
    "# window size = 10\n",
    "train_feature, train_label = process_data(x_train_over, y_train_over, 10)\n",
    "train_feature.shape, train_label.shape"
   ]
  },
  {
   "cell_type": "code",
   "execution_count": 12,
   "id": "a1f70587",
   "metadata": {},
   "outputs": [],
   "source": [
    "x_test = pd.DataFrame(x_test, columns=['MELT_TEMP', 'MOTORSPEED'])"
   ]
  },
  {
   "cell_type": "code",
   "execution_count": 13,
   "id": "638a6ff5",
   "metadata": {},
   "outputs": [
    {
     "data": {
      "text/plain": [
       "((250550, 10, 2), (250550,))"
      ]
     },
     "execution_count": 13,
     "metadata": {},
     "output_type": "execute_result"
    }
   ],
   "source": [
    "test_feature, test_label = process_data(x_test, y_test, 10)\n",
    "test_feature.shape, test_label.shape"
   ]
  },
  {
   "cell_type": "code",
   "execution_count": 14,
   "id": "dec5ec4a",
   "metadata": {},
   "outputs": [
    {
     "data": {
      "text/plain": [
       "((644647, 10, 2), (276278, 10, 2))"
      ]
     },
     "execution_count": 14,
     "metadata": {},
     "output_type": "execute_result"
    }
   ],
   "source": [
    "x_train, x_valid, y_train, y_valid = train_test_split(train_feature, train_label, test_size=0.3)\n",
    "x_train.shape, x_valid.shape"
   ]
  },
  {
   "cell_type": "markdown",
   "id": "07821d28",
   "metadata": {},
   "source": [
    "### Model"
   ]
  },
  {
   "cell_type": "code",
   "execution_count": 15,
   "id": "78526855",
   "metadata": {},
   "outputs": [
    {
     "name": "stderr",
     "output_type": "stream",
     "text": [
      "2022-11-07 19:29:02.289323: I tensorflow/stream_executor/cuda/cuda_gpu_executor.cc:939] successful NUMA node read from SysFS had negative value (-1), but there must be at least one NUMA node, so returning NUMA node zero\n",
      "2022-11-07 19:29:02.308317: I tensorflow/stream_executor/cuda/cuda_gpu_executor.cc:939] successful NUMA node read from SysFS had negative value (-1), but there must be at least one NUMA node, so returning NUMA node zero\n",
      "2022-11-07 19:29:02.308453: I tensorflow/stream_executor/cuda/cuda_gpu_executor.cc:939] successful NUMA node read from SysFS had negative value (-1), but there must be at least one NUMA node, so returning NUMA node zero\n",
      "2022-11-07 19:29:02.309024: I tensorflow/core/platform/cpu_feature_guard.cc:151] This TensorFlow binary is optimized with oneAPI Deep Neural Network Library (oneDNN) to use the following CPU instructions in performance-critical operations:  AVX2 FMA\n",
      "To enable them in other operations, rebuild TensorFlow with the appropriate compiler flags.\n",
      "2022-11-07 19:29:02.309949: I tensorflow/stream_executor/cuda/cuda_gpu_executor.cc:939] successful NUMA node read from SysFS had negative value (-1), but there must be at least one NUMA node, so returning NUMA node zero\n",
      "2022-11-07 19:29:02.310073: I tensorflow/stream_executor/cuda/cuda_gpu_executor.cc:939] successful NUMA node read from SysFS had negative value (-1), but there must be at least one NUMA node, so returning NUMA node zero\n",
      "2022-11-07 19:29:02.310259: I tensorflow/stream_executor/cuda/cuda_gpu_executor.cc:939] successful NUMA node read from SysFS had negative value (-1), but there must be at least one NUMA node, so returning NUMA node zero\n",
      "2022-11-07 19:29:02.566871: I tensorflow/stream_executor/cuda/cuda_gpu_executor.cc:939] successful NUMA node read from SysFS had negative value (-1), but there must be at least one NUMA node, so returning NUMA node zero\n",
      "2022-11-07 19:29:02.567023: I tensorflow/stream_executor/cuda/cuda_gpu_executor.cc:939] successful NUMA node read from SysFS had negative value (-1), but there must be at least one NUMA node, so returning NUMA node zero\n",
      "2022-11-07 19:29:02.567140: I tensorflow/stream_executor/cuda/cuda_gpu_executor.cc:939] successful NUMA node read from SysFS had negative value (-1), but there must be at least one NUMA node, so returning NUMA node zero\n",
      "2022-11-07 19:29:02.567216: W tensorflow/core/common_runtime/gpu/gpu_bfc_allocator.cc:39] Overriding allow_growth setting because the TF_FORCE_GPU_ALLOW_GROWTH environment variable is set. Original config value was 0.\n",
      "2022-11-07 19:29:02.567243: I tensorflow/core/common_runtime/gpu/gpu_device.cc:1525] Created device /job:localhost/replica:0/task:0/device:GPU:0 with 9708 MB memory:  -> device: 0, name: NVIDIA GeForce RTX 3060, pci bus id: 0000:0b:00.0, compute capability: 8.6\n"
     ]
    }
   ],
   "source": [
    "model = Sequential()\n",
    "model.add(GRU(64,\n",
    "              input_shape=(train_feature.shape[1], train_feature.shape[2]),\n",
    "              activation='tanh',\n",
    "              return_sequences=True)\n",
    "         )\n",
    "model.add(tf.keras.layers.Dropout(0.2))\n",
    "model.add(GRU(16,\n",
    "              activation='tanh',\n",
    "              return_sequences=True)\n",
    "         )\n",
    "model.add(tf.keras.layers.Dropout(0.2))\n",
    "model.add(GRU(4,\n",
    "              activation='tanh',\n",
    "              return_sequences=False)\n",
    "         )\n",
    "model.add(Dense(1, activation='sigmoid'))"
   ]
  },
  {
   "cell_type": "code",
   "execution_count": 16,
   "id": "0069c2cb",
   "metadata": {},
   "outputs": [],
   "source": [
    "# Aactivation function \n",
    "\n",
    "# step = tf.Variable(0, trainable=False)\n",
    "# schedule = tf.optimizers.schedules.PiecewiseConstantDecay(\n",
    "#     [10000, 15000], [1e-0, 1e-1, 1e-2])\n",
    "# # lr and wd can be a function or a tensor\n",
    "# lr = 1e-3 * schedule(step)\n",
    "# wd = lambda: 1e-4 * schedule(step)\n",
    "\n",
    "# AdamW"
   ]
  },
  {
   "cell_type": "code",
   "execution_count": 18,
   "id": "de67e011",
   "metadata": {},
   "outputs": [],
   "source": [
    "# 현실 고려 시 FN (음성으로 예측했는데 실제로 양성인 것 = 정상 (1) 으로 예측했는데 실제로 불량 (0) 인 것) 을 중점적으로 개선해야 한다. \n",
    "\n",
    "model.compile(loss=tf.keras.losses.BinaryCrossentropy(), optimizer=tf.keras.optimizers.Adamax(), metrics=[tf.keras.metrics.AUC(curve='ROC')])\n",
    "early_stop = EarlyStopping(monitor='val_loss', patience=5, min_delta = 0.005)\n",
    "filename = os.path.join(model_path, 'melting_tank_checkpoint.h5')\n",
    "checkpoint = ModelCheckpoint(filename, monitor='val_loss', verbose=2, save_best_only=True, mode='auto')"
   ]
  },
  {
   "cell_type": "code",
   "execution_count": 19,
   "id": "0ffe6bdf",
   "metadata": {},
   "outputs": [
    {
     "name": "stdout",
     "output_type": "stream",
     "text": [
      "Epoch 1/20\n"
     ]
    },
    {
     "name": "stderr",
     "output_type": "stream",
     "text": [
      "2022-11-07 20:07:18.429394: I tensorflow/stream_executor/cuda/cuda_dnn.cc:366] Loaded cuDNN version 8302\n",
      "2022-11-07 20:07:18.526483: I tensorflow/stream_executor/cuda/cuda_blas.cc:1774] TensorFloat-32 will be used for the matrix multiplication. This will only be logged once.\n"
     ]
    },
    {
     "name": "stdout",
     "output_type": "stream",
     "text": [
      "10064/10073 [============================>.] - ETA: 0s - loss: 0.4205 - auc: 0.8529\n",
      "Epoch 00001: val_loss improved from inf to 0.41788, saving model to /home/kym/ML/input/kamp/대회 과제/melting_tank_checkpoint.h5\n",
      "10073/10073 [==============================] - 56s 5ms/step - loss: 0.4205 - auc: 0.8529 - val_loss: 0.4179 - val_auc: 0.8543\n",
      "Epoch 2/20\n",
      "10067/10073 [============================>.] - ETA: 0s - loss: 0.4112 - auc: 0.8548\n",
      "Epoch 00002: val_loss improved from 0.41788 to 0.40985, saving model to /home/kym/ML/input/kamp/대회 과제/melting_tank_checkpoint.h5\n",
      "10073/10073 [==============================] - 55s 5ms/step - loss: 0.4112 - auc: 0.8548 - val_loss: 0.4099 - val_auc: 0.8552\n",
      "Epoch 3/20\n",
      "10072/10073 [============================>.] - ETA: 0s - loss: 0.4087 - auc: 0.8556\n",
      "Epoch 00003: val_loss improved from 0.40985 to 0.40819, saving model to /home/kym/ML/input/kamp/대회 과제/melting_tank_checkpoint.h5\n",
      "10073/10073 [==============================] - 57s 6ms/step - loss: 0.4087 - auc: 0.8556 - val_loss: 0.4082 - val_auc: 0.8559\n",
      "Epoch 4/20\n",
      "10067/10073 [============================>.] - ETA: 0s - loss: 0.4074 - auc: 0.8564\n",
      "Epoch 00004: val_loss improved from 0.40819 to 0.40739, saving model to /home/kym/ML/input/kamp/대회 과제/melting_tank_checkpoint.h5\n",
      "10073/10073 [==============================] - 57s 6ms/step - loss: 0.4074 - auc: 0.8564 - val_loss: 0.4074 - val_auc: 0.8560\n",
      "Epoch 5/20\n",
      "10067/10073 [============================>.] - ETA: 0s - loss: 0.4057 - auc: 0.8569\n",
      "Epoch 00005: val_loss improved from 0.40739 to 0.40603, saving model to /home/kym/ML/input/kamp/대회 과제/melting_tank_checkpoint.h5\n",
      "10073/10073 [==============================] - 55s 5ms/step - loss: 0.4057 - auc: 0.8569 - val_loss: 0.4060 - val_auc: 0.8564\n",
      "Epoch 6/20\n",
      "10069/10073 [============================>.] - ETA: 0s - loss: 0.4035 - auc: 0.8572\n",
      "Epoch 00006: val_loss improved from 0.40603 to 0.40338, saving model to /home/kym/ML/input/kamp/대회 과제/melting_tank_checkpoint.h5\n",
      "10073/10073 [==============================] - 50s 5ms/step - loss: 0.4035 - auc: 0.8572 - val_loss: 0.4034 - val_auc: 0.8569\n",
      "Epoch 7/20\n",
      "10065/10073 [============================>.] - ETA: 0s - loss: 0.4015 - auc: 0.8584\n",
      "Epoch 00007: val_loss improved from 0.40338 to 0.40212, saving model to /home/kym/ML/input/kamp/대회 과제/melting_tank_checkpoint.h5\n",
      "10073/10073 [==============================] - 53s 5ms/step - loss: 0.4016 - auc: 0.8584 - val_loss: 0.4021 - val_auc: 0.8570\n",
      "Epoch 8/20\n",
      "10064/10073 [============================>.] - ETA: 0s - loss: 0.4001 - auc: 0.8580\n",
      "Epoch 00008: val_loss improved from 0.40212 to 0.40088, saving model to /home/kym/ML/input/kamp/대회 과제/melting_tank_checkpoint.h5\n",
      "10073/10073 [==============================] - 56s 6ms/step - loss: 0.4001 - auc: 0.8580 - val_loss: 0.4009 - val_auc: 0.8572\n",
      "Epoch 9/20\n",
      "10071/10073 [============================>.] - ETA: 0s - loss: 0.3992 - auc: 0.8582\n",
      "Epoch 00009: val_loss improved from 0.40088 to 0.39994, saving model to /home/kym/ML/input/kamp/대회 과제/melting_tank_checkpoint.h5\n",
      "10073/10073 [==============================] - 54s 5ms/step - loss: 0.3992 - auc: 0.8582 - val_loss: 0.3999 - val_auc: 0.8578\n"
     ]
    }
   ],
   "source": [
    "history = model.fit(x_train, y_train,\n",
    "                   epochs=20,\n",
    "                   batch_size=64,\n",
    "                   validation_data=(x_valid, y_valid),\n",
    "                   callbacks=[early_stop, checkpoint])"
   ]
  },
  {
   "cell_type": "code",
   "execution_count": 20,
   "id": "3212ac27",
   "metadata": {},
   "outputs": [],
   "source": [
    "pred = model.predict(test_feature)"
   ]
  },
  {
   "cell_type": "code",
   "execution_count": 21,
   "id": "e355006f",
   "metadata": {},
   "outputs": [
    {
     "data": {
      "image/png": "[encoded data removed]",
      "text/plain": [
       "<Figure size 640x480 with 1 Axes>"
      ]
     },
     "metadata": {},
     "output_type": "display_data"
    }
   ],
   "source": [
    "plt.plot(history.history['loss'], label='train')\n",
    "plt.plot(history.history['val_loss'], label='validation')\n",
    "plt.legend()\n",
    "plt.show()"
   ]
  },
  {
   "cell_type": "code",
   "execution_count": 22,
   "id": "cc948eac",
   "metadata": {},
   "outputs": [],
   "source": [
    "pred_df = pd.DataFrame(pred, columns=['TAG'])\n",
    "pred_df['TAG'] = pred_df['TAG'].apply(lambda x: 1 if x >= 0.5 else 0)"
   ]
  },
  {
   "cell_type": "code",
   "execution_count": 23,
   "id": "6384c4f6",
   "metadata": {},
   "outputs": [
    {
     "data": {
      "text/plain": [
       "1    235372\n",
       "0     15178\n",
       "Name: TAG, dtype: int64"
      ]
     },
     "execution_count": 23,
     "metadata": {},
     "output_type": "execute_result"
    }
   ],
   "source": [
    "# 1 정상, 0 불량\n",
    "pred_df['TAG'].value_counts()"
   ]
  },
  {
   "cell_type": "code",
   "execution_count": 24,
   "id": "58dd689f",
   "metadata": {},
   "outputs": [],
   "source": [
    "import itertools\n",
    "\n",
    "def plot_confusion_matrix(cm, classes,\n",
    "                          normalize=False,\n",
    "                          title='Confusion matrix',\n",
    "                          cmap=plt.cm.Blues):\n",
    "    plt.imshow(cm, interpolation='nearest', cmap=cmap)\n",
    "    plt.title(title)\n",
    "    plt.colorbar()\n",
    "    tick_marks = np.arange(len(classes))\n",
    "    plt.xticks(tick_marks, classes, rotation=0)\n",
    "    plt.yticks(tick_marks, classes)\n",
    "\n",
    "    if normalize:\n",
    "        cm = cm.astype('float') / cm.sum(axis=1)[:, np.newaxis]\n",
    "        # print(\"Normalized confusion matrix\")\n",
    "    else:\n",
    "        1 # print('Confusion matrix, without normalization')\n",
    "\n",
    "    # print(cm)\n",
    "\n",
    "    thresh = cm.max() / 2.\n",
    "    for i, j in itertools.product(range(cm.shape[0]), range(cm.shape[1])):\n",
    "        plt.text(j, i, cm[i, j],\n",
    "                 horizontalalignment=\"center\",\n",
    "                 color=\"white\" if cm[i, j] > thresh else \"black\")\n",
    "\n",
    "    plt.tight_layout()\n",
    "    plt.ylabel('True label')\n",
    "    plt.xlabel('Predicted label')"
   ]
  },
  {
   "cell_type": "code",
   "execution_count": 25,
   "id": "b41b6048",
   "metadata": {},
   "outputs": [
    {
     "data": {
      "image/png": "[encoded data removed]",
      "text/plain": [
       "<Figure size 640x480 with 2 Axes>"
      ]
     },
     "metadata": {},
     "output_type": "display_data"
    }
   ],
   "source": [
    "# 연속된 공정은 실제 불량을 정상으로 예측하는 FN 을 줄여야 함. 실제 정상을 불량으로 예측 시 설비를 정지시키는 수준이지만, 실제 불량을 정상 예측할 경우 다음 공정까지\n",
    "# 투입되는 모든 비용을 망치게 된다. 따라서 재현율 (recall) 중점으로 봐야 함. \n",
    "\n",
    "classify = confusion_matrix(test_label, pred_df)\n",
    "\n",
    "plt.figure()\n",
    "plot_confusion_matrix(classify, classes=[0, 1], title='Confusion matrix')\n",
    "plt.show()"
   ]
  },
  {
   "cell_type": "code",
   "execution_count": 26,
   "id": "0ef206c4",
   "metadata": {},
   "outputs": [
    {
     "name": "stdout",
     "output_type": "stream",
     "text": [
      "[[  3179  49933]\n",
      " [ 11999 185439]]\n"
     ]
    }
   ],
   "source": [
    "print(classify)"
   ]
  },
  {
   "cell_type": "code",
   "execution_count": 27,
   "id": "42e1c355",
   "metadata": {},
   "outputs": [
    {
     "name": "stdout",
     "output_type": "stream",
     "text": [
      "precision: 0.7879\n",
      "recall: 0.9392\n",
      "f1-score: 0.8569\n",
      "accuracy: 0.7528\n"
     ]
    }
   ],
   "source": [
    "p = precision_score(test_label, pred_df)\n",
    "print(\"precision: %0.4f\" %p)\n",
    "r = recall_score(test_label, pred_df)\n",
    "print(\"recall: %0.4f\" %r)\n",
    "f1 = f1_score(test_label, pred_df)\n",
    "print(\"f1-score: %0.4f\" %f1)\n",
    "acc = accuracy_score(test_label, pred_df)\n",
    "print(\"accuracy: %0.4f\" %acc)"
   ]
  },
  {
   "cell_type": "code",
   "execution_count": null,
   "id": "37a43c91",
   "metadata": {},
   "outputs": [],
   "source": []
  },
  {
   "cell_type": "markdown",
   "id": "7bec3eee",
   "metadata": {},
   "source": [
    "#### 참고 : TPOTC 구동 코드 (시간 매우 오래 걸림.) "
   ]
  },
  {
   "cell_type": "code",
   "execution_count": null,
   "id": "41cbaf13",
   "metadata": {},
   "outputs": [],
   "source": [
    "# tpotc = TPOTClassifier(\n",
    "#                         generations=100, \n",
    "#                         population_size=100, \n",
    "#                         scoring=['r2', 'accuracy'], \n",
    "#                         cv=5,\n",
    "#                         verbosity=1, \n",
    "#                         n_jobs=-1, \n",
    "#                         random_state=42, \n",
    "#                         config_dict='TPOT light')\n",
    "# tpotc.fit(x_train, y_train)"
   ]
  },
  {
   "cell_type": "code",
   "execution_count": null,
   "id": "7ad690ed",
   "metadata": {},
   "outputs": [],
   "source": [
    "# print(\"\\nBest Pipeline steps:\", end='\\n')\n",
    "\n",
    "# for idx, (name, transform) in enumerate(tpotc.fitted_pipeline_.steps, start=1):\n",
    "#     print(f\"{idx}. {transform}\")\n",
    "\n",
    "# tpotc.fitted_pipeline_.steps[-1][1] # get the best model"
   ]
  },
  {
   "cell_type": "code",
   "execution_count": null,
   "id": "a79b25d4",
   "metadata": {},
   "outputs": [],
   "source": [
    "# print(tpotc.score(x_test, y_test))\n",
    "# tpotc.export('tpot_exported_pipeline.py')"
   ]
  },
  {
   "cell_type": "code",
   "execution_count": null,
   "id": "d911b4d3",
   "metadata": {},
   "outputs": [],
   "source": []
  },
  {
   "cell_type": "code",
   "execution_count": null,
   "id": "f14f987e",
   "metadata": {},
   "outputs": [],
   "source": []
  },
  {
   "cell_type": "code",
   "execution_count": null,
   "id": "d8641888",
   "metadata": {},
   "outputs": [],
   "source": []
  },
  {
   "cell_type": "code",
   "execution_count": null,
   "id": "2c8f0c71",
   "metadata": {},
   "outputs": [],
   "source": []
  }
 ],
 "metadata": {
  "kernelspec": {
   "display_name": "ml",
   "language": "python",
   "name": "ml"
  },
  "language_info": {
   "codemirror_mode": {
    "name": "ipython",
    "version": 3
   },
   "file_extension": ".py",
   "mimetype": "text/x-python",
   "name": "python",
   "nbconvert_exporter": "python",
   "pygments_lexer": "ipython3",
   "version": "3.9.13"
  }
 },
 "nbformat": 4,
 "nbformat_minor": 5
}
