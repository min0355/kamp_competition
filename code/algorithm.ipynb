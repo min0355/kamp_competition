{
 "cells": [
  {
   "cell_type": "code",
   "execution_count": 1,
   "id": "093a3cb5",
   "metadata": {},
   "outputs": [
    {
     "data": {
      "text/html": [],
      "text/plain": [
       "<IPython.core.display.HTML object>"
      ]
     },
     "metadata": {},
     "output_type": "display_data"
    },
    {
     "name": "stdout",
     "output_type": "stream",
     "text": [
      "Setup Complete\n"
     ]
    }
   ],
   "source": [
    "# 가로로 넓게 쓰기\n",
    "from IPython.core.display import display, HTML  \n",
    "display(HTML(\"\"))\n",
    "\n",
    "print(\"Setup Complete\")"
   ]
  },
  {
   "cell_type": "code",
   "execution_count": 2,
   "id": "59cf5f18",
   "metadata": {},
   "outputs": [],
   "source": [
    "import pandas as pd\n",
    "import numpy as np\n",
    "import os\n",
    "\n",
    "import time \n",
    "import datetime as dt\n",
    "from datetime import datetime\n",
    "\n",
    "%matplotlib inline\n",
    "import matplotlib\n",
    "import matplotlib.pyplot as plt\n",
    "\n",
    "import seaborn as sns\n",
    "plt.style.use('seaborn-whitegrid')\n",
    "\n",
    "from sklearn.preprocessing import LabelEncoder"
   ]
  },
  {
   "cell_type": "code",
   "execution_count": 3,
   "id": "92e16b4b",
   "metadata": {},
   "outputs": [
    {
     "data": {
      "text/html": [
       "<div>\n",
       "<style scoped>\n",
       "    .dataframe tbody tr th:only-of-type {\n",
       "        vertical-align: middle;\n",
       "    }\n",
       "\n",
       "    .dataframe tbody tr th {\n",
       "        vertical-align: top;\n",
       "    }\n",
       "\n",
       "    .dataframe thead th {\n",
       "        text-align: right;\n",
       "    }\n",
       "</style>\n",
       "<table border=\"1\" class=\"dataframe\">\n",
       "  <thead>\n",
       "    <tr style=\"text-align: right;\">\n",
       "      <th></th>\n",
       "      <th>MELT_TEMP</th>\n",
       "      <th>MOTORSPEED</th>\n",
       "      <th>MELT_WEIGHT</th>\n",
       "      <th>TAG</th>\n",
       "    </tr>\n",
       "    <tr>\n",
       "      <th>STD_DT</th>\n",
       "      <th></th>\n",
       "      <th></th>\n",
       "      <th></th>\n",
       "      <th></th>\n",
       "    </tr>\n",
       "  </thead>\n",
       "  <tbody>\n",
       "    <tr>\n",
       "      <th>2020-03-04</th>\n",
       "      <td>48.9</td>\n",
       "      <td>11.6</td>\n",
       "      <td>631</td>\n",
       "      <td>1</td>\n",
       "    </tr>\n",
       "    <tr>\n",
       "      <th>2020-03-04</th>\n",
       "      <td>43.3</td>\n",
       "      <td>7.8</td>\n",
       "      <td>609</td>\n",
       "      <td>1</td>\n",
       "    </tr>\n",
       "    <tr>\n",
       "      <th>2020-03-04</th>\n",
       "      <td>46.4</td>\n",
       "      <td>15.4</td>\n",
       "      <td>608</td>\n",
       "      <td>1</td>\n",
       "    </tr>\n",
       "    <tr>\n",
       "      <th>2020-03-04</th>\n",
       "      <td>37.9</td>\n",
       "      <td>21.2</td>\n",
       "      <td>606</td>\n",
       "      <td>1</td>\n",
       "    </tr>\n",
       "    <tr>\n",
       "      <th>2020-03-04</th>\n",
       "      <td>79.8</td>\n",
       "      <td>173.6</td>\n",
       "      <td>604</td>\n",
       "      <td>1</td>\n",
       "    </tr>\n",
       "  </tbody>\n",
       "</table>\n",
       "</div>"
      ],
      "text/plain": [
       "            MELT_TEMP  MOTORSPEED  MELT_WEIGHT  TAG\n",
       "STD_DT                                             \n",
       "2020-03-04       48.9        11.6          631    1\n",
       "2020-03-04       43.3         7.8          609    1\n",
       "2020-03-04       46.4        15.4          608    1\n",
       "2020-03-04       37.9        21.2          606    1\n",
       "2020-03-04       79.8       173.6          604    1"
      ]
     },
     "execution_count": 3,
     "metadata": {},
     "output_type": "execute_result"
    }
   ],
   "source": [
    "path = \"/home/kym/ML/input/kamp/대회 과제\"\n",
    "os.chdir(path)\n",
    "\n",
    "df = pd.read_csv('melting_tank_mod.csv', encoding='cp949')\n",
    "\n",
    "feature = [\n",
    "    f for f in df.columns if f not in (\"NUM\")\n",
    "]\n",
    "\n",
    "df = df[feature]\n",
    "df['STD_DT'] = df['STD_DT'].apply(lambda x: pd.to_datetime(str(x), format='%Y-%m-%d %H:%M:%S', errors='coerce'))\n",
    "df.set_index('STD_DT', inplace=True)\n",
    "df.to_csv('/home/kym/ML/input/kamp/대회 과제/melting_tank_final.csv', index=False)\n",
    "df.head()"
   ]
  },
  {
   "cell_type": "code",
   "execution_count": 4,
   "id": "1ad9a160",
   "metadata": {},
   "outputs": [
    {
     "name": "stdout",
     "output_type": "stream",
     "text": [
      "<class 'pandas.core.frame.DataFrame'>\n",
      "DatetimeIndex: 835200 entries, 2020-03-04 00:00:00 to 2020-04-30 23:59:00\n",
      "Data columns (total 4 columns):\n",
      " #   Column       Non-Null Count   Dtype  \n",
      "---  ------       --------------   -----  \n",
      " 0   MELT_TEMP    835200 non-null  float64\n",
      " 1   MOTORSPEED   835200 non-null  float64\n",
      " 2   MELT_WEIGHT  835200 non-null  int64  \n",
      " 3   TAG          835200 non-null  int64  \n",
      "dtypes: float64(2), int64(2)\n",
      "memory usage: 31.9 MB\n"
     ]
    }
   ],
   "source": [
    "df.info()"
   ]
  },
  {
   "cell_type": "code",
   "execution_count": 5,
   "id": "71d32e33",
   "metadata": {},
   "outputs": [
    {
     "data": {
      "text/html": [
       "<style type=\"text/css\">\n",
       "#T_4a058_row0_col1 {\n",
       "  width: 10em;\n",
       "  background: linear-gradient(90deg, #205ff2 12.3%, transparent 12.3%);\n",
       "}\n",
       "#T_4a058_row0_col2 {\n",
       "  background-color: #ffeee7;\n",
       "  color: #000000;\n",
       "}\n",
       "#T_4a058_row1_col1 {\n",
       "  width: 10em;\n",
       "  background: linear-gradient(90deg, #205ff2 11.1%, transparent 11.1%);\n",
       "}\n",
       "#T_4a058_row1_col2 {\n",
       "  background-color: #fdcab5;\n",
       "  color: #000000;\n",
       "}\n",
       "#T_4a058_row2_col1 {\n",
       "  width: 10em;\n",
       "  background: linear-gradient(90deg, #205ff2 100.0%, transparent 100.0%);\n",
       "}\n",
       "#T_4a058_row2_col2 {\n",
       "  background-color: #67000d;\n",
       "  color: #f1f1f1;\n",
       "}\n",
       "#T_4a058_row3_col1 {\n",
       "  width: 10em;\n",
       "  background: linear-gradient(90deg, #205ff2 0.2%, transparent 0.2%);\n",
       "}\n",
       "#T_4a058_row3_col2 {\n",
       "  background-color: #fff5f0;\n",
       "  color: #000000;\n",
       "}\n",
       "</style>\n",
       "<table id=\"T_4a058\">\n",
       "  <thead>\n",
       "    <tr>\n",
       "      <th class=\"blank level0\" >&nbsp;</th>\n",
       "      <th id=\"T_4a058_level0_col0\" class=\"col_heading level0 col0\" >count</th>\n",
       "      <th id=\"T_4a058_level0_col1\" class=\"col_heading level0 col1\" >mean</th>\n",
       "      <th id=\"T_4a058_level0_col2\" class=\"col_heading level0 col2\" >std</th>\n",
       "      <th id=\"T_4a058_level0_col3\" class=\"col_heading level0 col3\" >min</th>\n",
       "      <th id=\"T_4a058_level0_col4\" class=\"col_heading level0 col4\" >25%</th>\n",
       "      <th id=\"T_4a058_level0_col5\" class=\"col_heading level0 col5\" >50%</th>\n",
       "      <th id=\"T_4a058_level0_col6\" class=\"col_heading level0 col6\" >75%</th>\n",
       "      <th id=\"T_4a058_level0_col7\" class=\"col_heading level0 col7\" >max</th>\n",
       "    </tr>\n",
       "  </thead>\n",
       "  <tbody>\n",
       "    <tr>\n",
       "      <th id=\"T_4a058_level0_row0\" class=\"row_heading level0 row0\" >MELT_TEMP</th>\n",
       "      <td id=\"T_4a058_row0_col0\" class=\"data row0 col0\" >835200.000000</td>\n",
       "      <td id=\"T_4a058_row0_col1\" class=\"data row0 col1\" >50.920062</td>\n",
       "      <td id=\"T_4a058_row0_col2\" class=\"data row0 col2\" >12.827752</td>\n",
       "      <td id=\"T_4a058_row0_col3\" class=\"data row0 col3\" >30.800000</td>\n",
       "      <td id=\"T_4a058_row0_col4\" class=\"data row0 col4\" >43.000000</td>\n",
       "      <td id=\"T_4a058_row0_col5\" class=\"data row0 col5\" >46.900000</td>\n",
       "      <td id=\"T_4a058_row0_col6\" class=\"data row0 col6\" >50.200000</td>\n",
       "      <td id=\"T_4a058_row0_col7\" class=\"data row0 col7\" >83.200000</td>\n",
       "    </tr>\n",
       "    <tr>\n",
       "      <th id=\"T_4a058_level0_row1\" class=\"row_heading level0 row1\" >MOTORSPEED</th>\n",
       "      <td id=\"T_4a058_row1_col0\" class=\"data row1 col0\" >835200.000000</td>\n",
       "      <td id=\"T_4a058_row1_col1\" class=\"data row1 col1\" >45.978287</td>\n",
       "      <td id=\"T_4a058_row1_col2\" class=\"data row1 col2\" >63.943641</td>\n",
       "      <td id=\"T_4a058_row1_col3\" class=\"data row1 col3\" >0.000000</td>\n",
       "      <td id=\"T_4a058_row1_col4\" class=\"data row1 col4\" >11.900000</td>\n",
       "      <td id=\"T_4a058_row1_col5\" class=\"data row1 col5\" >16.800000</td>\n",
       "      <td id=\"T_4a058_row1_col6\" class=\"data row1 col6\" >21.800000</td>\n",
       "      <td id=\"T_4a058_row1_col7\" class=\"data row1 col7\" >180.400000</td>\n",
       "    </tr>\n",
       "    <tr>\n",
       "      <th id=\"T_4a058_level0_row2\" class=\"row_heading level0 row2\" >MELT_WEIGHT</th>\n",
       "      <td id=\"T_4a058_row2_col0\" class=\"data row2 col0\" >835200.000000</td>\n",
       "      <td id=\"T_4a058_row2_col1\" class=\"data row2 col1\" >414.582481</td>\n",
       "      <td id=\"T_4a058_row2_col2\" class=\"data row2 col2\" >317.234065</td>\n",
       "      <td id=\"T_4a058_row2_col3\" class=\"data row2 col3\" >0.000000</td>\n",
       "      <td id=\"T_4a058_row2_col4\" class=\"data row2 col4\" >186.000000</td>\n",
       "      <td id=\"T_4a058_row2_col5\" class=\"data row2 col5\" >382.000000</td>\n",
       "      <td id=\"T_4a058_row2_col6\" class=\"data row2 col6\" >579.000000</td>\n",
       "      <td id=\"T_4a058_row2_col7\" class=\"data row2 col7\" >2820.000000</td>\n",
       "    </tr>\n",
       "    <tr>\n",
       "      <th id=\"T_4a058_level0_row3\" class=\"row_heading level0 row3\" >TAG</th>\n",
       "      <td id=\"T_4a058_row3_col0\" class=\"data row3 col0\" >835200.000000</td>\n",
       "      <td id=\"T_4a058_row3_col1\" class=\"data row3 col1\" >0.787994</td>\n",
       "      <td id=\"T_4a058_row3_col2\" class=\"data row3 col2\" >0.408729</td>\n",
       "      <td id=\"T_4a058_row3_col3\" class=\"data row3 col3\" >0.000000</td>\n",
       "      <td id=\"T_4a058_row3_col4\" class=\"data row3 col4\" >1.000000</td>\n",
       "      <td id=\"T_4a058_row3_col5\" class=\"data row3 col5\" >1.000000</td>\n",
       "      <td id=\"T_4a058_row3_col6\" class=\"data row3 col6\" >1.000000</td>\n",
       "      <td id=\"T_4a058_row3_col7\" class=\"data row3 col7\" >1.000000</td>\n",
       "    </tr>\n",
       "  </tbody>\n",
       "</table>\n"
      ],
      "text/plain": [
       "<pandas.io.formats.style.Styler at 0x7f2770088be0>"
      ]
     },
     "execution_count": 5,
     "metadata": {},
     "output_type": "execute_result"
    }
   ],
   "source": [
    "df.describe().T.style.bar(subset=['mean'], color='#205ff2').background_gradient(subset=['std'], cmap='Reds')"
   ]
  },
  {
   "cell_type": "code",
   "execution_count": 6,
   "id": "91aff013",
   "metadata": {},
   "outputs": [],
   "source": [
    "X = df.drop(['TAG'], axis=1)\n",
    "y = df['TAG']"
   ]
  },
  {
   "cell_type": "code",
   "execution_count": 7,
   "id": "49446e31",
   "metadata": {},
   "outputs": [],
   "source": [
    "# TPOT : Automatic ML library that automatically enables feature selection and Hyperparameter learning based on multiple machine learning models \n",
    "from tpot import TPOTClassifier"
   ]
  },
  {
   "cell_type": "markdown",
   "id": "fae0379a",
   "metadata": {},
   "source": [
    "reference site : https://machinelearningmastery.com/tpot-for-automated-machine-learning-in-python/"
   ]
  },
  {
   "cell_type": "code",
   "execution_count": 8,
   "id": "737a0fef",
   "metadata": {},
   "outputs": [],
   "source": [
    "from sklearn import model_selection\n",
    "from sklearn.preprocessing import StandardScaler\n",
    "from sklearn.preprocessing import MinMaxScaler\n",
    "from sklearn.model_selection import train_test_split, cross_validate, GridSearchCV, RandomizedSearchCV, GroupKFold\n",
    "\n",
    "# ML Library \n",
    "from sklearn import metrics\n",
    "from sklearn.metrics import accuracy_score, precision_score, recall_score, f1_score, confusion_matrix\n",
    "from sklearn.metrics import precision_recall_curve\n",
    "from sklearn.metrics import mean_absolute_error\n",
    "\n",
    "from imblearn.over_sampling import SMOTE"
   ]
  },
  {
   "cell_type": "code",
   "execution_count": 9,
   "id": "6dec4568",
   "metadata": {},
   "outputs": [],
   "source": [
    "x_train, x_test, y_train, y_test = train_test_split(X, y, test_size=0.3, random_state=42)\n",
    "scaler = MinMaxScaler()\n",
    "x_train = scaler.fit_transform(x_train)\n",
    "x_test = scaler.fit_transform(x_test)"
   ]
  },
  {
   "cell_type": "code",
   "execution_count": 10,
   "id": "8876d82e",
   "metadata": {},
   "outputs": [],
   "source": [
    "# tpotc = TPOTClassifier(\n",
    "#                         generations=100, \n",
    "#                         population_size=100, \n",
    "#                         scoring=['r2', 'accuracy'], \n",
    "#                         cv=5,\n",
    "#                         verbosity=1, \n",
    "#                         n_jobs=-1, \n",
    "#                         random_state=42, \n",
    "#                         config_dict='TPOT light')\n",
    "# tpotc.fit(x_train, y_train)"
   ]
  },
  {
   "cell_type": "code",
   "execution_count": 11,
   "id": "9b168c59",
   "metadata": {},
   "outputs": [],
   "source": [
    "# print(\"\\nBest Pipeline steps:\", end='\\n')\n",
    "\n",
    "# for idx, (name, transform) in enumerate(tpotc.fitted_pipeline_.steps, start=1):\n",
    "#     print(f\"{idx}. {transform}\")\n",
    "\n",
    "# tpotc.fitted_pipeline_.steps[-1][1] # get the best model"
   ]
  },
  {
   "cell_type": "code",
   "execution_count": 12,
   "id": "d643f7b7",
   "metadata": {},
   "outputs": [],
   "source": [
    "# print(tpotc.score(x_test, y_test))\n",
    "# tpotc.export('tpot_exported_pipeline.py')"
   ]
  },
  {
   "cell_type": "code",
   "execution_count": 13,
   "id": "eb7ce047",
   "metadata": {},
   "outputs": [
    {
     "name": "stdout",
     "output_type": "stream",
     "text": [
      "SMOTE 적용 전 학습용 피처 / 라벨 세트:  (584640, 3) (584640,)\n",
      "SMOTE 적용 후 학습용 피처 / 라벨 세트:  (921376, 3) (921376,)\n",
      "SMOTE 적용 후 라벨 값 분포: \n",
      " 0    460688\n",
      "1    460688\n",
      "Name: TAG, dtype: int64\n"
     ]
    }
   ],
   "source": [
    "smote = SMOTE(random_state=42)\n",
    "\n",
    "x_train_over, y_train_over = smote.fit_resample(x_train, y_train)\n",
    "print(\"SMOTE 적용 전 학습용 피처 / 라벨 세트: \", x_train.shape, y_train.shape)\n",
    "print(\"SMOTE 적용 후 학습용 피처 / 라벨 세트: \", x_train_over.shape, y_train_over.shape)\n",
    "print(\"SMOTE 적용 후 라벨 값 분포: \\n\", pd.Series(y_train_over).value_counts())"
   ]
  },
  {
   "cell_type": "code",
   "execution_count": 14,
   "id": "7cbcb52f",
   "metadata": {},
   "outputs": [],
   "source": [
    "def processdata(df, label, window_size):\n",
    "    feature_list = []\n",
    "    label_list = []\n",
    "    \n",
    "    for i in range(len(df) - window_size):\n",
    "        feature_list.append(np.array(df.iloc[i : i + window_size]))\n",
    "        label_list.append(np.array(label.iloc[i + window_size]))\n",
    "        \n",
    "    return np.array(feature_list), np.array(label_list)"
   ]
  },
  {
   "cell_type": "code",
   "execution_count": 15,
   "id": "cb92accd",
   "metadata": {},
   "outputs": [],
   "source": [
    "# dataframe\n",
    "x_train_over = pd.DataFrame(x_train_over, columns=['MELT_TEMP', 'MOTORSPEED', 'MELT_WEIGHT'])\n",
    "y_train_over = pd.DataFrame(y_train_over, columns=['TAG'])"
   ]
  },
  {
   "cell_type": "code",
   "execution_count": 16,
   "id": "12857e68",
   "metadata": {},
   "outputs": [],
   "source": [
    "train_feature, train_label = processdata(x_train_over, y_train_over, 10)"
   ]
  },
  {
   "cell_type": "code",
   "execution_count": 17,
   "id": "a1f70587",
   "metadata": {},
   "outputs": [],
   "source": [
    "x_test = pd.DataFrame(x_test, columns=['MELT_TEMP', 'MOTORSPEED', 'MELT_WEIGHT'])"
   ]
  },
  {
   "cell_type": "code",
   "execution_count": 18,
   "id": "638a6ff5",
   "metadata": {},
   "outputs": [
    {
     "data": {
      "text/plain": [
       "((250550, 10, 3), (250550,))"
      ]
     },
     "execution_count": 18,
     "metadata": {},
     "output_type": "execute_result"
    }
   ],
   "source": [
    "test_feature, test_label = processdata(x_test, y_test, 10)\n",
    "test_feature.shape, test_label.shape"
   ]
  },
  {
   "cell_type": "code",
   "execution_count": 19,
   "id": "3f0d5717",
   "metadata": {},
   "outputs": [
    {
     "data": {
      "text/plain": [
       "((921366, 10, 3), (921366, 1))"
      ]
     },
     "execution_count": 19,
     "metadata": {},
     "output_type": "execute_result"
    }
   ],
   "source": [
    "train_feature.shape, train_label.shape"
   ]
  },
  {
   "cell_type": "code",
   "execution_count": 20,
   "id": "e7742f46",
   "metadata": {},
   "outputs": [
    {
     "data": {
      "text/plain": [
       "((644956, 10, 3), (276410, 10, 3))"
      ]
     },
     "execution_count": 20,
     "metadata": {},
     "output_type": "execute_result"
    }
   ],
   "source": [
    "x_train, x_valid, y_train, y_valid = train_test_split(train_feature, train_label, test_size=0.3)\n",
    "x_train.shape, x_valid.shape"
   ]
  },
  {
   "cell_type": "code",
   "execution_count": 21,
   "id": "6bbf806a",
   "metadata": {},
   "outputs": [],
   "source": [
    "from keras.models import Sequential\n",
    "from keras.layers import Dense, LSTM\n",
    "from keras.preprocessing import sequence\n",
    "from keras.utils import np_utils\n",
    "from keras.callbacks import EarlyStopping, ModelCheckpoint\n",
    "\n",
    "import tensorflow as tf\n",
    "from tensorflow import keras\n",
    "from tensorflow.keras.layers import GRU, Dropout, Dense, Conv1D\n",
    "from tensorflow.keras import models"
   ]
  },
  {
   "cell_type": "code",
   "execution_count": 22,
   "id": "7776ab93",
   "metadata": {},
   "outputs": [],
   "source": [
    "model_path = path"
   ]
  },
  {
   "cell_type": "code",
   "execution_count": 24,
   "id": "78526855",
   "metadata": {},
   "outputs": [],
   "source": [
    "model = Sequential()\n",
    "model.add(GRU(4,\n",
    "              input_shape=(train_feature.shape[1], train_feature.shape[2]),\n",
    "              activation='tanh',\n",
    "              return_sequences=True)\n",
    "         )\n",
    "model.add(tf.keras.layers.Dropout(0.2))\n",
    "model.add(GRU(4,\n",
    "              activation='tanh',\n",
    "              return_sequences=False)\n",
    "         )\n",
    "model.add(Dense(1, activation='sigmoid'))"
   ]
  },
  {
   "cell_type": "code",
   "execution_count": 26,
   "id": "de67e011",
   "metadata": {},
   "outputs": [],
   "source": [
    "model.compile(loss=tf.keras.losses.BinaryCrossentropy(), optimizer=tf.keras.optimizers.Nadam(), metrics=[tf.keras.metrics.AUC()])\n",
    "early_stop = EarlyStopping(monitor='val_loss', patience=3, min_delta = 0.01)\n",
    "filename = os.path.join(model_path, 'melting_tank_checkpoint.h5')\n",
    "checkpoint = ModelCheckpoint(filename, monitor='val_loss', verbose=2, save_best_only=True, mode='auto')"
   ]
  },
  {
   "cell_type": "code",
   "execution_count": 27,
   "id": "0ffe6bdf",
   "metadata": {},
   "outputs": [
    {
     "name": "stdout",
     "output_type": "stream",
     "text": [
      "Epoch 1/50\n"
     ]
    },
    {
     "name": "stderr",
     "output_type": "stream",
     "text": [
      "2022-11-06 18:41:57.299817: I tensorflow/stream_executor/cuda/cuda_dnn.cc:366] Loaded cuDNN version 8302\n",
      "2022-11-06 18:41:57.393962: I tensorflow/stream_executor/cuda/cuda_blas.cc:1774] TensorFloat-32 will be used for the matrix multiplication. This will only be logged once.\n"
     ]
    },
    {
     "name": "stdout",
     "output_type": "stream",
     "text": [
      "5030/5039 [============================>.] - ETA: 0s - loss: 0.4264 - auc_1: 0.8517\n",
      "Epoch 00001: val_loss improved from inf to 0.41138, saving model to /home/kym/ML/input/kamp/대회 과제/melting_tank_checkpoint.h5\n",
      "5039/5039 [==============================] - 31s 6ms/step - loss: 0.4264 - auc_1: 0.8516 - val_loss: 0.4114 - val_auc_1: 0.8557\n",
      "Epoch 2/50\n",
      "5034/5039 [============================>.] - ETA: 0s - loss: 0.4119 - auc_1: 0.8542\n",
      "Epoch 00002: val_loss improved from 0.41138 to 0.40827, saving model to /home/kym/ML/input/kamp/대회 과제/melting_tank_checkpoint.h5\n",
      "5039/5039 [==============================] - 28s 6ms/step - loss: 0.4119 - auc_1: 0.8543 - val_loss: 0.4083 - val_auc_1: 0.8563\n",
      "Epoch 3/50\n",
      "5037/5039 [============================>.] - ETA: 0s - loss: 0.4095 - auc_1: 0.8548\n",
      "Epoch 00003: val_loss improved from 0.40827 to 0.40645, saving model to /home/kym/ML/input/kamp/대회 과제/melting_tank_checkpoint.h5\n",
      "5039/5039 [==============================] - 27s 5ms/step - loss: 0.4095 - auc_1: 0.8548 - val_loss: 0.4065 - val_auc_1: 0.8564\n",
      "Epoch 4/50\n",
      "5034/5039 [============================>.] - ETA: 0s - loss: 0.4081 - auc_1: 0.8557\n",
      "Epoch 00004: val_loss improved from 0.40645 to 0.40576, saving model to /home/kym/ML/input/kamp/대회 과제/melting_tank_checkpoint.h5\n",
      "5039/5039 [==============================] - 28s 6ms/step - loss: 0.4082 - auc_1: 0.8557 - val_loss: 0.4058 - val_auc_1: 0.8567\n"
     ]
    }
   ],
   "source": [
    "history = model.fit(x_train, y_train,\n",
    "                   epochs=50,\n",
    "                   batch_size=128,\n",
    "                   validation_data=(x_valid, y_valid),\n",
    "                   callbacks=[early_stop, checkpoint])"
   ]
  },
  {
   "cell_type": "code",
   "execution_count": 28,
   "id": "3212ac27",
   "metadata": {},
   "outputs": [],
   "source": [
    "pred = model.predict(test_feature)"
   ]
  },
  {
   "cell_type": "code",
   "execution_count": 29,
   "id": "e355006f",
   "metadata": {},
   "outputs": [
    {
     "data": {
      "image/png": "[encoded data removed]",
      "text/plain": [
       "<Figure size 640x480 with 1 Axes>"
      ]
     },
     "metadata": {},
     "output_type": "display_data"
    }
   ],
   "source": [
    "plt.plot(history.history['loss'], label='train')\n",
    "plt.plot(history.history['val_loss'], label='validation')\n",
    "plt.legend()\n",
    "plt.show()"
   ]
  },
  {
   "cell_type": "code",
   "execution_count": 30,
   "id": "cc948eac",
   "metadata": {},
   "outputs": [],
   "source": [
    "pred_df = pd.DataFrame(pred, columns=['TAG'])\n",
    "pred_df['TAG'] = pred_df['TAG'].apply(lambda x: 1 if x >= 0.5 else 0)"
   ]
  },
  {
   "cell_type": "code",
   "execution_count": 31,
   "id": "6384c4f6",
   "metadata": {},
   "outputs": [
    {
     "data": {
      "text/plain": [
       "1    229269\n",
       "0     21281\n",
       "Name: TAG, dtype: int64"
      ]
     },
     "execution_count": 31,
     "metadata": {},
     "output_type": "execute_result"
    }
   ],
   "source": [
    "pred_df['TAG'].value_counts()"
   ]
  },
  {
   "cell_type": "code",
   "execution_count": 33,
   "id": "18257f2e",
   "metadata": {},
   "outputs": [],
   "source": [
    "import itertools\n",
    "\n",
    "def plot_confusion_matrix(cm, classes,\n",
    "                          normalize=False,\n",
    "                          title='Confusion matrix',\n",
    "                          cmap=plt.cm.Blues):\n",
    "    \"\"\"\n",
    "    This function prints and plots the confusion matrix.\n",
    "    Normalization can be applied by setting `normalize=True`.\n",
    "    \"\"\"\n",
    "    plt.imshow(cm, interpolation='nearest', cmap=cmap)\n",
    "    plt.title(title)\n",
    "    plt.colorbar()\n",
    "    tick_marks = np.arange(len(classes))\n",
    "    plt.xticks(tick_marks, classes, rotation=0)\n",
    "    plt.yticks(tick_marks, classes)\n",
    "\n",
    "    if normalize:\n",
    "        cm = cm.astype('float') / cm.sum(axis=1)[:, np.newaxis]\n",
    "        #print(\"Normalized confusion matrix\")\n",
    "    else:\n",
    "        1#print('Confusion matrix, without normalization')\n",
    "\n",
    "    #print(cm)\n",
    "\n",
    "    thresh = cm.max() / 2.\n",
    "    for i, j in itertools.product(range(cm.shape[0]), range(cm.shape[1])):\n",
    "        plt.text(j, i, cm[i, j],\n",
    "                 horizontalalignment=\"center\",\n",
    "                 color=\"white\" if cm[i, j] > thresh else \"black\")\n",
    "\n",
    "    plt.tight_layout()\n",
    "    plt.ylabel('True label')\n",
    "    plt.xlabel('Predicted label')"
   ]
  },
  {
   "cell_type": "code",
   "execution_count": 34,
   "id": "b41b6048",
   "metadata": {},
   "outputs": [
    {
     "data": {
      "image/png": "[encoded data removed]",
      "text/plain": [
       "<Figure size 640x480 with 2 Axes>"
      ]
     },
     "metadata": {},
     "output_type": "display_data"
    }
   ],
   "source": [
    "classify = confusion_matrix(test_label, pred_df)\n",
    "\n",
    "plt.figure()\n",
    "plot_confusion_matrix(classify, classes=[0, 1], title='Confusion matrix')\n",
    "plt.show()"
   ]
  },
  {
   "cell_type": "code",
   "execution_count": 35,
   "id": "42e1c355",
   "metadata": {},
   "outputs": [
    {
     "name": "stdout",
     "output_type": "stream",
     "text": [
      "precision: 0.7878\n",
      "recall: 0.9149\n",
      "f1-score: 0.8466\n",
      "accuracy: 0.7388\n"
     ]
    }
   ],
   "source": [
    "p = precision_score(test_label, pred_df)\n",
    "print(\"precision: %0.4f\" %p)\n",
    "r = recall_score(test_label, pred_df)\n",
    "print(\"recall: %0.4f\" %r)\n",
    "f1 = f1_score(test_label, pred_df)\n",
    "print(\"f1-score: %0.4f\" %f1)\n",
    "acc = accuracy_score(test_label, pred_df)\n",
    "print(\"accuracy: %0.4f\" %acc)"
   ]
  },
  {
   "cell_type": "code",
   "execution_count": null,
   "id": "a5dfb05c",
   "metadata": {},
   "outputs": [],
   "source": []
  },
  {
   "cell_type": "code",
   "execution_count": null,
   "id": "457eade8",
   "metadata": {},
   "outputs": [],
   "source": []
  },
  {
   "cell_type": "code",
   "execution_count": null,
   "id": "22e86a43",
   "metadata": {},
   "outputs": [],
   "source": []
  },
  {
   "cell_type": "code",
   "execution_count": null,
   "id": "b63f6b26",
   "metadata": {},
   "outputs": [],
   "source": []
  },
  {
   "cell_type": "code",
   "execution_count": null,
   "id": "661e55b8",
   "metadata": {},
   "outputs": [],
   "source": []
  },
  {
   "cell_type": "code",
   "execution_count": null,
   "id": "41cbaf13",
   "metadata": {},
   "outputs": [],
   "source": []
  },
  {
   "cell_type": "code",
   "execution_count": null,
   "id": "7ad690ed",
   "metadata": {},
   "outputs": [],
   "source": []
  }
 ],
 "metadata": {
  "kernelspec": {
   "display_name": "ml",
   "language": "python",
   "name": "ml"
  },
  "language_info": {
   "codemirror_mode": {
    "name": "ipython",
    "version": 3
   },
   "file_extension": ".py",
   "mimetype": "text/x-python",
   "name": "python",
   "nbconvert_exporter": "python",
   "pygments_lexer": "ipython3",
   "version": "3.9.13"
  }
 },
 "nbformat": 4,
 "nbformat_minor": 5
}
