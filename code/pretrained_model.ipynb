{
 "cells": [
  {
   "cell_type": "code",
   "execution_count": 81,
   "id": "a7a64323",
   "metadata": {},
   "outputs": [
    {
     "data": {
      "text/html": [],
      "text/plain": [
       "<IPython.core.display.HTML object>"
      ]
     },
     "metadata": {},
     "output_type": "display_data"
    },
    {
     "name": "stdout",
     "output_type": "stream",
     "text": [
      "Setup Complete\n"
     ]
    }
   ],
   "source": [
    "# 가로로 넓게 쓰기\n",
    "from IPython.core.display import display, HTML  \n",
    "display(HTML(\"\"))\n",
    "\n",
    "print(\"Setup Complete\")"
   ]
  },
  {
   "cell_type": "code",
   "execution_count": 82,
   "id": "07216985",
   "metadata": {},
   "outputs": [],
   "source": [
    "import pandas as pd\n",
    "import numpy as np\n",
    "import os\n",
    "\n",
    "import time \n",
    "import datetime as dt\n",
    "from datetime import datetime\n",
    "\n",
    "from sklearn.preprocessing import LabelEncoder"
   ]
  },
  {
   "cell_type": "code",
   "execution_count": 83,
   "id": "44299916",
   "metadata": {},
   "outputs": [],
   "source": [
    "# def make_df(df, label):\n",
    "    \n",
    "#     for col in label:\n",
    "#         print(col)\n",
    "#         le = LabelEncoder()\n",
    "#         k = df.pop(col)\n",
    "#         le.fit(k)\n",
    "#         k = pd.DataFrame(le.transform(k))\n",
    "#         df = pd.concat([df, k], axis=1)\n",
    "        \n",
    "#     return df"
   ]
  },
  {
   "cell_type": "code",
   "execution_count": 84,
   "id": "f61d9088",
   "metadata": {},
   "outputs": [],
   "source": [
    "def generate_features(df):\n",
    "    df['STD_DT'] = df['STD_DT'].apply(lambda x: datetime.strptime(x, '%Y-%m-%d %H:%M:%S'))\n",
    "    df.loc[:, 'weekofyear'] = df['STD_DT'].dt.weekofyear\n",
    "    df.loc[:, 'dayofweek'] = df['STD_DT'].dt.dayofweek\n",
    "    df.loc[:, 'weekend'] = (df['STD_DT'].dt.weekday >=5).astype(int)\n",
    "#     df.loc[:, 'hour'] = df['STD_DT'].dt.hour\n",
    "#     df.loc[:, 'min'] = df['STD_DT'].dt.mimute\n",
    "    \n",
    "    return df"
   ]
  },
  {
   "cell_type": "code",
   "execution_count": 85,
   "id": "fd0d514e",
   "metadata": {},
   "outputs": [
    {
     "name": "stderr",
     "output_type": "stream",
     "text": [
      "/tmp/ipykernel_16398/1836040535.py:3: FutureWarning: Series.dt.weekofyear and Series.dt.week have been deprecated. Please use Series.dt.isocalendar().week instead.\n",
      "  df.loc[:, 'weekofyear'] = df['STD_DT'].dt.weekofyear\n"
     ]
    },
    {
     "data": {
      "text/html": [
       "<div>\n",
       "<style scoped>\n",
       "    .dataframe tbody tr th:only-of-type {\n",
       "        vertical-align: middle;\n",
       "    }\n",
       "\n",
       "    .dataframe tbody tr th {\n",
       "        vertical-align: top;\n",
       "    }\n",
       "\n",
       "    .dataframe thead th {\n",
       "        text-align: right;\n",
       "    }\n",
       "</style>\n",
       "<table border=\"1\" class=\"dataframe\">\n",
       "  <thead>\n",
       "    <tr style=\"text-align: right;\">\n",
       "      <th></th>\n",
       "      <th>STD_DT</th>\n",
       "      <th>MELT_TEMP</th>\n",
       "      <th>MOTORSPEED</th>\n",
       "      <th>MELT_WEIGHT</th>\n",
       "      <th>TAG</th>\n",
       "      <th>weekofyear</th>\n",
       "      <th>dayofweek</th>\n",
       "      <th>weekend</th>\n",
       "    </tr>\n",
       "  </thead>\n",
       "  <tbody>\n",
       "    <tr>\n",
       "      <th>0</th>\n",
       "      <td>2020-03-04</td>\n",
       "      <td>48.9</td>\n",
       "      <td>11.6</td>\n",
       "      <td>631</td>\n",
       "      <td>1</td>\n",
       "      <td>10</td>\n",
       "      <td>2</td>\n",
       "      <td>0</td>\n",
       "    </tr>\n",
       "    <tr>\n",
       "      <th>1</th>\n",
       "      <td>2020-03-04</td>\n",
       "      <td>43.3</td>\n",
       "      <td>7.8</td>\n",
       "      <td>609</td>\n",
       "      <td>1</td>\n",
       "      <td>10</td>\n",
       "      <td>2</td>\n",
       "      <td>0</td>\n",
       "    </tr>\n",
       "    <tr>\n",
       "      <th>2</th>\n",
       "      <td>2020-03-04</td>\n",
       "      <td>46.4</td>\n",
       "      <td>15.4</td>\n",
       "      <td>608</td>\n",
       "      <td>1</td>\n",
       "      <td>10</td>\n",
       "      <td>2</td>\n",
       "      <td>0</td>\n",
       "    </tr>\n",
       "    <tr>\n",
       "      <th>3</th>\n",
       "      <td>2020-03-04</td>\n",
       "      <td>37.9</td>\n",
       "      <td>21.2</td>\n",
       "      <td>606</td>\n",
       "      <td>1</td>\n",
       "      <td>10</td>\n",
       "      <td>2</td>\n",
       "      <td>0</td>\n",
       "    </tr>\n",
       "    <tr>\n",
       "      <th>4</th>\n",
       "      <td>2020-03-04</td>\n",
       "      <td>79.8</td>\n",
       "      <td>173.6</td>\n",
       "      <td>604</td>\n",
       "      <td>1</td>\n",
       "      <td>10</td>\n",
       "      <td>2</td>\n",
       "      <td>0</td>\n",
       "    </tr>\n",
       "  </tbody>\n",
       "</table>\n",
       "</div>"
      ],
      "text/plain": [
       "      STD_DT  MELT_TEMP  MOTORSPEED  MELT_WEIGHT  TAG  weekofyear  dayofweek  \\\n",
       "0 2020-03-04       48.9        11.6          631    1          10          2   \n",
       "1 2020-03-04       43.3         7.8          609    1          10          2   \n",
       "2 2020-03-04       46.4        15.4          608    1          10          2   \n",
       "3 2020-03-04       37.9        21.2          606    1          10          2   \n",
       "4 2020-03-04       79.8       173.6          604    1          10          2   \n",
       "\n",
       "   weekend  \n",
       "0        0  \n",
       "1        0  \n",
       "2        0  \n",
       "3        0  \n",
       "4        0  "
      ]
     },
     "execution_count": 85,
     "metadata": {},
     "output_type": "execute_result"
    }
   ],
   "source": [
    "path = \"/home/kym/ML/input/kamp/대회 과제\"\n",
    "os.chdir(path)\n",
    "\n",
    "df = pd.read_csv('melting_tank_mod.csv', encoding='cp949')\n",
    "\n",
    "df = generate_features(df)\n",
    "feature = [\n",
    "    f for f in df.columns if f in (\"STD_DT\", \"MELT_TEMP\", \"MOTORSPEED\", \"MELT_WEIGHT\", \"weekofyear\", \"dayofweek\", \"weekend\", \"TAG\")\n",
    "]\n",
    "\n",
    "df = df[feature]\n",
    "# df = make_df(df, ['TAG'])\n",
    "# df.drop([0], axis=1, inplace=True)\n",
    "df.to_csv('/home/kym/ML/input/kamp/대회 과제/melting_tank_final.csv', index=False)\n",
    "df.head()"
   ]
  },
  {
   "cell_type": "code",
   "execution_count": 86,
   "id": "d2931fa4",
   "metadata": {},
   "outputs": [
    {
     "data": {
      "text/html": [
       "<div>\n",
       "<style scoped>\n",
       "    .dataframe tbody tr th:only-of-type {\n",
       "        vertical-align: middle;\n",
       "    }\n",
       "\n",
       "    .dataframe tbody tr th {\n",
       "        vertical-align: top;\n",
       "    }\n",
       "\n",
       "    .dataframe thead th {\n",
       "        text-align: right;\n",
       "    }\n",
       "</style>\n",
       "<table border=\"1\" class=\"dataframe\">\n",
       "  <thead>\n",
       "    <tr style=\"text-align: right;\">\n",
       "      <th></th>\n",
       "      <th>TAG</th>\n",
       "    </tr>\n",
       "  </thead>\n",
       "  <tbody>\n",
       "    <tr>\n",
       "      <th>0</th>\n",
       "      <td>1</td>\n",
       "    </tr>\n",
       "    <tr>\n",
       "      <th>1</th>\n",
       "      <td>1</td>\n",
       "    </tr>\n",
       "    <tr>\n",
       "      <th>2</th>\n",
       "      <td>1</td>\n",
       "    </tr>\n",
       "    <tr>\n",
       "      <th>3</th>\n",
       "      <td>1</td>\n",
       "    </tr>\n",
       "    <tr>\n",
       "      <th>4</th>\n",
       "      <td>1</td>\n",
       "    </tr>\n",
       "    <tr>\n",
       "      <th>...</th>\n",
       "      <td>...</td>\n",
       "    </tr>\n",
       "    <tr>\n",
       "      <th>835195</th>\n",
       "      <td>1</td>\n",
       "    </tr>\n",
       "    <tr>\n",
       "      <th>835196</th>\n",
       "      <td>1</td>\n",
       "    </tr>\n",
       "    <tr>\n",
       "      <th>835197</th>\n",
       "      <td>1</td>\n",
       "    </tr>\n",
       "    <tr>\n",
       "      <th>835198</th>\n",
       "      <td>1</td>\n",
       "    </tr>\n",
       "    <tr>\n",
       "      <th>835199</th>\n",
       "      <td>1</td>\n",
       "    </tr>\n",
       "  </tbody>\n",
       "</table>\n",
       "<p>835200 rows × 1 columns</p>\n",
       "</div>"
      ],
      "text/plain": [
       "        TAG\n",
       "0         1\n",
       "1         1\n",
       "2         1\n",
       "3         1\n",
       "4         1\n",
       "...     ...\n",
       "835195    1\n",
       "835196    1\n",
       "835197    1\n",
       "835198    1\n",
       "835199    1\n",
       "\n",
       "[835200 rows x 1 columns]"
      ]
     },
     "execution_count": 86,
     "metadata": {},
     "output_type": "execute_result"
    }
   ],
   "source": [
    "tag = pd.DataFrame(df['TAG'])\n",
    "tag"
   ]
  },
  {
   "cell_type": "code",
   "execution_count": 91,
   "id": "ac687225",
   "metadata": {},
   "outputs": [
    {
     "name": "stdout",
     "output_type": "stream",
     "text": [
      "정상 개수 : 658133 (0.79 %)\n",
      "비 정상 개수: 177067 (0.21 %)\n"
     ]
    }
   ],
   "source": [
    "# 1 정상, 0 불량 (가이드 북 기준, 본래는 유저가 관심 있는 것을 보통 1 로 사용)\n",
    "print(\"정상 개수 : {} ({:.2f} %)\".format(tag.TAG.value_counts()[1], tag.TAG.value_counts(normalize=True)[1]))\n",
    "print(\"비 정상 개수: {} ({:.2f} %)\".format(tag.TAG.value_counts()[0], tag.TAG.value_counts(normalize=True)[0])) "
   ]
  },
  {
   "cell_type": "code",
   "execution_count": null,
   "id": "8ab9aa6b",
   "metadata": {},
   "outputs": [],
   "source": []
  },
  {
   "cell_type": "code",
   "execution_count": null,
   "id": "2fa5dd77",
   "metadata": {},
   "outputs": [],
   "source": []
  },
  {
   "cell_type": "code",
   "execution_count": null,
   "id": "f891844f",
   "metadata": {},
   "outputs": [],
   "source": []
  },
  {
   "cell_type": "code",
   "execution_count": null,
   "id": "f4afb182",
   "metadata": {},
   "outputs": [],
   "source": []
  },
  {
   "cell_type": "code",
   "execution_count": null,
   "id": "072933b7",
   "metadata": {},
   "outputs": [],
   "source": []
  }
 ],
 "metadata": {
  "kernelspec": {
   "display_name": "ml",
   "language": "python",
   "name": "ml"
  },
  "language_info": {
   "codemirror_mode": {
    "name": "ipython",
    "version": 3
   },
   "file_extension": ".py",
   "mimetype": "text/x-python",
   "name": "python",
   "nbconvert_exporter": "python",
   "pygments_lexer": "ipython3",
   "version": "3.9.13"
  }
 },
 "nbformat": 4,
 "nbformat_minor": 5
}
