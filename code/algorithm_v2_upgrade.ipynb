{
 "cells": [
  {
   "cell_type": "code",
   "execution_count": 1,
   "id": "093a3cb5",
   "metadata": {},
   "outputs": [
    {
     "data": {
      "text/html": [
       "<style>.container { width:100% !important; }</style>"
      ],
      "text/plain": [
       "<IPython.core.display.HTML object>"
      ]
     },
     "metadata": {},
     "output_type": "display_data"
    }
   ],
   "source": [
    "# 주피터 가로로 넓게 쓰기\n",
    "from IPython.core.display import display, HTML\n",
    "display(HTML(\"<style>.container { width:100% !important; }</style>\"))"
   ]
  },
  {
   "cell_type": "code",
   "execution_count": 2,
   "id": "59cf5f18",
   "metadata": {},
   "outputs": [
    {
     "name": "stdout",
     "output_type": "stream",
     "text": [
      "Setup Complete\n"
     ]
    }
   ],
   "source": [
    "import os\n",
    "import pandas as pd\n",
    "import numpy as np\n",
    "\n",
    "import time \n",
    "import datetime as dt\n",
    "from datetime import datetime\n",
    "\n",
    "%matplotlib inline\n",
    "import matplotlib\n",
    "import matplotlib.pyplot as plt\n",
    "\n",
    "import seaborn as sns\n",
    "plt.style.use('seaborn-whitegrid')\n",
    "\n",
    "import pickle\n",
    "import joblib\n",
    "\n",
    "# ML Library\n",
    "\n",
    "from sklearn import model_selection\n",
    "from sklearn.preprocessing import LabelEncoder\n",
    "from sklearn.preprocessing import StandardScaler\n",
    "from sklearn.preprocessing import MinMaxScaler\n",
    "from sklearn.model_selection import train_test_split, cross_validate, GridSearchCV, RandomizedSearchCV, GroupKFold\n",
    "\n",
    "from sklearn import metrics\n",
    "from sklearn.metrics import precision_recall_curve, average_precision_score, auc\n",
    "from sklearn.metrics import roc_curve\n",
    "from sklearn.metrics import roc_auc_score\n",
    " \n",
    "from sklearn.metrics import accuracy_score, precision_score, recall_score, f1_score, confusion_matrix\n",
    "from sklearn.metrics import precision_recall_curve\n",
    "from sklearn.metrics import mean_absolute_error\n",
    "\n",
    "from imblearn.over_sampling import SMOTE\n",
    "from imblearn.combine import SMOTETomek # 오버 샘플링 성능 비교용 \n",
    "from imblearn.under_sampling import TomekLinks\n",
    "\n",
    "from adamp import AdamP\n",
    "from tensorflow_addons.optimizers import AdamW\n",
    "\n",
    "from keras.models import Sequential\n",
    "from keras.layers import Dense, LSTM\n",
    "from keras.preprocessing import sequence\n",
    "from keras.utils import np_utils\n",
    "from keras.callbacks import EarlyStopping, ModelCheckpoint\n",
    "\n",
    "import tensorflow as tf\n",
    "from tensorflow import keras\n",
    "from tensorflow.keras.layers import GRU, Dropout, Dense, Conv1D\n",
    "from tensorflow.keras import models\n",
    "\n",
    "print(\"Setup Complete\")"
   ]
  },
  {
   "cell_type": "code",
   "execution_count": 3,
   "id": "92e16b4b",
   "metadata": {},
   "outputs": [
    {
     "data": {
      "text/html": [
       "<div>\n",
       "<style scoped>\n",
       "    .dataframe tbody tr th:only-of-type {\n",
       "        vertical-align: middle;\n",
       "    }\n",
       "\n",
       "    .dataframe tbody tr th {\n",
       "        vertical-align: top;\n",
       "    }\n",
       "\n",
       "    .dataframe thead th {\n",
       "        text-align: right;\n",
       "    }\n",
       "</style>\n",
       "<table border=\"1\" class=\"dataframe\">\n",
       "  <thead>\n",
       "    <tr style=\"text-align: right;\">\n",
       "      <th></th>\n",
       "      <th>MELT_TEMP</th>\n",
       "      <th>MOTORSPEED</th>\n",
       "      <th>MELT_WEIGHT</th>\n",
       "      <th>TAG</th>\n",
       "    </tr>\n",
       "    <tr>\n",
       "      <th>STD_DT</th>\n",
       "      <th></th>\n",
       "      <th></th>\n",
       "      <th></th>\n",
       "      <th></th>\n",
       "    </tr>\n",
       "  </thead>\n",
       "  <tbody>\n",
       "    <tr>\n",
       "      <th>2020-03-04</th>\n",
       "      <td>48.9</td>\n",
       "      <td>11.6</td>\n",
       "      <td>631</td>\n",
       "      <td>1</td>\n",
       "    </tr>\n",
       "    <tr>\n",
       "      <th>2020-03-04</th>\n",
       "      <td>43.3</td>\n",
       "      <td>7.8</td>\n",
       "      <td>609</td>\n",
       "      <td>1</td>\n",
       "    </tr>\n",
       "    <tr>\n",
       "      <th>2020-03-04</th>\n",
       "      <td>46.4</td>\n",
       "      <td>15.4</td>\n",
       "      <td>608</td>\n",
       "      <td>1</td>\n",
       "    </tr>\n",
       "    <tr>\n",
       "      <th>2020-03-04</th>\n",
       "      <td>37.9</td>\n",
       "      <td>21.2</td>\n",
       "      <td>606</td>\n",
       "      <td>1</td>\n",
       "    </tr>\n",
       "    <tr>\n",
       "      <th>2020-03-04</th>\n",
       "      <td>79.8</td>\n",
       "      <td>173.6</td>\n",
       "      <td>604</td>\n",
       "      <td>1</td>\n",
       "    </tr>\n",
       "  </tbody>\n",
       "</table>\n",
       "</div>"
      ],
      "text/plain": [
       "            MELT_TEMP  MOTORSPEED  MELT_WEIGHT  TAG\n",
       "STD_DT                                             \n",
       "2020-03-04       48.9        11.6          631    1\n",
       "2020-03-04       43.3         7.8          609    1\n",
       "2020-03-04       46.4        15.4          608    1\n",
       "2020-03-04       37.9        21.2          606    1\n",
       "2020-03-04       79.8       173.6          604    1"
      ]
     },
     "execution_count": 3,
     "metadata": {},
     "output_type": "execute_result"
    }
   ],
   "source": [
    "path = \"/home/kym/ML/input/kamp/대회 과제\"\n",
    "os.chdir(path)\n",
    "model_path = path\n",
    "\n",
    "df = pd.read_csv('melting_tank_mod.csv', encoding='cp949')\n",
    "\n",
    "feature = [\n",
    "    f for f in df.columns if f not in (\"NUM\")\n",
    "]\n",
    "\n",
    "df = df[feature]\n",
    "df['STD_DT'] = df['STD_DT'].apply(lambda x: pd.to_datetime(str(x), format='%Y-%m-%d %H:%M:%S', errors='coerce'))\n",
    "df.set_index('STD_DT', inplace=True)\n",
    "\n",
    "df.to_csv('/home/kym/ML/input/kamp/대회 과제/melting_tank_final.csv', index=False)\n",
    "df.head()"
   ]
  },
  {
   "cell_type": "code",
   "execution_count": 4,
   "id": "1ad9a160",
   "metadata": {},
   "outputs": [
    {
     "name": "stdout",
     "output_type": "stream",
     "text": [
      "<class 'pandas.core.frame.DataFrame'>\n",
      "DatetimeIndex: 835200 entries, 2020-03-04 00:00:00 to 2020-04-30 23:59:00\n",
      "Data columns (total 4 columns):\n",
      " #   Column       Non-Null Count   Dtype  \n",
      "---  ------       --------------   -----  \n",
      " 0   MELT_TEMP    835200 non-null  float64\n",
      " 1   MOTORSPEED   835200 non-null  float64\n",
      " 2   MELT_WEIGHT  835200 non-null  int64  \n",
      " 3   TAG          835200 non-null  int64  \n",
      "dtypes: float64(2), int64(2)\n",
      "memory usage: 31.9 MB\n"
     ]
    }
   ],
   "source": [
    "df.info()"
   ]
  },
  {
   "cell_type": "code",
   "execution_count": 5,
   "id": "71d32e33",
   "metadata": {},
   "outputs": [
    {
     "data": {
      "text/html": [
       "<style type=\"text/css\">\n",
       "#T_c32d4_row0_col1 {\n",
       "  width: 10em;\n",
       "  background: linear-gradient(90deg, #205ff2 12.3%, transparent 12.3%);\n",
       "}\n",
       "#T_c32d4_row0_col2 {\n",
       "  background-color: #ffeee7;\n",
       "  color: #000000;\n",
       "}\n",
       "#T_c32d4_row1_col1 {\n",
       "  width: 10em;\n",
       "  background: linear-gradient(90deg, #205ff2 11.1%, transparent 11.1%);\n",
       "}\n",
       "#T_c32d4_row1_col2 {\n",
       "  background-color: #fdcab5;\n",
       "  color: #000000;\n",
       "}\n",
       "#T_c32d4_row2_col1 {\n",
       "  width: 10em;\n",
       "  background: linear-gradient(90deg, #205ff2 100.0%, transparent 100.0%);\n",
       "}\n",
       "#T_c32d4_row2_col2 {\n",
       "  background-color: #67000d;\n",
       "  color: #f1f1f1;\n",
       "}\n",
       "#T_c32d4_row3_col1 {\n",
       "  width: 10em;\n",
       "  background: linear-gradient(90deg, #205ff2 0.2%, transparent 0.2%);\n",
       "}\n",
       "#T_c32d4_row3_col2 {\n",
       "  background-color: #fff5f0;\n",
       "  color: #000000;\n",
       "}\n",
       "</style>\n",
       "<table id=\"T_c32d4\">\n",
       "  <thead>\n",
       "    <tr>\n",
       "      <th class=\"blank level0\" >&nbsp;</th>\n",
       "      <th id=\"T_c32d4_level0_col0\" class=\"col_heading level0 col0\" >count</th>\n",
       "      <th id=\"T_c32d4_level0_col1\" class=\"col_heading level0 col1\" >mean</th>\n",
       "      <th id=\"T_c32d4_level0_col2\" class=\"col_heading level0 col2\" >std</th>\n",
       "      <th id=\"T_c32d4_level0_col3\" class=\"col_heading level0 col3\" >min</th>\n",
       "      <th id=\"T_c32d4_level0_col4\" class=\"col_heading level0 col4\" >25%</th>\n",
       "      <th id=\"T_c32d4_level0_col5\" class=\"col_heading level0 col5\" >50%</th>\n",
       "      <th id=\"T_c32d4_level0_col6\" class=\"col_heading level0 col6\" >75%</th>\n",
       "      <th id=\"T_c32d4_level0_col7\" class=\"col_heading level0 col7\" >max</th>\n",
       "    </tr>\n",
       "  </thead>\n",
       "  <tbody>\n",
       "    <tr>\n",
       "      <th id=\"T_c32d4_level0_row0\" class=\"row_heading level0 row0\" >MELT_TEMP</th>\n",
       "      <td id=\"T_c32d4_row0_col0\" class=\"data row0 col0\" >835200.000000</td>\n",
       "      <td id=\"T_c32d4_row0_col1\" class=\"data row0 col1\" >50.920062</td>\n",
       "      <td id=\"T_c32d4_row0_col2\" class=\"data row0 col2\" >12.827752</td>\n",
       "      <td id=\"T_c32d4_row0_col3\" class=\"data row0 col3\" >30.800000</td>\n",
       "      <td id=\"T_c32d4_row0_col4\" class=\"data row0 col4\" >43.000000</td>\n",
       "      <td id=\"T_c32d4_row0_col5\" class=\"data row0 col5\" >46.900000</td>\n",
       "      <td id=\"T_c32d4_row0_col6\" class=\"data row0 col6\" >50.200000</td>\n",
       "      <td id=\"T_c32d4_row0_col7\" class=\"data row0 col7\" >83.200000</td>\n",
       "    </tr>\n",
       "    <tr>\n",
       "      <th id=\"T_c32d4_level0_row1\" class=\"row_heading level0 row1\" >MOTORSPEED</th>\n",
       "      <td id=\"T_c32d4_row1_col0\" class=\"data row1 col0\" >835200.000000</td>\n",
       "      <td id=\"T_c32d4_row1_col1\" class=\"data row1 col1\" >45.978287</td>\n",
       "      <td id=\"T_c32d4_row1_col2\" class=\"data row1 col2\" >63.943641</td>\n",
       "      <td id=\"T_c32d4_row1_col3\" class=\"data row1 col3\" >0.000000</td>\n",
       "      <td id=\"T_c32d4_row1_col4\" class=\"data row1 col4\" >11.900000</td>\n",
       "      <td id=\"T_c32d4_row1_col5\" class=\"data row1 col5\" >16.800000</td>\n",
       "      <td id=\"T_c32d4_row1_col6\" class=\"data row1 col6\" >21.800000</td>\n",
       "      <td id=\"T_c32d4_row1_col7\" class=\"data row1 col7\" >180.400000</td>\n",
       "    </tr>\n",
       "    <tr>\n",
       "      <th id=\"T_c32d4_level0_row2\" class=\"row_heading level0 row2\" >MELT_WEIGHT</th>\n",
       "      <td id=\"T_c32d4_row2_col0\" class=\"data row2 col0\" >835200.000000</td>\n",
       "      <td id=\"T_c32d4_row2_col1\" class=\"data row2 col1\" >414.582481</td>\n",
       "      <td id=\"T_c32d4_row2_col2\" class=\"data row2 col2\" >317.234065</td>\n",
       "      <td id=\"T_c32d4_row2_col3\" class=\"data row2 col3\" >0.000000</td>\n",
       "      <td id=\"T_c32d4_row2_col4\" class=\"data row2 col4\" >186.000000</td>\n",
       "      <td id=\"T_c32d4_row2_col5\" class=\"data row2 col5\" >382.000000</td>\n",
       "      <td id=\"T_c32d4_row2_col6\" class=\"data row2 col6\" >579.000000</td>\n",
       "      <td id=\"T_c32d4_row2_col7\" class=\"data row2 col7\" >2820.000000</td>\n",
       "    </tr>\n",
       "    <tr>\n",
       "      <th id=\"T_c32d4_level0_row3\" class=\"row_heading level0 row3\" >TAG</th>\n",
       "      <td id=\"T_c32d4_row3_col0\" class=\"data row3 col0\" >835200.000000</td>\n",
       "      <td id=\"T_c32d4_row3_col1\" class=\"data row3 col1\" >0.787994</td>\n",
       "      <td id=\"T_c32d4_row3_col2\" class=\"data row3 col2\" >0.408729</td>\n",
       "      <td id=\"T_c32d4_row3_col3\" class=\"data row3 col3\" >0.000000</td>\n",
       "      <td id=\"T_c32d4_row3_col4\" class=\"data row3 col4\" >1.000000</td>\n",
       "      <td id=\"T_c32d4_row3_col5\" class=\"data row3 col5\" >1.000000</td>\n",
       "      <td id=\"T_c32d4_row3_col6\" class=\"data row3 col6\" >1.000000</td>\n",
       "      <td id=\"T_c32d4_row3_col7\" class=\"data row3 col7\" >1.000000</td>\n",
       "    </tr>\n",
       "  </tbody>\n",
       "</table>\n"
      ],
      "text/plain": [
       "<pandas.io.formats.style.Styler at 0x7fc00c1ac9d0>"
      ]
     },
     "execution_count": 5,
     "metadata": {},
     "output_type": "execute_result"
    }
   ],
   "source": [
    "# 표준 편차가 큰 feature 인 재료의 질량은 관찰 그래프를 통해 극히 영향도가 미미한 것을 알았기에 제외하고, 탱크 온도와 모터 속도만으로 학습함. \n",
    "df.describe().T.style.bar(subset=['mean'], color='#205ff2').background_gradient(subset=['std'], cmap='Reds')"
   ]
  },
  {
   "cell_type": "code",
   "execution_count": 6,
   "id": "7b30de00",
   "metadata": {},
   "outputs": [
    {
     "data": {
      "text/html": [
       "<div>\n",
       "<style scoped>\n",
       "    .dataframe tbody tr th:only-of-type {\n",
       "        vertical-align: middle;\n",
       "    }\n",
       "\n",
       "    .dataframe tbody tr th {\n",
       "        vertical-align: top;\n",
       "    }\n",
       "\n",
       "    .dataframe thead th {\n",
       "        text-align: right;\n",
       "    }\n",
       "</style>\n",
       "<table border=\"1\" class=\"dataframe\">\n",
       "  <thead>\n",
       "    <tr style=\"text-align: right;\">\n",
       "      <th></th>\n",
       "      <th>MELT_TEMP</th>\n",
       "      <th>MOTORSPEED</th>\n",
       "      <th>MELT_WEIGHT</th>\n",
       "      <th>TAG</th>\n",
       "    </tr>\n",
       "    <tr>\n",
       "      <th>STD_DT</th>\n",
       "      <th></th>\n",
       "      <th></th>\n",
       "      <th></th>\n",
       "      <th></th>\n",
       "    </tr>\n",
       "  </thead>\n",
       "  <tbody>\n",
       "    <tr>\n",
       "      <th>2020-03-17 03:00:00</th>\n",
       "      <td>44.9</td>\n",
       "      <td>14.8</td>\n",
       "      <td>626</td>\n",
       "      <td>1</td>\n",
       "    </tr>\n",
       "    <tr>\n",
       "      <th>2020-03-17 03:00:00</th>\n",
       "      <td>45.6</td>\n",
       "      <td>7.3</td>\n",
       "      <td>627</td>\n",
       "      <td>1</td>\n",
       "    </tr>\n",
       "    <tr>\n",
       "      <th>2020-03-17 03:00:00</th>\n",
       "      <td>48.1</td>\n",
       "      <td>16.8</td>\n",
       "      <td>630</td>\n",
       "      <td>1</td>\n",
       "    </tr>\n",
       "    <tr>\n",
       "      <th>2020-03-17 03:00:00</th>\n",
       "      <td>43.9</td>\n",
       "      <td>21.5</td>\n",
       "      <td>647</td>\n",
       "      <td>1</td>\n",
       "    </tr>\n",
       "    <tr>\n",
       "      <th>2020-03-17 03:00:00</th>\n",
       "      <td>74.5</td>\n",
       "      <td>175.3</td>\n",
       "      <td>648</td>\n",
       "      <td>1</td>\n",
       "    </tr>\n",
       "  </tbody>\n",
       "</table>\n",
       "</div>"
      ],
      "text/plain": [
       "                     MELT_TEMP  MOTORSPEED  MELT_WEIGHT  TAG\n",
       "STD_DT                                                      \n",
       "2020-03-17 03:00:00       44.9        14.8          626    1\n",
       "2020-03-17 03:00:00       45.6         7.3          627    1\n",
       "2020-03-17 03:00:00       48.1        16.8          630    1\n",
       "2020-03-17 03:00:00       43.9        21.5          647    1\n",
       "2020-03-17 03:00:00       74.5       175.3          648    1"
      ]
     },
     "execution_count": 6,
     "metadata": {},
     "output_type": "execute_result"
    }
   ],
   "source": [
    "# 전체 데이터 83 만여개를 모두 사용하여 학습할 경우 real time detection 이 전부 정상으로 나오는 문제가 발생함.\n",
    "# 따라서, 정상 구간 부분을 버리고 OK / NG 가 모두 존재하는 부분만 학습을 진행함. \n",
    "\n",
    "start_point = 189000\n",
    "end_point = 580000\n",
    "\n",
    "df = df.iloc[start_point:end_point, :]\n",
    "df.head()"
   ]
  },
  {
   "cell_type": "code",
   "execution_count": 7,
   "id": "a080d8f7",
   "metadata": {},
   "outputs": [
    {
     "data": {
      "text/plain": [
       "(391000, 4)"
      ]
     },
     "execution_count": 7,
     "metadata": {},
     "output_type": "execute_result"
    }
   ],
   "source": [
    "df.shape"
   ]
  },
  {
   "cell_type": "code",
   "execution_count": 8,
   "id": "3000c3c0",
   "metadata": {},
   "outputs": [
    {
     "data": {
      "text/plain": [
       "Index(['MELT_TEMP', 'MOTORSPEED', 'MELT_WEIGHT', 'TAG'], dtype='object')"
      ]
     },
     "execution_count": 8,
     "metadata": {},
     "output_type": "execute_result"
    }
   ],
   "source": [
    "df.columns"
   ]
  },
  {
   "cell_type": "code",
   "execution_count": 9,
   "id": "bd74bfd5",
   "metadata": {},
   "outputs": [],
   "source": [
    "df = df[['MELT_TEMP', 'MOTORSPEED', 'TAG']]"
   ]
  },
  {
   "cell_type": "code",
   "execution_count": 10,
   "id": "4e83b234",
   "metadata": {},
   "outputs": [],
   "source": [
    "split_date = int(df.shape[0] * 0.7)\n",
    "\n",
    "train = df[:split_date]\n",
    "test = df[split_date:]"
   ]
  },
  {
   "cell_type": "code",
   "execution_count": 11,
   "id": "6dec4568",
   "metadata": {},
   "outputs": [],
   "source": [
    "scaler = MinMaxScaler()\n",
    "train_sc = scaler.fit_transform(train)\n",
    "test_sc = scaler.transform(test)"
   ]
  },
  {
   "cell_type": "code",
   "execution_count": 12,
   "id": "06a9a4fb",
   "metadata": {},
   "outputs": [],
   "source": [
    "x_train_values = train_sc[:, :-1]\n",
    "y_train_values = train_sc[:, -1]"
   ]
  },
  {
   "cell_type": "code",
   "execution_count": 13,
   "id": "1a2496bc",
   "metadata": {},
   "outputs": [
    {
     "name": "stdout",
     "output_type": "stream",
     "text": [
      "SMOTETomek 적용 전 학습용 피처 / 라벨 세트:  (273700, 2) (273700,)\n",
      "SMOTETomek 적용 후 학습용 피처 / 라벨 세트:  (281451, 2) (281451,)\n",
      "SMOTETomek 적용 후 라벨 값 분포: \n",
      " 1.0    140817\n",
      "0.0    140634\n",
      "dtype: int64\n"
     ]
    }
   ],
   "source": [
    "smoteto = SMOTETomek(tomek=TomekLinks(sampling_strategy='majority'), random_state=42)\n",
    "x_train_over, y_train_over = smoteto.fit_resample(x_train_values, y_train_values)\n",
    "\n",
    "print(\"SMOTETomek 적용 전 학습용 피처 / 라벨 세트: \", x_train_values.shape, y_train_values.shape)\n",
    "print(\"SMOTETomek 적용 후 학습용 피처 / 라벨 세트: \", x_train_over.shape, y_train_over.shape)\n",
    "print(\"SMOTETomek 적용 후 라벨 값 분포: \\n\", pd.Series(y_train_over).value_counts())"
   ]
  },
  {
   "cell_type": "code",
   "execution_count": 14,
   "id": "cad00027",
   "metadata": {},
   "outputs": [],
   "source": [
    "def make_dataset(df, label, window_size):\n",
    "    feature_list = []\n",
    "    label_list = []\n",
    "    \n",
    "    for i in range(len(df) - window_size):\n",
    "        feature_list.append(np.array(df.iloc[i : i + window_size]))\n",
    "        label_list.append(np.array(label.iloc[i + window_size]))\n",
    "        \n",
    "    return np.array(feature_list), np.array(label_list)"
   ]
  },
  {
   "cell_type": "code",
   "execution_count": 15,
   "id": "33a8fe99",
   "metadata": {},
   "outputs": [],
   "source": [
    "# dataframe\n",
    "x_train_over = pd.DataFrame(x_train_over, columns=['MELT_TEMP', 'MOTORSPEED'])\n",
    "y_train_over = pd.DataFrame(y_train_over, columns=['TAG'])"
   ]
  },
  {
   "cell_type": "code",
   "execution_count": 17,
   "id": "12857e68",
   "metadata": {},
   "outputs": [
    {
     "data": {
      "text/plain": [
       "((281441, 10, 2), (281441, 1))"
      ]
     },
     "execution_count": 17,
     "metadata": {},
     "output_type": "execute_result"
    }
   ],
   "source": [
    "# window size = 10\n",
    "train_feature, train_label = make_dataset(x_train_over, y_train_over, 10)\n",
    "train_feature.shape, train_label.shape"
   ]
  },
  {
   "cell_type": "code",
   "execution_count": 18,
   "id": "a1f70587",
   "metadata": {},
   "outputs": [],
   "source": [
    "test_sc = pd.DataFrame(test_sc, columns=['MELT_TEMP', 'MOTORSPEED', 'TAG'])"
   ]
  },
  {
   "cell_type": "code",
   "execution_count": 19,
   "id": "845b711e",
   "metadata": {},
   "outputs": [],
   "source": [
    "feature_cols = ['MELT_TEMP', 'MOTORSPEED']\n",
    "label_cols = ['TAG']"
   ]
  },
  {
   "cell_type": "code",
   "execution_count": 20,
   "id": "638a6ff5",
   "metadata": {},
   "outputs": [],
   "source": [
    "test_feature = test_sc[feature_cols]\n",
    "test_label = test_sc[label_cols]\n",
    "\n",
    "test_feature, test_label = make_dataset(test_feature, test_label, 10)"
   ]
  },
  {
   "cell_type": "code",
   "execution_count": 21,
   "id": "dec5ec4a",
   "metadata": {},
   "outputs": [
    {
     "data": {
      "text/plain": [
       "((197008, 10, 2), (84433, 10, 2))"
      ]
     },
     "execution_count": 21,
     "metadata": {},
     "output_type": "execute_result"
    }
   ],
   "source": [
    "x_train, x_valid, y_train, y_valid = train_test_split(train_feature, train_label, test_size=0.3)\n",
    "x_train.shape, x_valid.shape"
   ]
  },
  {
   "cell_type": "markdown",
   "id": "6c84578d",
   "metadata": {},
   "source": [
    "### Model"
   ]
  },
  {
   "cell_type": "code",
   "execution_count": 22,
   "id": "78526855",
   "metadata": {},
   "outputs": [
    {
     "name": "stderr",
     "output_type": "stream",
     "text": [
      "2022-11-26 15:23:37.485811: E tensorflow/stream_executor/cuda/cuda_driver.cc:271] failed call to cuInit: CUDA_ERROR_UNKNOWN: unknown error\n",
      "2022-11-26 15:23:37.485831: I tensorflow/stream_executor/cuda/cuda_diagnostics.cc:169] retrieving CUDA diagnostic information for host: kym-System-Product-Name\n",
      "2022-11-26 15:23:37.485835: I tensorflow/stream_executor/cuda/cuda_diagnostics.cc:176] hostname: kym-System-Product-Name\n",
      "2022-11-26 15:23:37.485918: I tensorflow/stream_executor/cuda/cuda_diagnostics.cc:200] libcuda reported version is: 515.65.1\n",
      "2022-11-26 15:23:37.485930: I tensorflow/stream_executor/cuda/cuda_diagnostics.cc:204] kernel reported version is: 515.65.1\n",
      "2022-11-26 15:23:37.485933: I tensorflow/stream_executor/cuda/cuda_diagnostics.cc:310] kernel version seems to match DSO: 515.65.1\n",
      "2022-11-26 15:23:37.486104: I tensorflow/core/platform/cpu_feature_guard.cc:151] This TensorFlow binary is optimized with oneAPI Deep Neural Network Library (oneDNN) to use the following CPU instructions in performance-critical operations:  AVX2 FMA\n",
      "To enable them in other operations, rebuild TensorFlow with the appropriate compiler flags.\n"
     ]
    },
    {
     "name": "stdout",
     "output_type": "stream",
     "text": [
      "Model: \"sequential\"\n",
      "_________________________________________________________________\n",
      " Layer (type)                Output Shape              Param #   \n",
      "=================================================================\n",
      " gru (GRU)                   (None, 10, 64)            13056     \n",
      "                                                                 \n",
      " dropout (Dropout)           (None, 10, 64)            0         \n",
      "                                                                 \n",
      " gru_1 (GRU)                 (None, 10, 16)            3936      \n",
      "                                                                 \n",
      " dropout_1 (Dropout)         (None, 10, 16)            0         \n",
      "                                                                 \n",
      " gru_2 (GRU)                 (None, 4)                 264       \n",
      "                                                                 \n",
      " dense (Dense)               (None, 1)                 5         \n",
      "                                                                 \n",
      "=================================================================\n",
      "Total params: 17,261\n",
      "Trainable params: 17,261\n",
      "Non-trainable params: 0\n",
      "_________________________________________________________________\n"
     ]
    }
   ],
   "source": [
    "model = Sequential()\n",
    "model.add(GRU(64,\n",
    "              input_shape=(train_feature.shape[1], train_feature.shape[2]),\n",
    "              activation='tanh',\n",
    "              return_sequences=True)\n",
    "         )\n",
    "model.add(tf.keras.layers.Dropout(0.2))\n",
    "model.add(GRU(16,\n",
    "              activation='tanh',\n",
    "              return_sequences=True)\n",
    "         )\n",
    "model.add(tf.keras.layers.Dropout(0.2))\n",
    "model.add(GRU(4,\n",
    "              activation='tanh',\n",
    "              return_sequences=False)\n",
    "         )\n",
    "model.add(Dense(1, activation='sigmoid'))\n",
    "model.summary()"
   ]
  },
  {
   "cell_type": "code",
   "execution_count": 23,
   "id": "0069c2cb",
   "metadata": {},
   "outputs": [],
   "source": [
    "# Aactivation function \n",
    "\n",
    "# step = tf.Variable(0, trainable=False)\n",
    "# schedule = tf.optimizers.schedules.PiecewiseConstantDecay(\n",
    "#     [10000, 15000], [1e-0, 1e-1, 1e-2])\n",
    "# # lr and wd can be a function or a tensor\n",
    "# lr = 1e-3 * schedule(step)\n",
    "# wd = lambda: 1e-4 * schedule(step)\n",
    "\n",
    "# AdamW"
   ]
  },
  {
   "cell_type": "code",
   "execution_count": 24,
   "id": "de67e011",
   "metadata": {},
   "outputs": [],
   "source": [
    "# 현실 고려 시 FN (음성으로 예측했는데 실제로 양성인 것 = 정상 (1) 으로 예측했는데 실제로 불량 (0) 인 것) 을 중점적으로 개선해야 한다. \n",
    "\n",
    "model.compile(loss=tf.keras.losses.BinaryCrossentropy(), optimizer=tf.keras.optimizers.Adamax(), metrics=[tf.keras.metrics.AUC(curve='ROC')])\n",
    "early_stop = EarlyStopping(monitor='val_loss', patience=5, min_delta = 0.003)\n",
    "filename = os.path.join(model_path, 'melting_tank_pretrained_model.h5')\n",
    "checkpoint = ModelCheckpoint(filename, monitor='val_loss', verbose=2, save_best_only=True, mode='auto')"
   ]
  },
  {
   "cell_type": "code",
   "execution_count": 25,
   "id": "0ffe6bdf",
   "metadata": {},
   "outputs": [
    {
     "name": "stdout",
     "output_type": "stream",
     "text": [
      "Epoch 1/20\n",
      "3074/3079 [============================>.] - ETA: 0s - loss: 0.5098 - auc: 0.8073\n",
      "Epoch 00001: val_loss improved from inf to 0.44910, saving model to /home/kym/ML/input/kamp/대회 과제/melting_tank_pretrained_model.h5\n",
      "3079/3079 [==============================] - 37s 11ms/step - loss: 0.5097 - auc: 0.8074 - val_loss: 0.4491 - val_auc: 0.8614\n",
      "Epoch 2/20\n",
      "3077/3079 [============================>.] - ETA: 0s - loss: 0.4354 - auc: 0.8659\n",
      "Epoch 00002: val_loss improved from 0.44910 to 0.40964, saving model to /home/kym/ML/input/kamp/대회 과제/melting_tank_pretrained_model.h5\n",
      "3079/3079 [==============================] - 35s 11ms/step - loss: 0.4354 - auc: 0.8659 - val_loss: 0.4096 - val_auc: 0.8802\n",
      "Epoch 3/20\n",
      "3075/3079 [============================>.] - ETA: 0s - loss: 0.4003 - auc: 0.8834\n",
      "Epoch 00003: val_loss improved from 0.40964 to 0.38672, saving model to /home/kym/ML/input/kamp/대회 과제/melting_tank_pretrained_model.h5\n",
      "3079/3079 [==============================] - 34s 11ms/step - loss: 0.4002 - auc: 0.8835 - val_loss: 0.3867 - val_auc: 0.8861\n",
      "Epoch 4/20\n",
      "3078/3079 [============================>.] - ETA: 0s - loss: 0.3878 - auc: 0.8868\n",
      "Epoch 00004: val_loss improved from 0.38672 to 0.38066, saving model to /home/kym/ML/input/kamp/대회 과제/melting_tank_pretrained_model.h5\n",
      "3079/3079 [==============================] - 34s 11ms/step - loss: 0.3878 - auc: 0.8868 - val_loss: 0.3807 - val_auc: 0.8874\n",
      "Epoch 5/20\n",
      "3078/3079 [============================>.] - ETA: 0s - loss: 0.3846 - auc: 0.8868\n",
      "Epoch 00005: val_loss did not improve from 0.38066\n",
      "3079/3079 [==============================] - 35s 11ms/step - loss: 0.3846 - auc: 0.8868 - val_loss: 0.3819 - val_auc: 0.8872\n",
      "Epoch 6/20\n",
      "3076/3079 [============================>.] - ETA: 0s - loss: 0.3833 - auc: 0.8867\n",
      "Epoch 00006: val_loss improved from 0.38066 to 0.37850, saving model to /home/kym/ML/input/kamp/대회 과제/melting_tank_pretrained_model.h5\n",
      "3079/3079 [==============================] - 35s 11ms/step - loss: 0.3832 - auc: 0.8867 - val_loss: 0.3785 - val_auc: 0.8872\n",
      "Epoch 7/20\n",
      "3075/3079 [============================>.] - ETA: 0s - loss: 0.3816 - auc: 0.8872\n",
      "Epoch 00007: val_loss improved from 0.37850 to 0.37799, saving model to /home/kym/ML/input/kamp/대회 과제/melting_tank_pretrained_model.h5\n",
      "3079/3079 [==============================] - 35s 11ms/step - loss: 0.3817 - auc: 0.8872 - val_loss: 0.3780 - val_auc: 0.8878\n",
      "Epoch 8/20\n",
      "3079/3079 [==============================] - ETA: 0s - loss: 0.3808 - auc: 0.8876\n",
      "Epoch 00008: val_loss did not improve from 0.37799\n",
      "3079/3079 [==============================] - 34s 11ms/step - loss: 0.3808 - auc: 0.8876 - val_loss: 0.3783 - val_auc: 0.8879\n",
      "Epoch 9/20\n",
      "3079/3079 [==============================] - ETA: 0s - loss: 0.3800 - auc: 0.8883\n",
      "Epoch 00009: val_loss improved from 0.37799 to 0.37666, saving model to /home/kym/ML/input/kamp/대회 과제/melting_tank_pretrained_model.h5\n",
      "3079/3079 [==============================] - 33s 11ms/step - loss: 0.3800 - auc: 0.8883 - val_loss: 0.3767 - val_auc: 0.8875\n",
      "Epoch 10/20\n",
      "3078/3079 [============================>.] - ETA: 0s - loss: 0.3792 - auc: 0.8882\n",
      "Epoch 00010: val_loss did not improve from 0.37666\n",
      "3079/3079 [==============================] - 34s 11ms/step - loss: 0.3792 - auc: 0.8882 - val_loss: 0.3775 - val_auc: 0.8878\n",
      "Epoch 11/20\n",
      "3079/3079 [==============================] - ETA: 0s - loss: 0.3786 - auc: 0.8881\n",
      "Epoch 00011: val_loss improved from 0.37666 to 0.37642, saving model to /home/kym/ML/input/kamp/대회 과제/melting_tank_pretrained_model.h5\n",
      "3079/3079 [==============================] - 34s 11ms/step - loss: 0.3786 - auc: 0.8881 - val_loss: 0.3764 - val_auc: 0.8884\n",
      "Epoch 12/20\n",
      "3078/3079 [============================>.] - ETA: 0s - loss: 0.3777 - auc: 0.8884\n",
      "Epoch 00012: val_loss improved from 0.37642 to 0.37477, saving model to /home/kym/ML/input/kamp/대회 과제/melting_tank_pretrained_model.h5\n",
      "3079/3079 [==============================] - 34s 11ms/step - loss: 0.3777 - auc: 0.8884 - val_loss: 0.3748 - val_auc: 0.8887\n",
      "Epoch 13/20\n",
      "3075/3079 [============================>.] - ETA: 0s - loss: 0.3769 - auc: 0.8887\n",
      "Epoch 00013: val_loss did not improve from 0.37477\n",
      "3079/3079 [==============================] - 34s 11ms/step - loss: 0.3769 - auc: 0.8887 - val_loss: 0.3751 - val_auc: 0.8887\n",
      "Epoch 14/20\n",
      "3077/3079 [============================>.] - ETA: 0s - loss: 0.3763 - auc: 0.8893\n",
      "Epoch 00014: val_loss did not improve from 0.37477\n",
      "3079/3079 [==============================] - 34s 11ms/step - loss: 0.3763 - auc: 0.8893 - val_loss: 0.3762 - val_auc: 0.8891\n"
     ]
    }
   ],
   "source": [
    "history = model.fit(x_train, y_train,\n",
    "                   epochs=20,\n",
    "                   batch_size=64,\n",
    "                   validation_data=(x_valid, y_valid),\n",
    "                   callbacks=[early_stop, checkpoint])"
   ]
  },
  {
   "cell_type": "code",
   "execution_count": 26,
   "id": "3559f2b6",
   "metadata": {},
   "outputs": [
    {
     "data": {
      "text/plain": [
       "['mx_rscaler.pkl']"
      ]
     },
     "execution_count": 26,
     "metadata": {},
     "output_type": "execute_result"
    }
   ],
   "source": [
    "scaler_filename = \"mx_rscaler.pkl\"\n",
    "joblib.dump(scaler, scaler_filename)"
   ]
  },
  {
   "cell_type": "code",
   "execution_count": 27,
   "id": "3212ac27",
   "metadata": {},
   "outputs": [],
   "source": [
    "model.load_weights('melting_tank_pretrained_model.h5')\n",
    "pred = model.predict(test_feature)"
   ]
  },
  {
   "cell_type": "code",
   "execution_count": 28,
   "id": "e355006f",
   "metadata": {},
   "outputs": [
    {
     "data": {
      "image/png": "[encoded data removed]",
      "text/plain": [
       "<Figure size 640x480 with 1 Axes>"
      ]
     },
     "metadata": {},
     "output_type": "display_data"
    }
   ],
   "source": [
    "plt.plot(history.history['loss'], label='train')\n",
    "plt.plot(history.history['val_loss'], label='validation')\n",
    "plt.legend()\n",
    "plt.show()"
   ]
  },
  {
   "cell_type": "code",
   "execution_count": 29,
   "id": "cc948eac",
   "metadata": {},
   "outputs": [],
   "source": [
    "pred_df = pd.DataFrame(pred, columns=['TAG'])\n",
    "pred_df['TAG'] = pred_df['TAG'].apply(lambda x: 1 if x >= 0.5 else 0)"
   ]
  },
  {
   "cell_type": "code",
   "execution_count": 30,
   "id": "6384c4f6",
   "metadata": {},
   "outputs": [
    {
     "data": {
      "text/plain": [
       "1    70388\n",
       "0    46902\n",
       "Name: TAG, dtype: int64"
      ]
     },
     "execution_count": 30,
     "metadata": {},
     "output_type": "execute_result"
    }
   ],
   "source": [
    "# 1 정상, 0 불량\n",
    "pred_df['TAG'].value_counts()"
   ]
  },
  {
   "cell_type": "code",
   "execution_count": 31,
   "id": "58dd689f",
   "metadata": {},
   "outputs": [],
   "source": [
    "import itertools\n",
    "\n",
    "def plot_confusion_matrix(cm, classes,\n",
    "                          normalize=False,\n",
    "                          title='Confusion matrix',\n",
    "                          cmap=plt.cm.Blues):\n",
    "    plt.imshow(cm, interpolation='nearest', cmap=cmap)\n",
    "    plt.title(title)\n",
    "    plt.colorbar()\n",
    "    tick_marks = np.arange(len(classes))\n",
    "    plt.xticks(tick_marks, classes, rotation=0)\n",
    "    plt.yticks(tick_marks, classes)\n",
    "\n",
    "    if normalize:\n",
    "        cm = cm.astype('float') / cm.sum(axis=1)[:, np.newaxis]\n",
    "        # print(\"Normalized confusion matrix\")\n",
    "    else:\n",
    "        1 # print('Confusion matrix, without normalization')\n",
    "\n",
    "    # print(cm)\n",
    "\n",
    "    thresh = cm.max() / 2.\n",
    "    for i, j in itertools.product(range(cm.shape[0]), range(cm.shape[1])):\n",
    "        plt.text(j, i, cm[i, j],\n",
    "                 horizontalalignment=\"center\",\n",
    "                 color=\"white\" if cm[i, j] > thresh else \"black\")\n",
    "\n",
    "    plt.tight_layout()\n",
    "    plt.ylabel('True label')\n",
    "    plt.xlabel('Predicted label')"
   ]
  },
  {
   "cell_type": "code",
   "execution_count": 32,
   "id": "b41b6048",
   "metadata": {},
   "outputs": [
    {
     "data": {
      "image/png": "[encoded data removed]",
      "text/plain": [
       "<Figure size 640x480 with 2 Axes>"
      ]
     },
     "metadata": {},
     "output_type": "display_data"
    }
   ],
   "source": [
    "# 연속된 공정은 실제 불량을 정상으로 예측하는 FN 을 줄여야 함. 실제 정상을 불량으로 예측 시 설비를 정지시키는 수준이지만, 실제 불량을 정상 예측할 경우 다음 공정까지\n",
    "# 투입되는 모든 비용을 망치게 된다. 따라서 재현율 (recall) 중점으로 봐야 함. \n",
    "\n",
    "classify = confusion_matrix(test_label, pred_df)\n",
    "\n",
    "plt.figure()\n",
    "plot_confusion_matrix(classify, classes=[0, 1], title='Confusion matrix')\n",
    "plt.show()"
   ]
  },
  {
   "cell_type": "code",
   "execution_count": 33,
   "id": "1cec92c5",
   "metadata": {},
   "outputs": [
    {
     "name": "stdout",
     "output_type": "stream",
     "text": [
      "[[23565  8569]\n",
      " [23337 61819]]\n"
     ]
    }
   ],
   "source": [
    "print(classify)"
   ]
  },
  {
   "cell_type": "code",
   "execution_count": 34,
   "id": "42e1c355",
   "metadata": {},
   "outputs": [
    {
     "name": "stdout",
     "output_type": "stream",
     "text": [
      "precision: 0.8783\n",
      "recall: 0.7260\n",
      "f1-score: 0.7949\n",
      "accuracy: 0.7280\n"
     ]
    }
   ],
   "source": [
    "p = precision_score(test_label, pred_df)\n",
    "print(\"precision: %0.4f\" %p)\n",
    "r = recall_score(test_label, pred_df)\n",
    "print(\"recall: %0.4f\" %r)\n",
    "f1 = f1_score(test_label, pred_df)\n",
    "print(\"f1-score: %0.4f\" %f1)\n",
    "acc = accuracy_score(test_label, pred_df)\n",
    "print(\"accuracy: %0.4f\" %acc)"
   ]
  },
  {
   "cell_type": "code",
   "execution_count": 35,
   "id": "4129f089",
   "metadata": {},
   "outputs": [
    {
     "name": "stdout",
     "output_type": "stream",
     "text": [
      "f1-score: 0.7949\n"
     ]
    },
    {
     "data": {
      "image/png": "[encoded data removed]",
      "text/plain": [
       "<Figure size 640x480 with 1 Axes>"
      ]
     },
     "metadata": {},
     "output_type": "display_data"
    }
   ],
   "source": [
    "precision, recall, thresholds = precision_recall_curve(test_label, pred_df)\n",
    "\n",
    "print(\"f1-score: %0.4f\" %f1)\n",
    "plt.plot([0, 1], [0, 0], linestyle='--')\n",
    "plt.plot(recall, precision, marker='.')\n",
    "plt.show()"
   ]
  }
 ],
 "metadata": {
  "kernelspec": {
   "display_name": "ml",
   "language": "python",
   "name": "ml"
  },
  "language_info": {
   "codemirror_mode": {
    "name": "ipython",
    "version": 3
   },
   "file_extension": ".py",
   "mimetype": "text/x-python",
   "name": "python",
   "nbconvert_exporter": "python",
   "pygments_lexer": "ipython3",
   "version": "3.9.15"
  }
 },
 "nbformat": 4,
 "nbformat_minor": 5
}
