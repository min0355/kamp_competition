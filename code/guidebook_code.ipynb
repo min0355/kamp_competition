{
 "cells": [
  {
   "cell_type": "code",
   "execution_count": 1,
   "id": "17289de0",
   "metadata": {},
   "outputs": [
    {
     "data": {
      "text/html": [],
      "text/plain": [
       "<IPython.core.display.HTML object>"
      ]
     },
     "metadata": {},
     "output_type": "display_data"
    },
    {
     "name": "stdout",
     "output_type": "stream",
     "text": [
      "Setup Complete\n"
     ]
    }
   ],
   "source": [
    "# 가로로 넓게 쓰기\n",
    "from IPython.core.display import display, HTML  \n",
    "display(HTML(\"\"))\n",
    "\n",
    "print(\"Setup Complete\")"
   ]
  },
  {
   "cell_type": "code",
   "execution_count": 2,
   "id": "cca55e2e",
   "metadata": {},
   "outputs": [],
   "source": [
    "import time \n",
    "import datetime\n",
    "from datetime import datetime\n",
    "\n",
    "import pandas as pd\n",
    "import numpy as np\n",
    "import os\n",
    "\n",
    "import matplotlib\n",
    "%matplotlib inline \n",
    "import matplotlib.pyplot as plt\n",
    "import seaborn as sns\n",
    "sns.set_style('whitegrid')\n",
    "\n",
    "import pandas_profiling \n",
    "from tqdm.auto import tqdm\n",
    "from sklearn.preprocessing import MinMaxScaler\n",
    "\n",
    "import warnings\n",
    "warnings.filterwarnings('ignore')"
   ]
  },
  {
   "cell_type": "code",
   "execution_count": 3,
   "id": "b75600a6",
   "metadata": {},
   "outputs": [
    {
     "data": {
      "text/html": [
       "<div>\n",
       "<style scoped>\n",
       "    .dataframe tbody tr th:only-of-type {\n",
       "        vertical-align: middle;\n",
       "    }\n",
       "\n",
       "    .dataframe tbody tr th {\n",
       "        vertical-align: top;\n",
       "    }\n",
       "\n",
       "    .dataframe thead th {\n",
       "        text-align: right;\n",
       "    }\n",
       "</style>\n",
       "<table border=\"1\" class=\"dataframe\">\n",
       "  <thead>\n",
       "    <tr style=\"text-align: right;\">\n",
       "      <th></th>\n",
       "      <th>STD_DT</th>\n",
       "      <th>NUM</th>\n",
       "      <th>MELT_TEMP</th>\n",
       "      <th>MOTORSPEED</th>\n",
       "      <th>MELT_WEIGHT</th>\n",
       "      <th>INSP</th>\n",
       "      <th>TAG</th>\n",
       "    </tr>\n",
       "  </thead>\n",
       "  <tbody>\n",
       "    <tr>\n",
       "      <th>0</th>\n",
       "      <td>2020-03-04 0:00</td>\n",
       "      <td>0</td>\n",
       "      <td>489</td>\n",
       "      <td>116</td>\n",
       "      <td>631</td>\n",
       "      <td>3.19</td>\n",
       "      <td>OK</td>\n",
       "    </tr>\n",
       "    <tr>\n",
       "      <th>1</th>\n",
       "      <td>2020-03-04 0:00</td>\n",
       "      <td>1</td>\n",
       "      <td>433</td>\n",
       "      <td>78</td>\n",
       "      <td>609</td>\n",
       "      <td>3.19</td>\n",
       "      <td>OK</td>\n",
       "    </tr>\n",
       "    <tr>\n",
       "      <th>2</th>\n",
       "      <td>2020-03-04 0:00</td>\n",
       "      <td>2</td>\n",
       "      <td>464</td>\n",
       "      <td>154</td>\n",
       "      <td>608</td>\n",
       "      <td>3.19</td>\n",
       "      <td>OK</td>\n",
       "    </tr>\n",
       "    <tr>\n",
       "      <th>3</th>\n",
       "      <td>2020-03-04 0:00</td>\n",
       "      <td>3</td>\n",
       "      <td>379</td>\n",
       "      <td>212</td>\n",
       "      <td>606</td>\n",
       "      <td>3.19</td>\n",
       "      <td>OK</td>\n",
       "    </tr>\n",
       "    <tr>\n",
       "      <th>4</th>\n",
       "      <td>2020-03-04 0:00</td>\n",
       "      <td>4</td>\n",
       "      <td>798</td>\n",
       "      <td>1736</td>\n",
       "      <td>604</td>\n",
       "      <td>3.21</td>\n",
       "      <td>OK</td>\n",
       "    </tr>\n",
       "  </tbody>\n",
       "</table>\n",
       "</div>"
      ],
      "text/plain": [
       "            STD_DT  NUM  MELT_TEMP  MOTORSPEED  MELT_WEIGHT  INSP TAG\n",
       "0  2020-03-04 0:00    0        489         116          631  3.19  OK\n",
       "1  2020-03-04 0:00    1        433          78          609  3.19  OK\n",
       "2  2020-03-04 0:00    2        464         154          608  3.19  OK\n",
       "3  2020-03-04 0:00    3        379         212          606  3.19  OK\n",
       "4  2020-03-04 0:00    4        798        1736          604  3.21  OK"
      ]
     },
     "execution_count": 3,
     "metadata": {},
     "output_type": "execute_result"
    }
   ],
   "source": [
    "path = \"/home/kym/ML/input/kamp/대회 과제\"\n",
    "os.chdir(path)\n",
    "\n",
    "df = pd.read_csv('competition_dataset.csv', encoding='cp949')\n",
    "df.head()"
   ]
  },
  {
   "cell_type": "code",
   "execution_count": 4,
   "id": "54ab257f",
   "metadata": {},
   "outputs": [],
   "source": [
    "df['MELT_TEMP'] = (df['MELT_TEMP'] / 10) # 용해온도, 교반속도 데이터는 소수점 1 자리 생략 \n",
    "df['MOTORSPEED'] = (df['MOTORSPEED'] / 10)\n",
    "\n",
    "result_mapping = {\n",
    "    \"OK\": 1,\n",
    "    \"NG\": 0\n",
    "}\n",
    "\n",
    "df.loc[:, \"TAG\"] = df.TAG.map(result_mapping)\n",
    "df['STD_DT'] = df['STD_DT'].apply(lambda x: pd.to_datetime(str(x), format='%Y-%m-%d %H:%M'))\n",
    "df.set_index('STD_DT', inplace=True)"
   ]
  },
  {
   "cell_type": "code",
   "execution_count": 32,
   "id": "316c2f63",
   "metadata": {},
   "outputs": [],
   "source": [
    "# Heatmap\n",
    "\n",
    "fig, ax = plt.subplots(1, 1, figsize=(20, 20))\n",
    "df_corr = df.corr()\n",
    "\n",
    "mask = np.zeros_like(df_corr, dtype=np.bool)\n",
    "mask[np.triu_indices_from(mask)] = True\n",
    "\n",
    "sns.heatmap(df_corr, ax=ax,\n",
    "           square=True, center=0, linewidth=1,\n",
    "           cmap=sns.diverging_palette(240, 10, as_cmap=True),\n",
    "           cbar_kws={'shrink': .82},\n",
    "           mask=mask,\n",
    "           annot=True,\n",
    "           annot_kws={'size':7}\n",
    "           )\n",
    "ax.set_title(f'Correlation', loc='left', fontweight='bold')\n",
    "plt.show()"
   ]
  },
  {
   "cell_type": "code",
   "execution_count": 6,
   "id": "e4351be5",
   "metadata": {},
   "outputs": [
    {
     "data": {
      "text/html": [
       "<div>\n",
       "<style scoped>\n",
       "    .dataframe tbody tr th:only-of-type {\n",
       "        vertical-align: middle;\n",
       "    }\n",
       "\n",
       "    .dataframe tbody tr th {\n",
       "        vertical-align: top;\n",
       "    }\n",
       "\n",
       "    .dataframe thead th {\n",
       "        text-align: right;\n",
       "    }\n",
       "</style>\n",
       "<table border=\"1\" class=\"dataframe\">\n",
       "  <thead>\n",
       "    <tr style=\"text-align: right;\">\n",
       "      <th></th>\n",
       "      <th>NUM</th>\n",
       "      <th>MELT_TEMP</th>\n",
       "      <th>MOTORSPEED</th>\n",
       "      <th>MELT_WEIGHT</th>\n",
       "      <th>INSP</th>\n",
       "      <th>TAG</th>\n",
       "    </tr>\n",
       "  </thead>\n",
       "  <tbody>\n",
       "    <tr>\n",
       "      <th>NUM</th>\n",
       "      <td>1.000000</td>\n",
       "      <td>0.000188</td>\n",
       "      <td>-0.000050</td>\n",
       "      <td>0.080079</td>\n",
       "      <td>-0.000524</td>\n",
       "      <td>0.086698</td>\n",
       "    </tr>\n",
       "    <tr>\n",
       "      <th>MELT_TEMP</th>\n",
       "      <td>0.000188</td>\n",
       "      <td>1.000000</td>\n",
       "      <td>0.944929</td>\n",
       "      <td>-0.000336</td>\n",
       "      <td>0.916295</td>\n",
       "      <td>0.310586</td>\n",
       "    </tr>\n",
       "    <tr>\n",
       "      <th>MOTORSPEED</th>\n",
       "      <td>-0.000050</td>\n",
       "      <td>0.944929</td>\n",
       "      <td>1.000000</td>\n",
       "      <td>0.000123</td>\n",
       "      <td>0.887813</td>\n",
       "      <td>0.264693</td>\n",
       "    </tr>\n",
       "    <tr>\n",
       "      <th>MELT_WEIGHT</th>\n",
       "      <td>0.080079</td>\n",
       "      <td>-0.000336</td>\n",
       "      <td>0.000123</td>\n",
       "      <td>1.000000</td>\n",
       "      <td>-0.000005</td>\n",
       "      <td>-0.012084</td>\n",
       "    </tr>\n",
       "    <tr>\n",
       "      <th>INSP</th>\n",
       "      <td>-0.000524</td>\n",
       "      <td>0.916295</td>\n",
       "      <td>0.887813</td>\n",
       "      <td>-0.000005</td>\n",
       "      <td>1.000000</td>\n",
       "      <td>0.272580</td>\n",
       "    </tr>\n",
       "    <tr>\n",
       "      <th>TAG</th>\n",
       "      <td>0.086698</td>\n",
       "      <td>0.310586</td>\n",
       "      <td>0.264693</td>\n",
       "      <td>-0.012084</td>\n",
       "      <td>0.272580</td>\n",
       "      <td>1.000000</td>\n",
       "    </tr>\n",
       "  </tbody>\n",
       "</table>\n",
       "</div>"
      ],
      "text/plain": [
       "                  NUM  MELT_TEMP  MOTORSPEED  MELT_WEIGHT      INSP       TAG\n",
       "NUM          1.000000   0.000188   -0.000050     0.080079 -0.000524  0.086698\n",
       "MELT_TEMP    0.000188   1.000000    0.944929    -0.000336  0.916295  0.310586\n",
       "MOTORSPEED  -0.000050   0.944929    1.000000     0.000123  0.887813  0.264693\n",
       "MELT_WEIGHT  0.080079  -0.000336    0.000123     1.000000 -0.000005 -0.012084\n",
       "INSP        -0.000524   0.916295    0.887813    -0.000005  1.000000  0.272580\n",
       "TAG          0.086698   0.310586    0.264693    -0.012084  0.272580  1.000000"
      ]
     },
     "execution_count": 6,
     "metadata": {},
     "output_type": "execute_result"
    }
   ],
   "source": [
    "# melt_weight 는 종속 변수들과 상관 관계가 거의 없음. \n",
    "\n",
    "corr = df.corr(method='pearson')\n",
    "corr"
   ]
  },
  {
   "cell_type": "code",
   "execution_count": 7,
   "id": "1dadb639",
   "metadata": {},
   "outputs": [
    {
     "data": {
      "text/html": [
       "<div>\n",
       "<style scoped>\n",
       "    .dataframe tbody tr th:only-of-type {\n",
       "        vertical-align: middle;\n",
       "    }\n",
       "\n",
       "    .dataframe tbody tr th {\n",
       "        vertical-align: top;\n",
       "    }\n",
       "\n",
       "    .dataframe thead th {\n",
       "        text-align: right;\n",
       "    }\n",
       "</style>\n",
       "<table border=\"1\" class=\"dataframe\">\n",
       "  <thead>\n",
       "    <tr style=\"text-align: right;\">\n",
       "      <th></th>\n",
       "      <th>MELT_TEMP</th>\n",
       "      <th>MOTORSPEED</th>\n",
       "      <th>TAG</th>\n",
       "    </tr>\n",
       "    <tr>\n",
       "      <th>STD_DT</th>\n",
       "      <th></th>\n",
       "      <th></th>\n",
       "      <th></th>\n",
       "    </tr>\n",
       "  </thead>\n",
       "  <tbody>\n",
       "    <tr>\n",
       "      <th>2020-03-04</th>\n",
       "      <td>48.9</td>\n",
       "      <td>11.6</td>\n",
       "      <td>1</td>\n",
       "    </tr>\n",
       "    <tr>\n",
       "      <th>2020-03-04</th>\n",
       "      <td>43.3</td>\n",
       "      <td>7.8</td>\n",
       "      <td>1</td>\n",
       "    </tr>\n",
       "    <tr>\n",
       "      <th>2020-03-04</th>\n",
       "      <td>46.4</td>\n",
       "      <td>15.4</td>\n",
       "      <td>1</td>\n",
       "    </tr>\n",
       "    <tr>\n",
       "      <th>2020-03-04</th>\n",
       "      <td>37.9</td>\n",
       "      <td>21.2</td>\n",
       "      <td>1</td>\n",
       "    </tr>\n",
       "    <tr>\n",
       "      <th>2020-03-04</th>\n",
       "      <td>79.8</td>\n",
       "      <td>173.6</td>\n",
       "      <td>1</td>\n",
       "    </tr>\n",
       "  </tbody>\n",
       "</table>\n",
       "</div>"
      ],
      "text/plain": [
       "            MELT_TEMP  MOTORSPEED  TAG\n",
       "STD_DT                                \n",
       "2020-03-04       48.9        11.6    1\n",
       "2020-03-04       43.3         7.8    1\n",
       "2020-03-04       46.4        15.4    1\n",
       "2020-03-04       37.9        21.2    1\n",
       "2020-03-04       79.8       173.6    1"
      ]
     },
     "execution_count": 7,
     "metadata": {},
     "output_type": "execute_result"
    }
   ],
   "source": [
    "df1 = df[['MELT_TEMP', 'MOTORSPEED', 'TAG']]\n",
    "df1.head()"
   ]
  },
  {
   "cell_type": "code",
   "execution_count": 8,
   "id": "b70e8de2",
   "metadata": {},
   "outputs": [],
   "source": [
    "split_data = int(df1.shape[0] * 0.7)\n",
    "\n",
    "train = df1[:split_data]\n",
    "test = df1[split_data:]"
   ]
  },
  {
   "cell_type": "code",
   "execution_count": 9,
   "id": "4d14e616",
   "metadata": {},
   "outputs": [
    {
     "name": "stdout",
     "output_type": "stream",
     "text": [
      "(584640, 3)\n",
      "(250560, 3)\n"
     ]
    }
   ],
   "source": [
    "print(train.shape)\n",
    "print(test.shape)"
   ]
  },
  {
   "cell_type": "code",
   "execution_count": 10,
   "id": "59b13a3a",
   "metadata": {},
   "outputs": [],
   "source": [
    "from sklearn import preprocessing \n",
    "from sklearn.model_selection import train_test_split\n",
    "from sklearn.metrics import *\n",
    "from imblearn.over_sampling import SMOTE\n",
    "\n",
    "scaler = preprocessing.MinMaxScaler()\n",
    "\n",
    "train_sc = scaler.fit_transform(train)\n",
    "test_sc = scaler.transform(test)"
   ]
  },
  {
   "cell_type": "code",
   "execution_count": 11,
   "id": "2b0d7575",
   "metadata": {},
   "outputs": [
    {
     "data": {
      "text/plain": [
       "array([[0.34541985, 0.06430155, 1.        ],\n",
       "       [0.23854962, 0.04323725, 1.        ],\n",
       "       [0.29770992, 0.08536585, 1.        ],\n",
       "       ...,\n",
       "       [0.31679389, 0.08203991, 1.        ],\n",
       "       [0.1870229 , 0.03769401, 1.        ],\n",
       "       [0.32251908, 0.05820399, 1.        ]])"
      ]
     },
     "execution_count": 11,
     "metadata": {},
     "output_type": "execute_result"
    }
   ],
   "source": [
    "train_sc"
   ]
  },
  {
   "cell_type": "code",
   "execution_count": 12,
   "id": "5d46e8b9",
   "metadata": {},
   "outputs": [],
   "source": [
    "x_train_values = train_sc[:, :-1]\n",
    "y_train_values = train_sc[:, -1]"
   ]
  },
  {
   "cell_type": "code",
   "execution_count": 13,
   "id": "92804504",
   "metadata": {},
   "outputs": [
    {
     "name": "stdout",
     "output_type": "stream",
     "text": [
      "SMOTE 적용 전 데이터 셋:  (584640, 2) (584640,)\n",
      "SMOTE 적용 후 데이터 셋:  (821032, 2) (821032,)\n",
      "SMOTE 적용 후 LABEL 분포: \n",
      " 1.0    410516\n",
      "0.0    410516\n",
      "dtype: int64\n"
     ]
    }
   ],
   "source": [
    "smote = SMOTE(random_state=42)\n",
    "\n",
    "x_train_over, y_train_over = smote.fit_sample(x_train_values, y_train_values)\n",
    "print(\"SMOTE 적용 전 데이터 셋: \", x_train_values.shape, y_train_values.shape)\n",
    "print(\"SMOTE 적용 후 데이터 셋: \", x_train_over.shape, y_train_over.shape)\n",
    "print(\"SMOTE 적용 후 LABEL 분포: \\n\", pd.Series(y_train_over).value_counts())"
   ]
  },
  {
   "cell_type": "code",
   "execution_count": 14,
   "id": "38b68b10",
   "metadata": {},
   "outputs": [],
   "source": [
    "def make_dataset(data, label, window_size):\n",
    "    feature_list = []\n",
    "    label_list = []\n",
    "    \n",
    "    for i in range(len(data) - window_size):\n",
    "        feature_list.append(np.array(data.iloc[i : i+window_size]))\n",
    "        label_list.append(np.array(label.iloc[i+window_size]))\n",
    "    return np.array(feature_list), np.array(label_list)"
   ]
  },
  {
   "cell_type": "code",
   "execution_count": 15,
   "id": "3682e2d3",
   "metadata": {},
   "outputs": [],
   "source": [
    "x_train_over = pd.DataFrame(x_train_over, columns=['MELT_TEMP', 'MOTORSPEED'])\n",
    "y_train_over = pd.DataFrame(y_train_over, columns=['TAG'])"
   ]
  },
  {
   "cell_type": "code",
   "execution_count": 16,
   "id": "55afcbaa",
   "metadata": {},
   "outputs": [],
   "source": [
    "train_feature, train_label = make_dataset(x_train_over, y_train_over, 10)"
   ]
  },
  {
   "cell_type": "code",
   "execution_count": 17,
   "id": "b99a000c",
   "metadata": {},
   "outputs": [],
   "source": [
    "test_sc = pd.DataFrame(test_sc, columns=['MELT_TEMP', 'MOTORSPEED', 'TAG'])"
   ]
  },
  {
   "cell_type": "code",
   "execution_count": 18,
   "id": "8994bfd9",
   "metadata": {},
   "outputs": [],
   "source": [
    "feature_cols = ['MELT_TEMP', 'MOTORSPEED']\n",
    "label_cols = ['TAG']"
   ]
  },
  {
   "cell_type": "code",
   "execution_count": 19,
   "id": "afa819fe",
   "metadata": {},
   "outputs": [
    {
     "name": "stdout",
     "output_type": "stream",
     "text": [
      "(250550, 10, 2)\n",
      "(250550, 1)\n"
     ]
    }
   ],
   "source": [
    "test_feature = test_sc[feature_cols]\n",
    "test_label = test_sc[label_cols]\n",
    "\n",
    "test_feature, test_label = make_dataset(test_feature, test_label, 10)\n",
    "print(test_feature.shape)\n",
    "print(test_label.shape)"
   ]
  },
  {
   "cell_type": "code",
   "execution_count": 20,
   "id": "0dcadc07",
   "metadata": {},
   "outputs": [
    {
     "name": "stdout",
     "output_type": "stream",
     "text": [
      "(574715, 10, 2)\n",
      "(246307, 10, 2)\n"
     ]
    }
   ],
   "source": [
    "x_train, x_valid, y_train, y_valid = train_test_split(train_feature, train_label, test_size=0.3)\n",
    "print(x_train.shape)\n",
    "print(x_valid.shape)"
   ]
  },
  {
   "cell_type": "code",
   "execution_count": 21,
   "id": "1e5eb5ee",
   "metadata": {},
   "outputs": [],
   "source": [
    "from keras.models import Sequential\n",
    "from keras.layers import Dense, LSTM\n",
    "from keras.preprocessing import sequence\n",
    "from keras.utils import np_utils\n",
    "from keras.callbacks import EarlyStopping, ModelCheckpoint"
   ]
  },
  {
   "cell_type": "code",
   "execution_count": 22,
   "id": "611d39a1",
   "metadata": {},
   "outputs": [
    {
     "name": "stderr",
     "output_type": "stream",
     "text": [
      "2022-10-29 19:17:17.844554: I tensorflow/stream_executor/cuda/cuda_gpu_executor.cc:939] successful NUMA node read from SysFS had negative value (-1), but there must be at least one NUMA node, so returning NUMA node zero\n",
      "2022-10-29 19:17:17.863446: I tensorflow/stream_executor/cuda/cuda_gpu_executor.cc:939] successful NUMA node read from SysFS had negative value (-1), but there must be at least one NUMA node, so returning NUMA node zero\n",
      "2022-10-29 19:17:17.863585: I tensorflow/stream_executor/cuda/cuda_gpu_executor.cc:939] successful NUMA node read from SysFS had negative value (-1), but there must be at least one NUMA node, so returning NUMA node zero\n",
      "2022-10-29 19:17:17.864050: I tensorflow/core/platform/cpu_feature_guard.cc:151] This TensorFlow binary is optimized with oneAPI Deep Neural Network Library (oneDNN) to use the following CPU instructions in performance-critical operations:  AVX2 FMA\n",
      "To enable them in other operations, rebuild TensorFlow with the appropriate compiler flags.\n",
      "2022-10-29 19:17:17.864739: I tensorflow/stream_executor/cuda/cuda_gpu_executor.cc:939] successful NUMA node read from SysFS had negative value (-1), but there must be at least one NUMA node, so returning NUMA node zero\n",
      "2022-10-29 19:17:17.864871: I tensorflow/stream_executor/cuda/cuda_gpu_executor.cc:939] successful NUMA node read from SysFS had negative value (-1), but there must be at least one NUMA node, so returning NUMA node zero\n",
      "2022-10-29 19:17:17.864980: I tensorflow/stream_executor/cuda/cuda_gpu_executor.cc:939] successful NUMA node read from SysFS had negative value (-1), but there must be at least one NUMA node, so returning NUMA node zero\n",
      "2022-10-29 19:17:18.123480: I tensorflow/stream_executor/cuda/cuda_gpu_executor.cc:939] successful NUMA node read from SysFS had negative value (-1), but there must be at least one NUMA node, so returning NUMA node zero\n",
      "2022-10-29 19:17:18.123633: I tensorflow/stream_executor/cuda/cuda_gpu_executor.cc:939] successful NUMA node read from SysFS had negative value (-1), but there must be at least one NUMA node, so returning NUMA node zero\n",
      "2022-10-29 19:17:18.123762: I tensorflow/stream_executor/cuda/cuda_gpu_executor.cc:939] successful NUMA node read from SysFS had negative value (-1), but there must be at least one NUMA node, so returning NUMA node zero\n",
      "2022-10-29 19:17:18.123842: W tensorflow/core/common_runtime/gpu/gpu_bfc_allocator.cc:39] Overriding allow_growth setting because the TF_FORCE_GPU_ALLOW_GROWTH environment variable is set. Original config value was 0.\n",
      "2022-10-29 19:17:18.123871: I tensorflow/core/common_runtime/gpu/gpu_device.cc:1525] Created device /job:localhost/replica:0/task:0/device:GPU:0 with 9768 MB memory:  -> device: 0, name: NVIDIA GeForce RTX 3060, pci bus id: 0000:0b:00.0, compute capability: 8.6\n"
     ]
    }
   ],
   "source": [
    "model = Sequential()\n",
    "model.add(LSTM(50,\n",
    "              input_shape=(train_feature.shape[1], train_feature.shape[2]),\n",
    "              activation='tanh',\n",
    "              return_sequences=False)\n",
    "         )\n",
    "model.add(Dense(1, activation='sigmoid'))"
   ]
  },
  {
   "cell_type": "code",
   "execution_count": 23,
   "id": "38862172",
   "metadata": {},
   "outputs": [],
   "source": [
    "model_path = path"
   ]
  },
  {
   "cell_type": "code",
   "execution_count": 24,
   "id": "2ee0f64f",
   "metadata": {},
   "outputs": [],
   "source": [
    "model.compile(loss='binary_crossentropy', optimizer='adam', metrics=['accuracy'])\n",
    "early_stop = EarlyStopping(monitor='val_loss', patience=5)\n",
    "filename = os.path.join(model_path, 'tmp_checkpoint.h5')\n",
    "checkpoint = ModelCheckpoint(filename, monitor='val_loss', verbose=1,\n",
    "                            save_best_only=True, mode='auto')"
   ]
  },
  {
   "cell_type": "code",
   "execution_count": 25,
   "id": "c04addd9",
   "metadata": {},
   "outputs": [
    {
     "name": "stdout",
     "output_type": "stream",
     "text": [
      "Epoch 1/200\n",
      "    1/11495 [..............................] - ETA: 4:21:06 - loss: 0.6923 - accuracy: 0.6000"
     ]
    },
    {
     "name": "stderr",
     "output_type": "stream",
     "text": [
      "2022-10-29 19:17:19.535839: I tensorflow/stream_executor/cuda/cuda_dnn.cc:366] Loaded cuDNN version 8302\n",
      "2022-10-29 19:17:19.607901: I tensorflow/stream_executor/cuda/cuda_blas.cc:1774] TensorFloat-32 will be used for the matrix multiplication. This will only be logged once.\n"
     ]
    },
    {
     "name": "stdout",
     "output_type": "stream",
     "text": [
      "11492/11495 [============================>.] - ETA: 0s - loss: 0.3622 - accuracy: 0.7974\n",
      "Epoch 00001: val_loss improved from inf to 0.34606, saving model to /home/kym/ML/input/kamp/대회 과제/tmp_checkpoint.h5\n",
      "11495/11495 [==============================] - 31s 3ms/step - loss: 0.3622 - accuracy: 0.7974 - val_loss: 0.3461 - val_accuracy: 0.8041\n",
      "Epoch 2/200\n",
      "11473/11495 [============================>.] - ETA: 0s - loss: 0.3471 - accuracy: 0.8038\n",
      "Epoch 00002: val_loss improved from 0.34606 to 0.34585, saving model to /home/kym/ML/input/kamp/대회 과제/tmp_checkpoint.h5\n",
      "11495/11495 [==============================] - 29s 3ms/step - loss: 0.3471 - accuracy: 0.8038 - val_loss: 0.3459 - val_accuracy: 0.8037\n",
      "Epoch 3/200\n",
      "11476/11495 [============================>.] - ETA: 0s - loss: 0.3466 - accuracy: 0.8045\n",
      "Epoch 00003: val_loss did not improve from 0.34585\n",
      "11495/11495 [==============================] - 28s 2ms/step - loss: 0.3466 - accuracy: 0.8045 - val_loss: 0.3459 - val_accuracy: 0.8053\n",
      "Epoch 4/200\n",
      "11480/11495 [============================>.] - ETA: 0s - loss: 0.3464 - accuracy: 0.8050\n",
      "Epoch 00004: val_loss did not improve from 0.34585\n",
      "11495/11495 [==============================] - 28s 2ms/step - loss: 0.3464 - accuracy: 0.8049 - val_loss: 0.3463 - val_accuracy: 0.8046\n",
      "Epoch 5/200\n",
      "11474/11495 [============================>.] - ETA: 0s - loss: 0.3463 - accuracy: 0.8048\n",
      "Epoch 00005: val_loss improved from 0.34585 to 0.34548, saving model to /home/kym/ML/input/kamp/대회 과제/tmp_checkpoint.h5\n",
      "11495/11495 [==============================] - 27s 2ms/step - loss: 0.3464 - accuracy: 0.8048 - val_loss: 0.3455 - val_accuracy: 0.8053\n",
      "Epoch 6/200\n",
      "11467/11495 [============================>.] - ETA: 0s - loss: 0.3463 - accuracy: 0.8049\n",
      "Epoch 00006: val_loss improved from 0.34548 to 0.34536, saving model to /home/kym/ML/input/kamp/대회 과제/tmp_checkpoint.h5\n",
      "11495/11495 [==============================] - 27s 2ms/step - loss: 0.3463 - accuracy: 0.8049 - val_loss: 0.3454 - val_accuracy: 0.8053\n",
      "Epoch 7/200\n",
      "11474/11495 [============================>.] - ETA: 0s - loss: 0.3463 - accuracy: 0.8046\n",
      "Epoch 00007: val_loss did not improve from 0.34536\n",
      "11495/11495 [==============================] - 28s 2ms/step - loss: 0.3463 - accuracy: 0.8047 - val_loss: 0.3454 - val_accuracy: 0.8053\n",
      "Epoch 8/200\n",
      "11485/11495 [============================>.] - ETA: 0s - loss: 0.3463 - accuracy: 0.8051\n",
      "Epoch 00008: val_loss did not improve from 0.34536\n",
      "11495/11495 [==============================] - 28s 2ms/step - loss: 0.3463 - accuracy: 0.8051 - val_loss: 0.3454 - val_accuracy: 0.8049\n",
      "Epoch 9/200\n",
      "11472/11495 [============================>.] - ETA: 0s - loss: 0.3462 - accuracy: 0.8049\n",
      "Epoch 00009: val_loss did not improve from 0.34536\n",
      "11495/11495 [==============================] - 27s 2ms/step - loss: 0.3462 - accuracy: 0.8049 - val_loss: 0.3455 - val_accuracy: 0.8041\n",
      "Epoch 10/200\n",
      "11493/11495 [============================>.] - ETA: 0s - loss: 0.3462 - accuracy: 0.8049\n",
      "Epoch 00010: val_loss did not improve from 0.34536\n",
      "11495/11495 [==============================] - 27s 2ms/step - loss: 0.3462 - accuracy: 0.8049 - val_loss: 0.3455 - val_accuracy: 0.8049\n",
      "Epoch 11/200\n",
      "11480/11495 [============================>.] - ETA: 0s - loss: 0.3462 - accuracy: 0.8052\n",
      "Epoch 00011: val_loss did not improve from 0.34536\n",
      "11495/11495 [==============================] - 27s 2ms/step - loss: 0.3462 - accuracy: 0.8052 - val_loss: 0.3455 - val_accuracy: 0.8041\n"
     ]
    }
   ],
   "source": [
    "history = model.fit(x_train, y_train,\n",
    "                   epochs=200,\n",
    "                   batch_size=50,\n",
    "                   validation_data=(x_valid, y_valid),\n",
    "                   callbacks=[early_stop, checkpoint])"
   ]
  },
  {
   "cell_type": "code",
   "execution_count": 26,
   "id": "e6968e7a",
   "metadata": {},
   "outputs": [],
   "source": [
    "model.load_weights(filename)\n",
    "pred = model.predict(test_feature)"
   ]
  },
  {
   "cell_type": "code",
   "execution_count": 27,
   "id": "aea9698b",
   "metadata": {},
   "outputs": [],
   "source": [
    "plt.plot(history.history['loss'], label='train')\n",
    "plt.plot(history.history['val_loss'], label='validation')\n",
    "plt.legend()\n",
    "plt.show()"
   ]
  },
  {
   "cell_type": "code",
   "execution_count": 28,
   "id": "975b6419",
   "metadata": {},
   "outputs": [],
   "source": [
    "pred_df = pd.DataFrame(pred, columns=['TAG'])\n",
    "pred_df['TAG'] = pred_df['TAG'].apply(lambda x: 1 if x >= 0.5 else 0)"
   ]
  },
  {
   "cell_type": "code",
   "execution_count": 29,
   "id": "bea7b183",
   "metadata": {},
   "outputs": [
    {
     "data": {
      "text/plain": [
       "1    200440\n",
       "0     50110\n",
       "Name: TAG, dtype: int64"
      ]
     },
     "execution_count": 29,
     "metadata": {},
     "output_type": "execute_result"
    }
   ],
   "source": [
    "pred_df['TAG'].value_counts()"
   ]
  },
  {
   "cell_type": "code",
   "execution_count": 30,
   "id": "dbace894",
   "metadata": {},
   "outputs": [
    {
     "name": "stdout",
     "output_type": "stream",
     "text": [
      "[[  2155    785]\n",
      " [ 47955 199655]]\n"
     ]
    }
   ],
   "source": [
    "classify = confusion_matrix(test_label, pred_df)\n",
    "print(classify)"
   ]
  },
  {
   "cell_type": "code",
   "execution_count": 31,
   "id": "35b1bf45",
   "metadata": {},
   "outputs": [
    {
     "name": "stdout",
     "output_type": "stream",
     "text": [
      "precision: 0.9961\n",
      "recall: 0.8063\n",
      "f1-score: 0.8912\n",
      "accuracy: 0.8055\n"
     ]
    }
   ],
   "source": [
    "p = precision_score(test_label, pred_df)\n",
    "print(\"precision: %0.4f\" %p)\n",
    "r = recall_score(test_label, pred_df)\n",
    "print(\"recall: %0.4f\" %r)\n",
    "f1 = f1_score(test_label, pred_df)\n",
    "print(\"f1-score: %0.4f\" %f1)\n",
    "acc = accuracy_score(test_label, pred_df)\n",
    "print(\"accuracy: %0.4f\" %acc)"
   ]
  }
 ],
 "metadata": {
  "kernelspec": {
   "display_name": "ml",
   "language": "python",
   "name": "ml"
  },
  "language_info": {
   "codemirror_mode": {
    "name": "ipython",
    "version": 3
   },
   "file_extension": ".py",
   "mimetype": "text/x-python",
   "name": "python",
   "nbconvert_exporter": "python",
   "pygments_lexer": "ipython3",
   "version": "3.9.13"
  }
 },
 "nbformat": 4,
 "nbformat_minor": 5
}
